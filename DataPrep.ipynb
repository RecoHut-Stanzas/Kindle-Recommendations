{
 "cells": [
  {
   "cell_type": "markdown",
   "metadata": {},
   "source": [
    "# Kindle Book Recommender System"
   ]
  },
  {
   "cell_type": "markdown",
   "metadata": {},
   "source": [
    "### Imports"
   ]
  },
  {
   "cell_type": "code",
   "execution_count": 1,
   "metadata": {},
   "outputs": [],
   "source": [
    "#!pip install texthero\n",
    "import pandas as pd\n",
    "import numpy as np\n",
    "from surprise import Dataset, Reader, accuracy\n",
    "from surprise.model_selection import train_test_split, cross_validate\n",
    "from surprise.prediction_algorithms import KNNWithMeans, KNNBasic, KNNBaseline, SVD\n",
    "from surprise.similarities import cosine, msd, pearson\n",
    "import matplotlib as plt"
   ]
  },
  {
   "cell_type": "code",
   "execution_count": 2,
   "metadata": {},
   "outputs": [],
   "source": [
    "df_rev = pd.read_csv('Data/scifan_rev.csv', index_col=0)"
   ]
  },
  {
   "cell_type": "code",
   "execution_count": 3,
   "metadata": {},
   "outputs": [
    {
     "data": {
      "text/html": [
       "<div>\n",
       "<style scoped>\n",
       "    .dataframe tbody tr th:only-of-type {\n",
       "        vertical-align: middle;\n",
       "    }\n",
       "\n",
       "    .dataframe tbody tr th {\n",
       "        vertical-align: top;\n",
       "    }\n",
       "\n",
       "    .dataframe thead th {\n",
       "        text-align: right;\n",
       "    }\n",
       "</style>\n",
       "<table border=\"1\" class=\"dataframe\">\n",
       "  <thead>\n",
       "    <tr style=\"text-align: right;\">\n",
       "      <th></th>\n",
       "      <th>overall</th>\n",
       "      <th>reviewTime</th>\n",
       "      <th>reviewerID</th>\n",
       "      <th>asin</th>\n",
       "      <th>reviewText</th>\n",
       "      <th>summary</th>\n",
       "    </tr>\n",
       "  </thead>\n",
       "  <tbody>\n",
       "    <tr>\n",
       "      <th>10</th>\n",
       "      <td>4</td>\n",
       "      <td>05 17, 2011</td>\n",
       "      <td>AQZH7YTWQPOBE</td>\n",
       "      <td>B000FA64QO</td>\n",
       "      <td>Most of the New Jedi Order books focus on the ...</td>\n",
       "      <td>A Thrackan story</td>\n",
       "    </tr>\n",
       "    <tr>\n",
       "      <th>11</th>\n",
       "      <td>5</td>\n",
       "      <td>01 27, 2014</td>\n",
       "      <td>A1ZT7WV0ZUA0OJ</td>\n",
       "      <td>B000FA64QO</td>\n",
       "      <td>I was hoping to find this one in book form. Th...</td>\n",
       "      <td>my e- collection</td>\n",
       "    </tr>\n",
       "    <tr>\n",
       "      <th>12</th>\n",
       "      <td>2</td>\n",
       "      <td>04 15, 2013</td>\n",
       "      <td>A19T7R8I566N5Y</td>\n",
       "      <td>B000FA64QO</td>\n",
       "      <td>Books are supposed to be made of paper and ink...</td>\n",
       "      <td>I really hate e-books</td>\n",
       "    </tr>\n",
       "    <tr>\n",
       "      <th>13</th>\n",
       "      <td>3</td>\n",
       "      <td>08 7, 2012</td>\n",
       "      <td>A22CW0ZHY3NJH8</td>\n",
       "      <td>B000FA64QO</td>\n",
       "      <td>The events of \"Ylesia\" take place during \"Dest...</td>\n",
       "      <td>One huge chapter</td>\n",
       "    </tr>\n",
       "    <tr>\n",
       "      <th>156</th>\n",
       "      <td>5</td>\n",
       "      <td>12 29, 2017</td>\n",
       "      <td>A2I8RAPMHOLR41</td>\n",
       "      <td>B000FBJBA4</td>\n",
       "      <td>It started out good, slowed down and picked up...</td>\n",
       "      <td>Most Excellent</td>\n",
       "    </tr>\n",
       "    <tr>\n",
       "      <th>...</th>\n",
       "      <td>...</td>\n",
       "      <td>...</td>\n",
       "      <td>...</td>\n",
       "      <td>...</td>\n",
       "      <td>...</td>\n",
       "      <td>...</td>\n",
       "    </tr>\n",
       "    <tr>\n",
       "      <th>2222944</th>\n",
       "      <td>5</td>\n",
       "      <td>02 1, 2017</td>\n",
       "      <td>A2AVG3WXEYCSFQ</td>\n",
       "      <td>B01HJBPUWA</td>\n",
       "      <td>I loved the blending of computer games with fa...</td>\n",
       "      <td>Exciting stories</td>\n",
       "    </tr>\n",
       "    <tr>\n",
       "      <th>2222946</th>\n",
       "      <td>4</td>\n",
       "      <td>08 27, 2016</td>\n",
       "      <td>A8NRHVZY1EETX</td>\n",
       "      <td>B01HJBPUWA</td>\n",
       "      <td>Overall, a fine group of uniquely different st...</td>\n",
       "      <td>Primarily pleasing tales of the fantastic</td>\n",
       "    </tr>\n",
       "    <tr>\n",
       "      <th>2222947</th>\n",
       "      <td>4</td>\n",
       "      <td>08 9, 2016</td>\n",
       "      <td>A1X2L9GD8HJ3A3</td>\n",
       "      <td>B01HJBPUWA</td>\n",
       "      <td>Interesting story with more than a few surprises</td>\n",
       "      <td>Enjoyed it very much</td>\n",
       "    </tr>\n",
       "    <tr>\n",
       "      <th>2222948</th>\n",
       "      <td>5</td>\n",
       "      <td>07 17, 2016</td>\n",
       "      <td>A1UXNP3BXWZPTO</td>\n",
       "      <td>B01HJBPUWA</td>\n",
       "      <td>Loved every story.  Such a fantastic idea and ...</td>\n",
       "      <td>Great read</td>\n",
       "    </tr>\n",
       "    <tr>\n",
       "      <th>2222950</th>\n",
       "      <td>4</td>\n",
       "      <td>07 16, 2016</td>\n",
       "      <td>A1JZ4FS11TU1LW</td>\n",
       "      <td>B01HJBPUWA</td>\n",
       "      <td>Like most anthologies, some stories are strong...</td>\n",
       "      <td>Like most anthologies</td>\n",
       "    </tr>\n",
       "  </tbody>\n",
       "</table>\n",
       "<p>96354 rows × 6 columns</p>\n",
       "</div>"
      ],
      "text/plain": [
       "         overall   reviewTime      reviewerID        asin  \\\n",
       "10             4  05 17, 2011   AQZH7YTWQPOBE  B000FA64QO   \n",
       "11             5  01 27, 2014  A1ZT7WV0ZUA0OJ  B000FA64QO   \n",
       "12             2  04 15, 2013  A19T7R8I566N5Y  B000FA64QO   \n",
       "13             3   08 7, 2012  A22CW0ZHY3NJH8  B000FA64QO   \n",
       "156            5  12 29, 2017  A2I8RAPMHOLR41  B000FBJBA4   \n",
       "...          ...          ...             ...         ...   \n",
       "2222944        5   02 1, 2017  A2AVG3WXEYCSFQ  B01HJBPUWA   \n",
       "2222946        4  08 27, 2016   A8NRHVZY1EETX  B01HJBPUWA   \n",
       "2222947        4   08 9, 2016  A1X2L9GD8HJ3A3  B01HJBPUWA   \n",
       "2222948        5  07 17, 2016  A1UXNP3BXWZPTO  B01HJBPUWA   \n",
       "2222950        4  07 16, 2016  A1JZ4FS11TU1LW  B01HJBPUWA   \n",
       "\n",
       "                                                reviewText  \\\n",
       "10       Most of the New Jedi Order books focus on the ...   \n",
       "11       I was hoping to find this one in book form. Th...   \n",
       "12       Books are supposed to be made of paper and ink...   \n",
       "13       The events of \"Ylesia\" take place during \"Dest...   \n",
       "156      It started out good, slowed down and picked up...   \n",
       "...                                                    ...   \n",
       "2222944  I loved the blending of computer games with fa...   \n",
       "2222946  Overall, a fine group of uniquely different st...   \n",
       "2222947   Interesting story with more than a few surprises   \n",
       "2222948  Loved every story.  Such a fantastic idea and ...   \n",
       "2222950  Like most anthologies, some stories are strong...   \n",
       "\n",
       "                                           summary  \n",
       "10                                A Thrackan story  \n",
       "11                                my e- collection  \n",
       "12                           I really hate e-books  \n",
       "13                                One huge chapter  \n",
       "156                                 Most Excellent  \n",
       "...                                            ...  \n",
       "2222944                           Exciting stories  \n",
       "2222946  Primarily pleasing tales of the fantastic  \n",
       "2222947                       Enjoyed it very much  \n",
       "2222948                                 Great read  \n",
       "2222950                      Like most anthologies  \n",
       "\n",
       "[96354 rows x 6 columns]"
      ]
     },
     "execution_count": 3,
     "metadata": {},
     "output_type": "execute_result"
    }
   ],
   "source": [
    "df_rev"
   ]
  },
  {
   "cell_type": "code",
   "execution_count": 4,
   "metadata": {},
   "outputs": [
    {
     "data": {
      "text/plain": [
       "overall        0\n",
       "reviewTime     0\n",
       "reviewerID     0\n",
       "asin           0\n",
       "reviewText     7\n",
       "summary       29\n",
       "dtype: int64"
      ]
     },
     "execution_count": 4,
     "metadata": {},
     "output_type": "execute_result"
    }
   ],
   "source": [
    "df_rev.isna().sum()"
   ]
  },
  {
   "cell_type": "code",
   "execution_count": 5,
   "metadata": {},
   "outputs": [],
   "source": [
    "df_rev.dropna(inplace=True)"
   ]
  },
  {
   "cell_type": "code",
   "execution_count": 6,
   "metadata": {
    "scrolled": true
   },
   "outputs": [
    {
     "name": "stdout",
     "output_type": "stream",
     "text": [
      "<class 'pandas.core.frame.DataFrame'>\n",
      "Int64Index: 96318 entries, 10 to 2222950\n",
      "Data columns (total 6 columns):\n",
      " #   Column      Non-Null Count  Dtype \n",
      "---  ------      --------------  ----- \n",
      " 0   overall     96318 non-null  int64 \n",
      " 1   reviewTime  96318 non-null  object\n",
      " 2   reviewerID  96318 non-null  object\n",
      " 3   asin        96318 non-null  object\n",
      " 4   reviewText  96318 non-null  object\n",
      " 5   summary     96318 non-null  object\n",
      "dtypes: int64(1), object(5)\n",
      "memory usage: 5.1+ MB\n"
     ]
    }
   ],
   "source": [
    "df_rev.info()"
   ]
  },
  {
   "cell_type": "code",
   "execution_count": 7,
   "metadata": {},
   "outputs": [
    {
     "data": {
      "text/plain": [
       "AYUTCGVSM1H7T     190\n",
       "A10ED33F8VY4GU    117\n",
       "A15IF7NAB1Y196    110\n",
       "A2UMJFC1YME1R2     99\n",
       "AX59HEWTONQ1M      98\n",
       "                 ... \n",
       "A3CJQPNI9FD5TH      1\n",
       "A1120M9ZK2U3FQ      1\n",
       "A21OEPQLU5D37M      1\n",
       "A27D9PEEP0N5U8      1\n",
       "A13O4DKZ14RIRE      1\n",
       "Name: reviewerID, Length: 31334, dtype: int64"
      ]
     },
     "execution_count": 7,
     "metadata": {},
     "output_type": "execute_result"
    }
   ],
   "source": [
    "df_rev['reviewerID'].value_counts()"
   ]
  },
  {
   "cell_type": "code",
   "execution_count": 8,
   "metadata": {},
   "outputs": [],
   "source": [
    "df_rev5 = df_rev[df_rev['reviewerID'].map(df_rev['reviewerID'].value_counts()) > 4]"
   ]
  },
  {
   "cell_type": "code",
   "execution_count": 9,
   "metadata": {
    "scrolled": true
   },
   "outputs": [
    {
     "data": {
      "text/plain": [
       "AYUTCGVSM1H7T     190\n",
       "A10ED33F8VY4GU    117\n",
       "A15IF7NAB1Y196    110\n",
       "A2UMJFC1YME1R2     99\n",
       "AX59HEWTONQ1M      98\n",
       "                 ... \n",
       "A4GNB2DIVOVGN       5\n",
       "A155SWRGBW8TWG      5\n",
       "A3BCKCRL7Q3DH8      5\n",
       "A6R8RIIQT6TBJ       5\n",
       "AA0IA2A58P6RZ       5\n",
       "Name: reviewerID, Length: 5405, dtype: int64"
      ]
     },
     "execution_count": 9,
     "metadata": {},
     "output_type": "execute_result"
    }
   ],
   "source": [
    "df_rev5['reviewerID'].value_counts()"
   ]
  },
  {
   "cell_type": "code",
   "execution_count": 10,
   "metadata": {
    "scrolled": false
   },
   "outputs": [
    {
     "name": "stdout",
     "output_type": "stream",
     "text": [
      "<class 'pandas.core.frame.DataFrame'>\n",
      "Int64Index: 50127 entries, 12 to 2222948\n",
      "Data columns (total 6 columns):\n",
      " #   Column      Non-Null Count  Dtype \n",
      "---  ------      --------------  ----- \n",
      " 0   overall     50127 non-null  int64 \n",
      " 1   reviewTime  50127 non-null  object\n",
      " 2   reviewerID  50127 non-null  object\n",
      " 3   asin        50127 non-null  object\n",
      " 4   reviewText  50127 non-null  object\n",
      " 5   summary     50127 non-null  object\n",
      "dtypes: int64(1), object(5)\n",
      "memory usage: 2.7+ MB\n"
     ]
    }
   ],
   "source": [
    "df_rev5.info()"
   ]
  },
  {
   "cell_type": "code",
   "execution_count": 11,
   "metadata": {
    "scrolled": false
   },
   "outputs": [
    {
     "data": {
      "text/plain": [
       "<AxesSubplot:>"
      ]
     },
     "execution_count": 11,
     "metadata": {},
     "output_type": "execute_result"
    },
    {
     "data": {
      "image/png": "[encoded data removed]",
      "text/plain": [
       "<Figure size 432x288 with 1 Axes>"
      ]
     },
     "metadata": {
      "needs_background": "light"
     },
     "output_type": "display_data"
    }
   ],
   "source": [
    "reviewers = df_rev5['reviewerID'].value_counts()\n",
    "reviewers.plot()"
   ]
  },
  {
   "cell_type": "code",
   "execution_count": 12,
   "metadata": {},
   "outputs": [],
   "source": [
    "popular = df_rev5.groupby(by = 'asin').count()\n",
    "popular = popular.sort_values(by = 'overall', ascending=False)"
   ]
  },
  {
   "cell_type": "code",
   "execution_count": 13,
   "metadata": {},
   "outputs": [
    {
     "data": {
      "text/html": [
       "<div>\n",
       "<style scoped>\n",
       "    .dataframe tbody tr th:only-of-type {\n",
       "        vertical-align: middle;\n",
       "    }\n",
       "\n",
       "    .dataframe tbody tr th {\n",
       "        vertical-align: top;\n",
       "    }\n",
       "\n",
       "    .dataframe thead th {\n",
       "        text-align: right;\n",
       "    }\n",
       "</style>\n",
       "<table border=\"1\" class=\"dataframe\">\n",
       "  <thead>\n",
       "    <tr style=\"text-align: right;\">\n",
       "      <th></th>\n",
       "      <th>overall</th>\n",
       "      <th>reviewTime</th>\n",
       "      <th>reviewerID</th>\n",
       "      <th>reviewText</th>\n",
       "      <th>summary</th>\n",
       "    </tr>\n",
       "    <tr>\n",
       "      <th>asin</th>\n",
       "      <th></th>\n",
       "      <th></th>\n",
       "      <th></th>\n",
       "      <th></th>\n",
       "      <th></th>\n",
       "    </tr>\n",
       "  </thead>\n",
       "  <tbody>\n",
       "    <tr>\n",
       "      <th>B00E9YL3HM</th>\n",
       "      <td>137</td>\n",
       "      <td>137</td>\n",
       "      <td>137</td>\n",
       "      <td>137</td>\n",
       "      <td>137</td>\n",
       "    </tr>\n",
       "    <tr>\n",
       "      <th>B00HGFP8W2</th>\n",
       "      <td>116</td>\n",
       "      <td>116</td>\n",
       "      <td>116</td>\n",
       "      <td>116</td>\n",
       "      <td>116</td>\n",
       "    </tr>\n",
       "    <tr>\n",
       "      <th>B00PXGD274</th>\n",
       "      <td>116</td>\n",
       "      <td>116</td>\n",
       "      <td>116</td>\n",
       "      <td>116</td>\n",
       "      <td>116</td>\n",
       "    </tr>\n",
       "    <tr>\n",
       "      <th>B004Z99U3K</th>\n",
       "      <td>100</td>\n",
       "      <td>100</td>\n",
       "      <td>100</td>\n",
       "      <td>100</td>\n",
       "      <td>100</td>\n",
       "    </tr>\n",
       "    <tr>\n",
       "      <th>B00L4VXSDA</th>\n",
       "      <td>97</td>\n",
       "      <td>97</td>\n",
       "      <td>97</td>\n",
       "      <td>97</td>\n",
       "      <td>97</td>\n",
       "    </tr>\n",
       "    <tr>\n",
       "      <th>...</th>\n",
       "      <td>...</td>\n",
       "      <td>...</td>\n",
       "      <td>...</td>\n",
       "      <td>...</td>\n",
       "      <td>...</td>\n",
       "    </tr>\n",
       "    <tr>\n",
       "      <th>B019991BAK</th>\n",
       "      <td>1</td>\n",
       "      <td>1</td>\n",
       "      <td>1</td>\n",
       "      <td>1</td>\n",
       "      <td>1</td>\n",
       "    </tr>\n",
       "    <tr>\n",
       "      <th>B0199UOI18</th>\n",
       "      <td>1</td>\n",
       "      <td>1</td>\n",
       "      <td>1</td>\n",
       "      <td>1</td>\n",
       "      <td>1</td>\n",
       "    </tr>\n",
       "    <tr>\n",
       "      <th>B00H5FW3C6</th>\n",
       "      <td>1</td>\n",
       "      <td>1</td>\n",
       "      <td>1</td>\n",
       "      <td>1</td>\n",
       "      <td>1</td>\n",
       "    </tr>\n",
       "    <tr>\n",
       "      <th>B005C4T3AM</th>\n",
       "      <td>1</td>\n",
       "      <td>1</td>\n",
       "      <td>1</td>\n",
       "      <td>1</td>\n",
       "      <td>1</td>\n",
       "    </tr>\n",
       "    <tr>\n",
       "      <th>B000FA64QO</th>\n",
       "      <td>1</td>\n",
       "      <td>1</td>\n",
       "      <td>1</td>\n",
       "      <td>1</td>\n",
       "      <td>1</td>\n",
       "    </tr>\n",
       "  </tbody>\n",
       "</table>\n",
       "<p>6244 rows × 5 columns</p>\n",
       "</div>"
      ],
      "text/plain": [
       "            overall  reviewTime  reviewerID  reviewText  summary\n",
       "asin                                                            \n",
       "B00E9YL3HM      137         137         137         137      137\n",
       "B00HGFP8W2      116         116         116         116      116\n",
       "B00PXGD274      116         116         116         116      116\n",
       "B004Z99U3K      100         100         100         100      100\n",
       "B00L4VXSDA       97          97          97          97       97\n",
       "...             ...         ...         ...         ...      ...\n",
       "B019991BAK        1           1           1           1        1\n",
       "B0199UOI18        1           1           1           1        1\n",
       "B00H5FW3C6        1           1           1           1        1\n",
       "B005C4T3AM        1           1           1           1        1\n",
       "B000FA64QO        1           1           1           1        1\n",
       "\n",
       "[6244 rows x 5 columns]"
      ]
     },
     "execution_count": 13,
     "metadata": {},
     "output_type": "execute_result"
    }
   ],
   "source": [
    "popular"
   ]
  },
  {
   "cell_type": "code",
   "execution_count": 14,
   "metadata": {
    "scrolled": true
   },
   "outputs": [
    {
     "data": {
      "text/html": [
       "<div>\n",
       "<style scoped>\n",
       "    .dataframe tbody tr th:only-of-type {\n",
       "        vertical-align: middle;\n",
       "    }\n",
       "\n",
       "    .dataframe tbody tr th {\n",
       "        vertical-align: top;\n",
       "    }\n",
       "\n",
       "    .dataframe thead th {\n",
       "        text-align: right;\n",
       "    }\n",
       "</style>\n",
       "<table border=\"1\" class=\"dataframe\">\n",
       "  <thead>\n",
       "    <tr style=\"text-align: right;\">\n",
       "      <th></th>\n",
       "      <th>overall</th>\n",
       "      <th>reviewTime</th>\n",
       "      <th>reviewerID</th>\n",
       "      <th>asin</th>\n",
       "      <th>reviewText</th>\n",
       "      <th>summary</th>\n",
       "    </tr>\n",
       "  </thead>\n",
       "  <tbody>\n",
       "    <tr>\n",
       "      <th>399470</th>\n",
       "      <td>5</td>\n",
       "      <td>09 2, 2013</td>\n",
       "      <td>A3BFGP4QE7ATYV</td>\n",
       "      <td>B00E9YL3HM</td>\n",
       "      <td>Excellent.  Endless action and adventure.  The...</td>\n",
       "      <td>The Breakers Series:  Books 1-3</td>\n",
       "    </tr>\n",
       "    <tr>\n",
       "      <th>399471</th>\n",
       "      <td>5</td>\n",
       "      <td>08 23, 2013</td>\n",
       "      <td>A2EDWAYHHJCFL4</td>\n",
       "      <td>B00E9YL3HM</td>\n",
       "      <td>I was a little hesitant when I saw this three ...</td>\n",
       "      <td>Wow....</td>\n",
       "    </tr>\n",
       "    <tr>\n",
       "      <th>399474</th>\n",
       "      <td>4</td>\n",
       "      <td>05 7, 2018</td>\n",
       "      <td>A26K1OD1IJYCM6</td>\n",
       "      <td>B00E9YL3HM</td>\n",
       "      <td>Aliens turn the world upside down by using a v...</td>\n",
       "      <td>Apocalypse Inspiration</td>\n",
       "    </tr>\n",
       "    <tr>\n",
       "      <th>399475</th>\n",
       "      <td>5</td>\n",
       "      <td>04 27, 2018</td>\n",
       "      <td>A1ACUN6A2LYVMW</td>\n",
       "      <td>B00E9YL3HM</td>\n",
       "      <td>Such an entertaining and brilliant series and ...</td>\n",
       "      <td>Brilliant and very entertaining...</td>\n",
       "    </tr>\n",
       "    <tr>\n",
       "      <th>399476</th>\n",
       "      <td>5</td>\n",
       "      <td>04 2, 2018</td>\n",
       "      <td>A2FJXPJ8BRF1GW</td>\n",
       "      <td>B00E9YL3HM</td>\n",
       "      <td>I love this authors writing style. The story s...</td>\n",
       "      <td>Well written</td>\n",
       "    </tr>\n",
       "    <tr>\n",
       "      <th>...</th>\n",
       "      <td>...</td>\n",
       "      <td>...</td>\n",
       "      <td>...</td>\n",
       "      <td>...</td>\n",
       "      <td>...</td>\n",
       "      <td>...</td>\n",
       "    </tr>\n",
       "    <tr>\n",
       "      <th>399812</th>\n",
       "      <td>4</td>\n",
       "      <td>09 24, 2013</td>\n",
       "      <td>A101BX7DD7EUZ1</td>\n",
       "      <td>B00E9YL3HM</td>\n",
       "      <td>This is nearly a 9 book series considering eac...</td>\n",
       "      <td>a fun post apocalyptic series</td>\n",
       "    </tr>\n",
       "    <tr>\n",
       "      <th>399814</th>\n",
       "      <td>5</td>\n",
       "      <td>09 14, 2013</td>\n",
       "      <td>A12K5Y2SEANYW0</td>\n",
       "      <td>B00E9YL3HM</td>\n",
       "      <td>A great start to an entertaining group of apoc...</td>\n",
       "      <td>Breakers 1- 3</td>\n",
       "    </tr>\n",
       "    <tr>\n",
       "      <th>399815</th>\n",
       "      <td>5</td>\n",
       "      <td>09 12, 2013</td>\n",
       "      <td>AW2COSIBMO3PH</td>\n",
       "      <td>B00E9YL3HM</td>\n",
       "      <td>This really is a great series. Each book gives...</td>\n",
       "      <td>Excellent series</td>\n",
       "    </tr>\n",
       "    <tr>\n",
       "      <th>399817</th>\n",
       "      <td>5</td>\n",
       "      <td>09 7, 2013</td>\n",
       "      <td>AACR3X19GRX1C</td>\n",
       "      <td>B00E9YL3HM</td>\n",
       "      <td>I am so glad I bought these books. They sounde...</td>\n",
       "      <td>Great!</td>\n",
       "    </tr>\n",
       "    <tr>\n",
       "      <th>1771872</th>\n",
       "      <td>4</td>\n",
       "      <td>06 3, 2018</td>\n",
       "      <td>A32A056Q9OYP7D</td>\n",
       "      <td>B00E9YL3HM</td>\n",
       "      <td>The characters in this series of novels have m...</td>\n",
       "      <td>Multiple Problems</td>\n",
       "    </tr>\n",
       "  </tbody>\n",
       "</table>\n",
       "<p>137 rows × 6 columns</p>\n",
       "</div>"
      ],
      "text/plain": [
       "         overall   reviewTime      reviewerID        asin  \\\n",
       "399470         5   09 2, 2013  A3BFGP4QE7ATYV  B00E9YL3HM   \n",
       "399471         5  08 23, 2013  A2EDWAYHHJCFL4  B00E9YL3HM   \n",
       "399474         4   05 7, 2018  A26K1OD1IJYCM6  B00E9YL3HM   \n",
       "399475         5  04 27, 2018  A1ACUN6A2LYVMW  B00E9YL3HM   \n",
       "399476         5   04 2, 2018  A2FJXPJ8BRF1GW  B00E9YL3HM   \n",
       "...          ...          ...             ...         ...   \n",
       "399812         4  09 24, 2013  A101BX7DD7EUZ1  B00E9YL3HM   \n",
       "399814         5  09 14, 2013  A12K5Y2SEANYW0  B00E9YL3HM   \n",
       "399815         5  09 12, 2013   AW2COSIBMO3PH  B00E9YL3HM   \n",
       "399817         5   09 7, 2013   AACR3X19GRX1C  B00E9YL3HM   \n",
       "1771872        4   06 3, 2018  A32A056Q9OYP7D  B00E9YL3HM   \n",
       "\n",
       "                                                reviewText  \\\n",
       "399470   Excellent.  Endless action and adventure.  The...   \n",
       "399471   I was a little hesitant when I saw this three ...   \n",
       "399474   Aliens turn the world upside down by using a v...   \n",
       "399475   Such an entertaining and brilliant series and ...   \n",
       "399476   I love this authors writing style. The story s...   \n",
       "...                                                    ...   \n",
       "399812   This is nearly a 9 book series considering eac...   \n",
       "399814   A great start to an entertaining group of apoc...   \n",
       "399815   This really is a great series. Each book gives...   \n",
       "399817   I am so glad I bought these books. They sounde...   \n",
       "1771872  The characters in this series of novels have m...   \n",
       "\n",
       "                                    summary  \n",
       "399470      The Breakers Series:  Books 1-3  \n",
       "399471                              Wow....  \n",
       "399474               Apocalypse Inspiration  \n",
       "399475   Brilliant and very entertaining...  \n",
       "399476                         Well written  \n",
       "...                                     ...  \n",
       "399812        a fun post apocalyptic series  \n",
       "399814                        Breakers 1- 3  \n",
       "399815                     Excellent series  \n",
       "399817                               Great!  \n",
       "1771872                   Multiple Problems  \n",
       "\n",
       "[137 rows x 6 columns]"
      ]
     },
     "execution_count": 14,
     "metadata": {},
     "output_type": "execute_result"
    }
   ],
   "source": [
    "df_rev5.loc[df_rev5['asin'] == 'B00E9YL3HM']"
   ]
  },
  {
   "cell_type": "code",
   "execution_count": 15,
   "metadata": {},
   "outputs": [
    {
     "data": {
      "text/plain": [
       "5    176\n",
       "4     13\n",
       "3      1\n",
       "Name: overall, dtype: int64"
      ]
     },
     "execution_count": 15,
     "metadata": {},
     "output_type": "execute_result"
    }
   ],
   "source": [
    "df_most = df_rev5.loc[df_rev5['reviewerID'] == 'AYUTCGVSM1H7T']\n",
    "df_most['overall'].value_counts()"
   ]
  },
  {
   "cell_type": "code",
   "execution_count": 16,
   "metadata": {},
   "outputs": [
    {
     "data": {
      "text/plain": [
       "4    60\n",
       "5    37\n",
       "3    19\n",
       "2     1\n",
       "Name: overall, dtype: int64"
      ]
     },
     "execution_count": 16,
     "metadata": {},
     "output_type": "execute_result"
    }
   ],
   "source": [
    "df_2most = df_rev5.loc[df_rev5['reviewerID'] == 'A10ED33F8VY4GU']\n",
    "df_2most['overall'].value_counts()"
   ]
  },
  {
   "cell_type": "code",
   "execution_count": 17,
   "metadata": {},
   "outputs": [
    {
     "data": {
      "text/plain": [
       "5    93\n",
       "4    13\n",
       "3     2\n",
       "2     2\n",
       "Name: overall, dtype: int64"
      ]
     },
     "execution_count": 17,
     "metadata": {},
     "output_type": "execute_result"
    }
   ],
   "source": [
    "df_3most = df_rev5.loc[df_rev5['reviewerID'] == 'A15IF7NAB1Y196']\n",
    "df_3most['overall'].value_counts()"
   ]
  },
  {
   "cell_type": "code",
   "execution_count": 18,
   "metadata": {},
   "outputs": [
    {
     "data": {
      "text/plain": [
       "5    86\n",
       "4    11\n",
       "3     2\n",
       "Name: overall, dtype: int64"
      ]
     },
     "execution_count": 18,
     "metadata": {},
     "output_type": "execute_result"
    }
   ],
   "source": [
    "df_4most = df_rev5.loc[df_rev5['reviewerID'] == 'A2UMJFC1YME1R2']\n",
    "df_4most['overall'].value_counts()"
   ]
  },
  {
   "cell_type": "code",
   "execution_count": 19,
   "metadata": {
    "scrolled": true
   },
   "outputs": [
    {
     "data": {
      "text/plain": [
       "1    37\n",
       "2    26\n",
       "3    24\n",
       "4    11\n",
       "Name: overall, dtype: int64"
      ]
     },
     "execution_count": 19,
     "metadata": {},
     "output_type": "execute_result"
    }
   ],
   "source": [
    "df_5most = df_rev5.loc[df_rev5['reviewerID'] == 'AX59HEWTONQ1M']\n",
    "df_5most['overall'].value_counts()"
   ]
  },
  {
   "cell_type": "code",
   "execution_count": 20,
   "metadata": {},
   "outputs": [
    {
     "data": {
      "text/html": [
       "<div>\n",
       "<style scoped>\n",
       "    .dataframe tbody tr th:only-of-type {\n",
       "        vertical-align: middle;\n",
       "    }\n",
       "\n",
       "    .dataframe tbody tr th {\n",
       "        vertical-align: top;\n",
       "    }\n",
       "\n",
       "    .dataframe thead th {\n",
       "        text-align: right;\n",
       "    }\n",
       "</style>\n",
       "<table border=\"1\" class=\"dataframe\">\n",
       "  <thead>\n",
       "    <tr style=\"text-align: right;\">\n",
       "      <th></th>\n",
       "      <th>overall</th>\n",
       "      <th>reviewTime</th>\n",
       "      <th>reviewerID</th>\n",
       "      <th>asin</th>\n",
       "      <th>reviewText</th>\n",
       "      <th>summary</th>\n",
       "    </tr>\n",
       "  </thead>\n",
       "  <tbody>\n",
       "    <tr>\n",
       "      <th>12</th>\n",
       "      <td>2</td>\n",
       "      <td>04 15, 2013</td>\n",
       "      <td>A19T7R8I566N5Y</td>\n",
       "      <td>B000FA64QO</td>\n",
       "      <td>Books are supposed to be made of paper and ink...</td>\n",
       "      <td>I really hate e-books</td>\n",
       "    </tr>\n",
       "    <tr>\n",
       "      <th>156</th>\n",
       "      <td>5</td>\n",
       "      <td>12 29, 2017</td>\n",
       "      <td>A2I8RAPMHOLR41</td>\n",
       "      <td>B000FBJBA4</td>\n",
       "      <td>It started out good, slowed down and picked up...</td>\n",
       "      <td>Most Excellent</td>\n",
       "    </tr>\n",
       "    <tr>\n",
       "      <th>158</th>\n",
       "      <td>3</td>\n",
       "      <td>11 3, 2017</td>\n",
       "      <td>ADAYPZRLWYWH5</td>\n",
       "      <td>B000FBJBA4</td>\n",
       "      <td>Not as fast acting as I like. A bit too much i...</td>\n",
       "      <td>OK, but not exciting</td>\n",
       "    </tr>\n",
       "    <tr>\n",
       "      <th>161</th>\n",
       "      <td>5</td>\n",
       "      <td>08 20, 2017</td>\n",
       "      <td>A2G4EEQIKOZF9R</td>\n",
       "      <td>B000FBJBA4</td>\n",
       "      <td>One of the most interesting books I have read ...</td>\n",
       "      <td>Great!</td>\n",
       "    </tr>\n",
       "    <tr>\n",
       "      <th>162</th>\n",
       "      <td>3</td>\n",
       "      <td>08 6, 2017</td>\n",
       "      <td>A3IS3ZYST5QHMJ</td>\n",
       "      <td>B000FBJBA4</td>\n",
       "      <td>I almost dumped this novel at the 4% mark, as ...</td>\n",
       "      <td>I don't give a rip about women's shoes</td>\n",
       "    </tr>\n",
       "  </tbody>\n",
       "</table>\n",
       "</div>"
      ],
      "text/plain": [
       "     overall   reviewTime      reviewerID        asin  \\\n",
       "12         2  04 15, 2013  A19T7R8I566N5Y  B000FA64QO   \n",
       "156        5  12 29, 2017  A2I8RAPMHOLR41  B000FBJBA4   \n",
       "158        3   11 3, 2017   ADAYPZRLWYWH5  B000FBJBA4   \n",
       "161        5  08 20, 2017  A2G4EEQIKOZF9R  B000FBJBA4   \n",
       "162        3   08 6, 2017  A3IS3ZYST5QHMJ  B000FBJBA4   \n",
       "\n",
       "                                            reviewText  \\\n",
       "12   Books are supposed to be made of paper and ink...   \n",
       "156  It started out good, slowed down and picked up...   \n",
       "158  Not as fast acting as I like. A bit too much i...   \n",
       "161  One of the most interesting books I have read ...   \n",
       "162  I almost dumped this novel at the 4% mark, as ...   \n",
       "\n",
       "                                    summary  \n",
       "12                    I really hate e-books  \n",
       "156                          Most Excellent  \n",
       "158                    OK, but not exciting  \n",
       "161                                  Great!  \n",
       "162  I don't give a rip about women's shoes  "
      ]
     },
     "execution_count": 20,
     "metadata": {},
     "output_type": "execute_result"
    }
   ],
   "source": [
    "df_rev5.head()"
   ]
  },
  {
   "cell_type": "code",
   "execution_count": 21,
   "metadata": {},
   "outputs": [
    {
     "data": {
      "text/plain": [
       "12         Books are supposed to be made of paper and ink...\n",
       "156        It started out good, slowed down and picked up...\n",
       "158        Not as fast acting as I like. A bit too much i...\n",
       "161        One of the most interesting books I have read ...\n",
       "162        I almost dumped this novel at the 4% mark, as ...\n",
       "                                 ...                        \n",
       "2222723    I consider this series to be quite different t...\n",
       "2222724    If you like characters that aren't your typica...\n",
       "2222944    I loved the blending of computer games with fa...\n",
       "2222947     Interesting story with more than a few surprises\n",
       "2222948    Loved every story.  Such a fantastic idea and ...\n",
       "Name: reviewText, Length: 50127, dtype: object"
      ]
     },
     "execution_count": 21,
     "metadata": {},
     "output_type": "execute_result"
    }
   ],
   "source": [
    "df_rev5['reviewText'].astype(str)"
   ]
  },
  {
   "cell_type": "code",
   "execution_count": 32,
   "metadata": {},
   "outputs": [],
   "source": [
    "df_books_rev = df_rev5.groupby(['asin'], as_index = False).agg({'reviewText': ' '.join})\n",
    "df_books_rev.to_csv('Data/df_books_rev.csv')"
   ]
  },
  {
   "cell_type": "code",
   "execution_count": 33,
   "metadata": {},
   "outputs": [],
   "source": [
    "df_reviewers_rev = df_rev5.groupby(['reviewerID'], as_index = False).agg({'reviewText': ' '.join})\n",
    "df_reviewers_rev.to_csv('Data/df_reviewers_rev.csv')"
   ]
  },
  {
   "cell_type": "code",
   "execution_count": 34,
   "metadata": {},
   "outputs": [],
   "source": [
    "df_books_sum = df_rev5.groupby(['asin'], as_index = False).agg({'summary': ' '.join})\n",
    "df_books_sum.to_csv('Data/df_books_sum.csv')"
   ]
  },
  {
   "cell_type": "code",
   "execution_count": 35,
   "metadata": {},
   "outputs": [],
   "source": [
    "df_reviewers_sum = df_rev5.groupby(['reviewerID'], as_index = False).agg({'summary': ' '.join})\n",
    "df_reviewers_sum.to_csv('Data/df_reviewers_sum.csv')"
   ]
  },
  {
   "cell_type": "code",
   "execution_count": 26,
   "metadata": {},
   "outputs": [
    {
     "data": {
      "text/html": [
       "<div>\n",
       "<style scoped>\n",
       "    .dataframe tbody tr th:only-of-type {\n",
       "        vertical-align: middle;\n",
       "    }\n",
       "\n",
       "    .dataframe tbody tr th {\n",
       "        vertical-align: top;\n",
       "    }\n",
       "\n",
       "    .dataframe thead th {\n",
       "        text-align: right;\n",
       "    }\n",
       "</style>\n",
       "<table border=\"1\" class=\"dataframe\">\n",
       "  <thead>\n",
       "    <tr style=\"text-align: right;\">\n",
       "      <th></th>\n",
       "      <th>asin</th>\n",
       "      <th>summary</th>\n",
       "    </tr>\n",
       "  </thead>\n",
       "  <tbody>\n",
       "    <tr>\n",
       "      <th>0</th>\n",
       "      <td>B000FA64QO</td>\n",
       "      <td>I really hate e-books</td>\n",
       "    </tr>\n",
       "    <tr>\n",
       "      <th>1</th>\n",
       "      <td>B000FBJBA4</td>\n",
       "      <td>Most Excellent OK, but not exciting Great! I d...</td>\n",
       "    </tr>\n",
       "    <tr>\n",
       "      <th>2</th>\n",
       "      <td>B000FC2S2Q</td>\n",
       "      <td>More than pleasantly Surprised! good book Far ...</td>\n",
       "    </tr>\n",
       "    <tr>\n",
       "      <th>3</th>\n",
       "      <td>B000W7KNE4</td>\n",
       "      <td>Wonderful debut series and good deal</td>\n",
       "    </tr>\n",
       "    <tr>\n",
       "      <th>4</th>\n",
       "      <td>B000ZH6VH4</td>\n",
       "      <td>Magical world meets computer generated reality...</td>\n",
       "    </tr>\n",
       "  </tbody>\n",
       "</table>\n",
       "</div>"
      ],
      "text/plain": [
       "         asin                                            summary\n",
       "0  B000FA64QO                              I really hate e-books\n",
       "1  B000FBJBA4  Most Excellent OK, but not exciting Great! I d...\n",
       "2  B000FC2S2Q  More than pleasantly Surprised! good book Far ...\n",
       "3  B000W7KNE4               Wonderful debut series and good deal\n",
       "4  B000ZH6VH4  Magical world meets computer generated reality..."
      ]
     },
     "execution_count": 26,
     "metadata": {},
     "output_type": "execute_result"
    }
   ],
   "source": [
    "df_books_sum.head()"
   ]
  },
  {
   "cell_type": "code",
   "execution_count": 27,
   "metadata": {},
   "outputs": [
    {
     "data": {
      "text/html": [
       "<div>\n",
       "<style scoped>\n",
       "    .dataframe tbody tr th:only-of-type {\n",
       "        vertical-align: middle;\n",
       "    }\n",
       "\n",
       "    .dataframe tbody tr th {\n",
       "        vertical-align: top;\n",
       "    }\n",
       "\n",
       "    .dataframe thead th {\n",
       "        text-align: right;\n",
       "    }\n",
       "</style>\n",
       "<table border=\"1\" class=\"dataframe\">\n",
       "  <thead>\n",
       "    <tr style=\"text-align: right;\">\n",
       "      <th></th>\n",
       "      <th>reviewerID</th>\n",
       "      <th>summary</th>\n",
       "    </tr>\n",
       "  </thead>\n",
       "  <tbody>\n",
       "    <tr>\n",
       "      <th>0</th>\n",
       "      <td>A0769183K7L2H54MJRG4</td>\n",
       "      <td>The defining moment of Fred Johnson's life and...</td>\n",
       "    </tr>\n",
       "    <tr>\n",
       "      <th>1</th>\n",
       "      <td>A0886097YX1F6V4PD6J7</td>\n",
       "      <td>it can not end there had to have a book ... Fi...</td>\n",
       "    </tr>\n",
       "    <tr>\n",
       "      <th>2</th>\n",
       "      <td>A1011UZJAELNPL</td>\n",
       "      <td>Is it bloody enough? A superbly written disast...</td>\n",
       "    </tr>\n",
       "    <tr>\n",
       "      <th>3</th>\n",
       "      <td>A101BX7DD7EUZ1</td>\n",
       "      <td>prequel that is a honey what a wonderful novel...</td>\n",
       "    </tr>\n",
       "    <tr>\n",
       "      <th>4</th>\n",
       "      <td>A101C9BMFZDH5A</td>\n",
       "      <td>tense and so well written I just couldn't put ...</td>\n",
       "    </tr>\n",
       "  </tbody>\n",
       "</table>\n",
       "</div>"
      ],
      "text/plain": [
       "             reviewerID                                            summary\n",
       "0  A0769183K7L2H54MJRG4  The defining moment of Fred Johnson's life and...\n",
       "1  A0886097YX1F6V4PD6J7  it can not end there had to have a book ... Fi...\n",
       "2        A1011UZJAELNPL  Is it bloody enough? A superbly written disast...\n",
       "3        A101BX7DD7EUZ1  prequel that is a honey what a wonderful novel...\n",
       "4        A101C9BMFZDH5A  tense and so well written I just couldn't put ..."
      ]
     },
     "execution_count": 27,
     "metadata": {},
     "output_type": "execute_result"
    }
   ],
   "source": [
    "df_reviewers_sum.head()"
   ]
  },
  {
   "cell_type": "code",
   "execution_count": 28,
   "metadata": {
    "scrolled": false
   },
   "outputs": [
    {
     "data": {
      "text/html": [
       "<div>\n",
       "<style scoped>\n",
       "    .dataframe tbody tr th:only-of-type {\n",
       "        vertical-align: middle;\n",
       "    }\n",
       "\n",
       "    .dataframe tbody tr th {\n",
       "        vertical-align: top;\n",
       "    }\n",
       "\n",
       "    .dataframe thead th {\n",
       "        text-align: right;\n",
       "    }\n",
       "</style>\n",
       "<table border=\"1\" class=\"dataframe\">\n",
       "  <thead>\n",
       "    <tr style=\"text-align: right;\">\n",
       "      <th>asin</th>\n",
       "      <th>B000FA64QO</th>\n",
       "      <th>B000FBJBA4</th>\n",
       "      <th>B000FC2S2Q</th>\n",
       "      <th>B000W7KNE4</th>\n",
       "      <th>B000ZH6VH4</th>\n",
       "      <th>B0014NKZM0</th>\n",
       "      <th>B0018GY5QU</th>\n",
       "      <th>B0018GYCRM</th>\n",
       "      <th>B001C9BIH2</th>\n",
       "      <th>B001CN47NA</th>\n",
       "      <th>...</th>\n",
       "      <th>B01HFR8BH4</th>\n",
       "      <th>B01HFSQMB0</th>\n",
       "      <th>B01HHA4KDS</th>\n",
       "      <th>B01HHFHD0U</th>\n",
       "      <th>B01HHJIUPS</th>\n",
       "      <th>B01HHJZ3EO</th>\n",
       "      <th>B01HHJZ628</th>\n",
       "      <th>B01HHVVZ62</th>\n",
       "      <th>B01HIOR0S0</th>\n",
       "      <th>B01HJBPUWA</th>\n",
       "    </tr>\n",
       "    <tr>\n",
       "      <th>reviewerID</th>\n",
       "      <th></th>\n",
       "      <th></th>\n",
       "      <th></th>\n",
       "      <th></th>\n",
       "      <th></th>\n",
       "      <th></th>\n",
       "      <th></th>\n",
       "      <th></th>\n",
       "      <th></th>\n",
       "      <th></th>\n",
       "      <th></th>\n",
       "      <th></th>\n",
       "      <th></th>\n",
       "      <th></th>\n",
       "      <th></th>\n",
       "      <th></th>\n",
       "      <th></th>\n",
       "      <th></th>\n",
       "      <th></th>\n",
       "      <th></th>\n",
       "      <th></th>\n",
       "    </tr>\n",
       "  </thead>\n",
       "  <tbody>\n",
       "    <tr>\n",
       "      <th>A0769183K7L2H54MJRG4</th>\n",
       "      <td>NaN</td>\n",
       "      <td>NaN</td>\n",
       "      <td>NaN</td>\n",
       "      <td>NaN</td>\n",
       "      <td>NaN</td>\n",
       "      <td>NaN</td>\n",
       "      <td>NaN</td>\n",
       "      <td>NaN</td>\n",
       "      <td>NaN</td>\n",
       "      <td>NaN</td>\n",
       "      <td>...</td>\n",
       "      <td>NaN</td>\n",
       "      <td>NaN</td>\n",
       "      <td>NaN</td>\n",
       "      <td>NaN</td>\n",
       "      <td>NaN</td>\n",
       "      <td>NaN</td>\n",
       "      <td>NaN</td>\n",
       "      <td>NaN</td>\n",
       "      <td>NaN</td>\n",
       "      <td>NaN</td>\n",
       "    </tr>\n",
       "    <tr>\n",
       "      <th>A0886097YX1F6V4PD6J7</th>\n",
       "      <td>NaN</td>\n",
       "      <td>NaN</td>\n",
       "      <td>NaN</td>\n",
       "      <td>NaN</td>\n",
       "      <td>NaN</td>\n",
       "      <td>NaN</td>\n",
       "      <td>NaN</td>\n",
       "      <td>NaN</td>\n",
       "      <td>NaN</td>\n",
       "      <td>NaN</td>\n",
       "      <td>...</td>\n",
       "      <td>NaN</td>\n",
       "      <td>NaN</td>\n",
       "      <td>NaN</td>\n",
       "      <td>NaN</td>\n",
       "      <td>NaN</td>\n",
       "      <td>NaN</td>\n",
       "      <td>NaN</td>\n",
       "      <td>NaN</td>\n",
       "      <td>NaN</td>\n",
       "      <td>NaN</td>\n",
       "    </tr>\n",
       "    <tr>\n",
       "      <th>A1011UZJAELNPL</th>\n",
       "      <td>NaN</td>\n",
       "      <td>NaN</td>\n",
       "      <td>NaN</td>\n",
       "      <td>NaN</td>\n",
       "      <td>NaN</td>\n",
       "      <td>NaN</td>\n",
       "      <td>NaN</td>\n",
       "      <td>NaN</td>\n",
       "      <td>NaN</td>\n",
       "      <td>NaN</td>\n",
       "      <td>...</td>\n",
       "      <td>NaN</td>\n",
       "      <td>NaN</td>\n",
       "      <td>NaN</td>\n",
       "      <td>NaN</td>\n",
       "      <td>NaN</td>\n",
       "      <td>NaN</td>\n",
       "      <td>NaN</td>\n",
       "      <td>NaN</td>\n",
       "      <td>NaN</td>\n",
       "      <td>NaN</td>\n",
       "    </tr>\n",
       "    <tr>\n",
       "      <th>A101BX7DD7EUZ1</th>\n",
       "      <td>NaN</td>\n",
       "      <td>NaN</td>\n",
       "      <td>NaN</td>\n",
       "      <td>NaN</td>\n",
       "      <td>NaN</td>\n",
       "      <td>NaN</td>\n",
       "      <td>NaN</td>\n",
       "      <td>NaN</td>\n",
       "      <td>NaN</td>\n",
       "      <td>NaN</td>\n",
       "      <td>...</td>\n",
       "      <td>NaN</td>\n",
       "      <td>NaN</td>\n",
       "      <td>NaN</td>\n",
       "      <td>NaN</td>\n",
       "      <td>NaN</td>\n",
       "      <td>NaN</td>\n",
       "      <td>NaN</td>\n",
       "      <td>NaN</td>\n",
       "      <td>NaN</td>\n",
       "      <td>NaN</td>\n",
       "    </tr>\n",
       "    <tr>\n",
       "      <th>A101C9BMFZDH5A</th>\n",
       "      <td>NaN</td>\n",
       "      <td>NaN</td>\n",
       "      <td>NaN</td>\n",
       "      <td>NaN</td>\n",
       "      <td>NaN</td>\n",
       "      <td>NaN</td>\n",
       "      <td>NaN</td>\n",
       "      <td>NaN</td>\n",
       "      <td>NaN</td>\n",
       "      <td>NaN</td>\n",
       "      <td>...</td>\n",
       "      <td>NaN</td>\n",
       "      <td>NaN</td>\n",
       "      <td>NaN</td>\n",
       "      <td>NaN</td>\n",
       "      <td>NaN</td>\n",
       "      <td>NaN</td>\n",
       "      <td>NaN</td>\n",
       "      <td>NaN</td>\n",
       "      <td>NaN</td>\n",
       "      <td>NaN</td>\n",
       "    </tr>\n",
       "  </tbody>\n",
       "</table>\n",
       "<p>5 rows × 6244 columns</p>\n",
       "</div>"
      ],
      "text/plain": [
       "asin                  B000FA64QO  B000FBJBA4  B000FC2S2Q  B000W7KNE4  \\\n",
       "reviewerID                                                             \n",
       "A0769183K7L2H54MJRG4         NaN         NaN         NaN         NaN   \n",
       "A0886097YX1F6V4PD6J7         NaN         NaN         NaN         NaN   \n",
       "A1011UZJAELNPL               NaN         NaN         NaN         NaN   \n",
       "A101BX7DD7EUZ1               NaN         NaN         NaN         NaN   \n",
       "A101C9BMFZDH5A               NaN         NaN         NaN         NaN   \n",
       "\n",
       "asin                  B000ZH6VH4  B0014NKZM0  B0018GY5QU  B0018GYCRM  \\\n",
       "reviewerID                                                             \n",
       "A0769183K7L2H54MJRG4         NaN         NaN         NaN         NaN   \n",
       "A0886097YX1F6V4PD6J7         NaN         NaN         NaN         NaN   \n",
       "A1011UZJAELNPL               NaN         NaN         NaN         NaN   \n",
       "A101BX7DD7EUZ1               NaN         NaN         NaN         NaN   \n",
       "A101C9BMFZDH5A               NaN         NaN         NaN         NaN   \n",
       "\n",
       "asin                  B001C9BIH2  B001CN47NA  ...  B01HFR8BH4  B01HFSQMB0  \\\n",
       "reviewerID                                    ...                           \n",
       "A0769183K7L2H54MJRG4         NaN         NaN  ...         NaN         NaN   \n",
       "A0886097YX1F6V4PD6J7         NaN         NaN  ...         NaN         NaN   \n",
       "A1011UZJAELNPL               NaN         NaN  ...         NaN         NaN   \n",
       "A101BX7DD7EUZ1               NaN         NaN  ...         NaN         NaN   \n",
       "A101C9BMFZDH5A               NaN         NaN  ...         NaN         NaN   \n",
       "\n",
       "asin                  B01HHA4KDS  B01HHFHD0U  B01HHJIUPS  B01HHJZ3EO  \\\n",
       "reviewerID                                                             \n",
       "A0769183K7L2H54MJRG4         NaN         NaN         NaN         NaN   \n",
       "A0886097YX1F6V4PD6J7         NaN         NaN         NaN         NaN   \n",
       "A1011UZJAELNPL               NaN         NaN         NaN         NaN   \n",
       "A101BX7DD7EUZ1               NaN         NaN         NaN         NaN   \n",
       "A101C9BMFZDH5A               NaN         NaN         NaN         NaN   \n",
       "\n",
       "asin                  B01HHJZ628  B01HHVVZ62  B01HIOR0S0  B01HJBPUWA  \n",
       "reviewerID                                                            \n",
       "A0769183K7L2H54MJRG4         NaN         NaN         NaN         NaN  \n",
       "A0886097YX1F6V4PD6J7         NaN         NaN         NaN         NaN  \n",
       "A1011UZJAELNPL               NaN         NaN         NaN         NaN  \n",
       "A101BX7DD7EUZ1               NaN         NaN         NaN         NaN  \n",
       "A101C9BMFZDH5A               NaN         NaN         NaN         NaN  \n",
       "\n",
       "[5 rows x 6244 columns]"
      ]
     },
     "execution_count": 28,
     "metadata": {},
     "output_type": "execute_result"
    }
   ],
   "source": [
    "user_ratings = df_rev5.pivot_table(index='reviewerID', columns = 'asin', values = 'overall')\n",
    "user_ratings.head()"
   ]
  },
  {
   "cell_type": "code",
   "execution_count": 29,
   "metadata": {},
   "outputs": [],
   "source": [
    "#details = list(df_meta['details'])"
   ]
  },
  {
   "cell_type": "code",
   "execution_count": 30,
   "metadata": {
    "scrolled": false
   },
   "outputs": [],
   "source": [
    "#details"
   ]
  }
 ],
 "metadata": {
  "kernelspec": {
   "display_name": "Python (learn-env)",
   "language": "python",
   "name": "learn-env"
  },
  "language_info": {
   "codemirror_mode": {
    "name": "ipython",
    "version": 3
   },
   "file_extension": ".py",
   "mimetype": "text/x-python",
   "name": "python",
   "nbconvert_exporter": "python",
   "pygments_lexer": "ipython3",
   "version": "3.8.5"
  }
 },
 "nbformat": 4,
 "nbformat_minor": 4
}
