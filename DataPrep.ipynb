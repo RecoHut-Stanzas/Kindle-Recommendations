{
 "cells": [
  {
   "cell_type": "markdown",
   "metadata": {},
   "source": [
    "# Kindle Book Recommender System"
   ]
  },
  {
   "cell_type": "markdown",
   "metadata": {},
   "source": [
    "### Imports"
   ]
  },
  {
   "cell_type": "code",
   "execution_count": 1,
   "metadata": {},
   "outputs": [],
   "source": [
    "import pandas as pd\n",
    "import numpy as np\n",
    "import matplotlib as plt\n",
    "import warnings\n",
    "warnings.filterwarnings('ignore')"
   ]
  },
  {
   "cell_type": "code",
   "execution_count": null,
   "metadata": {},
   "outputs": [],
   "source": [
    "def getLastValue(aList):\n",
    "    return aList[-1]"
   ]
  },
  {
   "cell_type": "code",
   "execution_count": null,
   "metadata": {},
   "outputs": [],
   "source": [
    "def meta_clean(data):\n",
    "    data['category'] = data['category'].apply(eval)\n",
    "    data['genre'] = data['category'].apply(getLastValue)\n",
    "    data.drop(columns=['category'], inplace=True)\n",
    "    data['details'] = data['details'].apply(eval)\n",
    "    print_length = [d.get('Print Length:') for d in data['details']]\n",
    "    data['print_length'] = print_length\n",
    "    data['print_length'] = data['print_length'].str.extract('(\\d+)', expand=False)\n",
    "    data['print_length']= data['print_length'].astype(float)\n",
    "    word_wise = [d.get('Word Wise:') for d in data['details']]\n",
    "    data['word_wise'] = word_wise\n",
    "    lending = [d.get('Lending:') for d in data['details']]\n",
    "    data['lending'] = lending\n",
    "    bool_dict = {'Enabled': 1, 'Not Enabled': 0}\n",
    "    data['word_wise'] = data['word_wise'].map(bool_dict)\n",
    "    data['lending'] = data['lending'].map(bool_dict)\n",
    "    data['brand'] = data['brand'].str.replace(\"Visit Amazon's\", '')\n",
    "    data['brand'] = data['brand'].str.replace(\"Page\", '')\n",
    "    data.drop(columns=['details'], inplace=True)\n",
    "    data.rename(columns={'brand': 'author'}, inplace=True)\n",
    "    return data.head()"
   ]
  },
  {
   "cell_type": "code",
   "execution_count": 2,
   "metadata": {
    "scrolled": true
   },
   "outputs": [
    {
     "name": "stdout",
     "output_type": "stream",
     "text": [
      "<class 'pandas.core.frame.DataFrame'>\n",
      "RangeIndex: 478025 entries, 0 to 478024\n",
      "Data columns (total 5 columns):\n",
      " #   Column    Non-Null Count   Dtype \n",
      "---  ------    --------------   ----- \n",
      " 0   category  478025 non-null  object\n",
      " 1   title     476229 non-null  object\n",
      " 2   brand     477393 non-null  object\n",
      " 3   details   478025 non-null  object\n",
      " 4   asin      478025 non-null  object\n",
      "dtypes: object(5)\n",
      "memory usage: 18.2+ MB\n"
     ]
    }
   ],
   "source": [
    "df_meta = pd.read_csv('C:\\\\Users\\\\danie\\\\Desktop\\\\meta_use.csv')\n",
    "df_meta.drop(columns = 'Unnamed: 0', inplace=True)\n",
    "df_meta.info()"
   ]
  },
  {
   "cell_type": "code",
   "execution_count": 3,
   "metadata": {},
   "outputs": [
    {
     "data": {
      "text/html": [
       "<div>\n",
       "<style scoped>\n",
       "    .dataframe tbody tr th:only-of-type {\n",
       "        vertical-align: middle;\n",
       "    }\n",
       "\n",
       "    .dataframe tbody tr th {\n",
       "        vertical-align: top;\n",
       "    }\n",
       "\n",
       "    .dataframe thead th {\n",
       "        text-align: right;\n",
       "    }\n",
       "</style>\n",
       "<table border=\"1\" class=\"dataframe\">\n",
       "  <thead>\n",
       "    <tr style=\"text-align: right;\">\n",
       "      <th></th>\n",
       "      <th>category</th>\n",
       "      <th>title</th>\n",
       "      <th>brand</th>\n",
       "      <th>details</th>\n",
       "      <th>asin</th>\n",
       "    </tr>\n",
       "  </thead>\n",
       "  <tbody>\n",
       "    <tr>\n",
       "      <th>0</th>\n",
       "      <td>['Kindle Store', 'Kindle eBooks', 'Science Fic...</td>\n",
       "      <td>NaN</td>\n",
       "      <td>Arthur K. Barnes</td>\n",
       "      <td>{'File Size:': '295 KB', 'Print Length:': '113...</td>\n",
       "      <td>B000FA5KKA</td>\n",
       "    </tr>\n",
       "    <tr>\n",
       "      <th>1</th>\n",
       "      <td>['Kindle Store', 'Kindle eBooks', 'Biographies...</td>\n",
       "      <td>NaN</td>\n",
       "      <td>Jean Marie Stine</td>\n",
       "      <td>{'File Size:': '262 KB', 'Print Length:': '103...</td>\n",
       "      <td>B000FA5KJQ</td>\n",
       "    </tr>\n",
       "    <tr>\n",
       "      <th>2</th>\n",
       "      <td>['Kindle Store', 'Kindle eBooks', 'Science Fic...</td>\n",
       "      <td>NaN</td>\n",
       "      <td>Arthur K. Barnes</td>\n",
       "      <td>{'File Size:': '251 KB', 'Print Length:': '116...</td>\n",
       "      <td>B000FA5NSO</td>\n",
       "    </tr>\n",
       "    <tr>\n",
       "      <th>3</th>\n",
       "      <td>['Kindle Store', 'Kindle eBooks', 'Business &amp; ...</td>\n",
       "      <td>NaN</td>\n",
       "      <td>Visit Amazon's Ethan M. Rasiel Page</td>\n",
       "      <td>{'File Size:': '953 KB', 'Print Length:': '187...</td>\n",
       "      <td>B000FA5KX2</td>\n",
       "    </tr>\n",
       "    <tr>\n",
       "      <th>4</th>\n",
       "      <td>['Kindle Store', 'Kindle eBooks', 'Business &amp; ...</td>\n",
       "      <td>NaN</td>\n",
       "      <td>John Hayden</td>\n",
       "      <td>{'File Size:': '627 KB', 'Print Length:': '240...</td>\n",
       "      <td>B000FA5M3U</td>\n",
       "    </tr>\n",
       "  </tbody>\n",
       "</table>\n",
       "</div>"
      ],
      "text/plain": [
       "                                            category title  \\\n",
       "0  ['Kindle Store', 'Kindle eBooks', 'Science Fic...   NaN   \n",
       "1  ['Kindle Store', 'Kindle eBooks', 'Biographies...   NaN   \n",
       "2  ['Kindle Store', 'Kindle eBooks', 'Science Fic...   NaN   \n",
       "3  ['Kindle Store', 'Kindle eBooks', 'Business & ...   NaN   \n",
       "4  ['Kindle Store', 'Kindle eBooks', 'Business & ...   NaN   \n",
       "\n",
       "                                 brand  \\\n",
       "0                     Arthur K. Barnes   \n",
       "1                     Jean Marie Stine   \n",
       "2                     Arthur K. Barnes   \n",
       "3  Visit Amazon's Ethan M. Rasiel Page   \n",
       "4                          John Hayden   \n",
       "\n",
       "                                             details        asin  \n",
       "0  {'File Size:': '295 KB', 'Print Length:': '113...  B000FA5KKA  \n",
       "1  {'File Size:': '262 KB', 'Print Length:': '103...  B000FA5KJQ  \n",
       "2  {'File Size:': '251 KB', 'Print Length:': '116...  B000FA5NSO  \n",
       "3  {'File Size:': '953 KB', 'Print Length:': '187...  B000FA5KX2  \n",
       "4  {'File Size:': '627 KB', 'Print Length:': '240...  B000FA5M3U  "
      ]
     },
     "execution_count": 3,
     "metadata": {},
     "output_type": "execute_result"
    }
   ],
   "source": [
    "df_meta.head()"
   ]
  },
  {
   "cell_type": "code",
   "execution_count": 4,
   "metadata": {},
   "outputs": [
    {
     "data": {
      "text/plain": [
       "category       0\n",
       "title       1796\n",
       "brand        632\n",
       "details        0\n",
       "asin           0\n",
       "dtype: int64"
      ]
     },
     "execution_count": 4,
     "metadata": {},
     "output_type": "execute_result"
    }
   ],
   "source": [
    "df_meta.isna().sum()"
   ]
  },
  {
   "cell_type": "code",
   "execution_count": 5,
   "metadata": {},
   "outputs": [],
   "source": [
    "df_meta.dropna(inplace=True)"
   ]
  },
  {
   "cell_type": "code",
   "execution_count": 6,
   "metadata": {},
   "outputs": [],
   "source": [
    "asin_list = df_meta['asin'].tolist()"
   ]
  },
  {
   "cell_type": "code",
   "execution_count": 7,
   "metadata": {
    "scrolled": false
   },
   "outputs": [
    {
     "data": {
      "text/plain": [
       "['Kindle Store', 'Kindle eBooks', 'Literature & Fiction']              147980\n",
       "['Kindle Store', 'Kindle eBooks', 'Religion & Spirituality']            48422\n",
       "['Kindle Store', 'Kindle eBooks', 'Romance']                            34237\n",
       "['Kindle Store', 'Kindle eBooks', 'Science Fiction & Fantasy']          29180\n",
       "['Kindle Store', 'Kindle eBooks', \"Children's eBooks\"]                  27289\n",
       "['Kindle Store', 'Kindle eBooks', 'Business & Money']                   24217\n",
       "['Kindle Store', 'Kindle eBooks', 'Health, Fitness & Dieting']          18679\n",
       "['Kindle Store', 'Kindle eBooks', 'Mystery, Thriller & Suspense']       14859\n",
       "['Kindle Store', 'Kindle eBooks', 'History']                            12786\n",
       "['Kindle Store', 'Kindle eBooks', 'Biographies & Memoirs']              11532\n",
       "['Kindle Store', 'Kindle eBooks', 'Cookbooks, Food & Wine']             10730\n",
       "['Kindle Store', 'Kindle eBooks', 'Teen & Young Adult']                  8708\n",
       "['Kindle Store', 'Kindle eBooks', 'Education & Teaching']                8114\n",
       "['Kindle Store', 'Kindle eBooks', 'Politics & Social Sciences']          7627\n",
       "['Kindle Store', 'Kindle eBooks', 'Humor & Entertainment']               7501\n",
       "['Kindle Store', 'Kindle eBooks', 'Arts & Photography']                  7428\n",
       "['Kindle Store', 'Kindle eBooks', 'Sports & Outdoors']                   7301\n",
       "['Kindle Store', 'Kindle eBooks', 'Crafts, Hobbies & Home']              6020\n",
       "['Kindle Store', 'Kindle eBooks', 'Comics, Manga & Graphic Novels']      5922\n",
       "['Kindle Store', 'Kindle eBooks', 'Foreign Languages']                   5137\n",
       "['Kindle Store', 'Kindle eBooks', 'Parenting & Relationships']           4892\n",
       "['Kindle Store', 'Kindle eBooks', 'Reference']                           4866\n",
       "['Kindle Store', 'Kindle eBooks', 'Self-Help']                           4448\n",
       "['Kindle Store', 'Kindle eBooks', 'Computers & Technology']              4242\n",
       "['Kindle Store', 'Kindle eBooks', 'Science & Math']                      4146\n",
       "['Kindle Store', 'Kindle eBooks', 'Travel']                              3994\n",
       "['Kindle Store', 'Kindle eBooks', 'Nonfiction']                          1820\n",
       "['Kindle Store', 'Kindle eBooks', 'Engineering & Transportation']        1800\n",
       "['Kindle Store', 'Kindle eBooks', 'Medical eBooks']                      1744\n",
       "Name: category, dtype: int64"
      ]
     },
     "execution_count": 7,
     "metadata": {},
     "output_type": "execute_result"
    }
   ],
   "source": [
    "df_meta['category'].value_counts()"
   ]
  },
  {
   "cell_type": "code",
   "execution_count": 8,
   "metadata": {},
   "outputs": [],
   "source": [
    "details = list(df_meta['details'])"
   ]
  },
  {
   "cell_type": "code",
   "execution_count": 9,
   "metadata": {},
   "outputs": [
    {
     "data": {
      "text/plain": [
       "\"{'File Size:': '298 KB', 'Print Length:': '168 pages', 'Simultaneous Device Usage:': 'Unlimited', 'Publisher:': 'Outskirts Press (April 16, 2007)', 'Publication Date:': 'April 16, 2007', 'Language:': 'English', 'ASIN:': 'B00128EFK0', 'Word Wise:': 'Enabled', 'Lending:': 'Enabled'}\""
      ]
     },
     "execution_count": 9,
     "metadata": {},
     "output_type": "execute_result"
    }
   ],
   "source": [
    "details[0]"
   ]
  },
  {
   "cell_type": "code",
   "execution_count": 10,
   "metadata": {
    "scrolled": false
   },
   "outputs": [
    {
     "name": "stdout",
     "output_type": "stream",
     "text": [
      "<class 'pandas.core.frame.DataFrame'>\n",
      "RangeIndex: 1398711 entries, 0 to 1398710\n",
      "Data columns (total 6 columns):\n",
      " #   Column      Non-Null Count    Dtype \n",
      "---  ------      --------------    ----- \n",
      " 0   overall     1398711 non-null  int64 \n",
      " 1   reviewTime  1398711 non-null  object\n",
      " 2   reviewerID  1398711 non-null  object\n",
      " 3   asin        1398711 non-null  object\n",
      " 4   reviewText  1398705 non-null  object\n",
      " 5   summary     1398710 non-null  object\n",
      "dtypes: int64(1), object(5)\n",
      "memory usage: 64.0+ MB\n"
     ]
    }
   ],
   "source": [
    "df_rev = pd.read_csv('C:\\\\Users\\\\danie\\\\Desktop\\\\rev_use.csv')\n",
    "df_rev.drop(columns=['Unnamed: 0'], inplace=True)\n",
    "df_rev.info()"
   ]
  },
  {
   "cell_type": "code",
   "execution_count": 11,
   "metadata": {
    "scrolled": false
   },
   "outputs": [
    {
     "data": {
      "text/html": [
       "<div>\n",
       "<style scoped>\n",
       "    .dataframe tbody tr th:only-of-type {\n",
       "        vertical-align: middle;\n",
       "    }\n",
       "\n",
       "    .dataframe tbody tr th {\n",
       "        vertical-align: top;\n",
       "    }\n",
       "\n",
       "    .dataframe thead th {\n",
       "        text-align: right;\n",
       "    }\n",
       "</style>\n",
       "<table border=\"1\" class=\"dataframe\">\n",
       "  <thead>\n",
       "    <tr style=\"text-align: right;\">\n",
       "      <th></th>\n",
       "      <th>overall</th>\n",
       "      <th>reviewTime</th>\n",
       "      <th>reviewerID</th>\n",
       "      <th>asin</th>\n",
       "      <th>reviewText</th>\n",
       "      <th>summary</th>\n",
       "    </tr>\n",
       "  </thead>\n",
       "  <tbody>\n",
       "    <tr>\n",
       "      <th>0</th>\n",
       "      <td>4</td>\n",
       "      <td>07 3, 2014</td>\n",
       "      <td>A2LSKD2H9U8N0J</td>\n",
       "      <td>B000FA5KK0</td>\n",
       "      <td>pretty good story, a little exaggerated, but I...</td>\n",
       "      <td>pretty good story</td>\n",
       "    </tr>\n",
       "    <tr>\n",
       "      <th>1</th>\n",
       "      <td>5</td>\n",
       "      <td>05 26, 2014</td>\n",
       "      <td>A2QP13XTJND1QS</td>\n",
       "      <td>B000FA5KK0</td>\n",
       "      <td>If you've read other max brand westerns, you k...</td>\n",
       "      <td>A very good book</td>\n",
       "    </tr>\n",
       "    <tr>\n",
       "      <th>2</th>\n",
       "      <td>5</td>\n",
       "      <td>09 16, 2016</td>\n",
       "      <td>A8WQ7MAG3HFOZ</td>\n",
       "      <td>B000FA5KK0</td>\n",
       "      <td>Love Max, always a fun twist</td>\n",
       "      <td>Five Stars</td>\n",
       "    </tr>\n",
       "    <tr>\n",
       "      <th>3</th>\n",
       "      <td>5</td>\n",
       "      <td>03 3, 2016</td>\n",
       "      <td>A1E0MODSRYP7O</td>\n",
       "      <td>B000FA5KK0</td>\n",
       "      <td>As usual for him, a good book</td>\n",
       "      <td>a good</td>\n",
       "    </tr>\n",
       "    <tr>\n",
       "      <th>4</th>\n",
       "      <td>5</td>\n",
       "      <td>09 10, 2015</td>\n",
       "      <td>AYUTCGVSM1H7T</td>\n",
       "      <td>B000FA5KK0</td>\n",
       "      <td>MB is one of the original western writers and ...</td>\n",
       "      <td>A Western</td>\n",
       "    </tr>\n",
       "  </tbody>\n",
       "</table>\n",
       "</div>"
      ],
      "text/plain": [
       "   overall   reviewTime      reviewerID        asin  \\\n",
       "0        4   07 3, 2014  A2LSKD2H9U8N0J  B000FA5KK0   \n",
       "1        5  05 26, 2014  A2QP13XTJND1QS  B000FA5KK0   \n",
       "2        5  09 16, 2016   A8WQ7MAG3HFOZ  B000FA5KK0   \n",
       "3        5   03 3, 2016   A1E0MODSRYP7O  B000FA5KK0   \n",
       "4        5  09 10, 2015   AYUTCGVSM1H7T  B000FA5KK0   \n",
       "\n",
       "                                          reviewText            summary  \n",
       "0  pretty good story, a little exaggerated, but I...  pretty good story  \n",
       "1  If you've read other max brand westerns, you k...   A very good book  \n",
       "2                       Love Max, always a fun twist         Five Stars  \n",
       "3                      As usual for him, a good book             a good  \n",
       "4  MB is one of the original western writers and ...          A Western  "
      ]
     },
     "execution_count": 11,
     "metadata": {},
     "output_type": "execute_result"
    }
   ],
   "source": [
    "df_rev.head()"
   ]
  },
  {
   "cell_type": "code",
   "execution_count": 12,
   "metadata": {},
   "outputs": [],
   "source": [
    "df_rev = df_rev[df_rev['asin'].isin(asin_list)]"
   ]
  },
  {
   "cell_type": "code",
   "execution_count": 13,
   "metadata": {},
   "outputs": [
    {
     "name": "stdout",
     "output_type": "stream",
     "text": [
      "<class 'pandas.core.frame.DataFrame'>\n",
      "Int64Index: 1395197 entries, 1389 to 1398710\n",
      "Data columns (total 6 columns):\n",
      " #   Column      Non-Null Count    Dtype \n",
      "---  ------      --------------    ----- \n",
      " 0   overall     1395197 non-null  int64 \n",
      " 1   reviewTime  1395197 non-null  object\n",
      " 2   reviewerID  1395197 non-null  object\n",
      " 3   asin        1395197 non-null  object\n",
      " 4   reviewText  1395191 non-null  object\n",
      " 5   summary     1395196 non-null  object\n",
      "dtypes: int64(1), object(5)\n",
      "memory usage: 74.5+ MB\n"
     ]
    }
   ],
   "source": [
    "df_rev.info()"
   ]
  },
  {
   "cell_type": "code",
   "execution_count": 14,
   "metadata": {},
   "outputs": [
    {
     "data": {
      "text/plain": [
       "overall       0\n",
       "reviewTime    0\n",
       "reviewerID    0\n",
       "asin          0\n",
       "reviewText    6\n",
       "summary       1\n",
       "dtype: int64"
      ]
     },
     "execution_count": 14,
     "metadata": {},
     "output_type": "execute_result"
    }
   ],
   "source": [
    "df_rev.isna().sum()"
   ]
  },
  {
   "cell_type": "code",
   "execution_count": 15,
   "metadata": {},
   "outputs": [],
   "source": [
    "df_rev.dropna(inplace=True)"
   ]
  },
  {
   "cell_type": "code",
   "execution_count": 16,
   "metadata": {
    "scrolled": false
   },
   "outputs": [
    {
     "data": {
      "text/plain": [
       "A3IQ0P3M39IY8U    716\n",
       "A2UNMDJYXPEQZ3    716\n",
       "A37LY77Q2YPJVL    652\n",
       "A26GE9ZG68SKIQ    618\n",
       "A2VXSQHJWZAQGY    613\n",
       "                 ... \n",
       "A2DSBNC5258NU4      1\n",
       "A15MR707EYC89Z      1\n",
       "A3SWF7RJX295JB      1\n",
       "A38YDUR0E76UY1      1\n",
       "A3F3TCUETH67WY      1\n",
       "Name: reviewerID, Length: 131022, dtype: int64"
      ]
     },
     "execution_count": 16,
     "metadata": {},
     "output_type": "execute_result"
    }
   ],
   "source": [
    "df_rev['reviewerID'].value_counts()"
   ]
  },
  {
   "cell_type": "code",
   "execution_count": 17,
   "metadata": {},
   "outputs": [
    {
     "data": {
      "text/plain": [
       "B00YN6XHMU    1945\n",
       "B00ESJ3S94    1110\n",
       "B00C2WDD5I     901\n",
       "B00IJYII4E     795\n",
       "B015BIHKH6     724\n",
       "              ... \n",
       "B00H1J7506       1\n",
       "B00H23TVTO       1\n",
       "B00H240NGI       1\n",
       "B017HRAYYK       1\n",
       "B01HJENY3Y       1\n",
       "Name: asin, Length: 94029, dtype: int64"
      ]
     },
     "execution_count": 17,
     "metadata": {},
     "output_type": "execute_result"
    }
   ],
   "source": [
    "df_rev['asin'].value_counts()"
   ]
  },
  {
   "cell_type": "code",
   "execution_count": 18,
   "metadata": {},
   "outputs": [],
   "source": [
    "df_rev.to_csv('Data/df_all.csv')"
   ]
  },
  {
   "cell_type": "code",
   "execution_count": 19,
   "metadata": {},
   "outputs": [],
   "source": [
    "df_rev5 = df_rev[df_rev['reviewerID'].map(df_rev['reviewerID'].value_counts()) > 4]"
   ]
  },
  {
   "cell_type": "code",
   "execution_count": 20,
   "metadata": {
    "scrolled": false
   },
   "outputs": [
    {
     "data": {
      "text/plain": [
       "A3IQ0P3M39IY8U    716\n",
       "A2UNMDJYXPEQZ3    716\n",
       "A37LY77Q2YPJVL    652\n",
       "A26GE9ZG68SKIQ    618\n",
       "A2VXSQHJWZAQGY    613\n",
       "                 ... \n",
       "A1WXV55UOA0QGF      5\n",
       "A1EV3Q80KT3ZEH      5\n",
       "A24JXFSGFRY80F      5\n",
       "A2DCFEHQPYR9L1      5\n",
       "A3I36S1KLJE1H6      5\n",
       "Name: reviewerID, Length: 97588, dtype: int64"
      ]
     },
     "execution_count": 20,
     "metadata": {},
     "output_type": "execute_result"
    }
   ],
   "source": [
    "df_rev5['reviewerID'].value_counts()"
   ]
  },
  {
   "cell_type": "code",
   "execution_count": 21,
   "metadata": {
    "scrolled": false
   },
   "outputs": [
    {
     "name": "stdout",
     "output_type": "stream",
     "text": [
      "<class 'pandas.core.frame.DataFrame'>\n",
      "Int64Index: 1302158 entries, 1389 to 1398709\n",
      "Data columns (total 6 columns):\n",
      " #   Column      Non-Null Count    Dtype \n",
      "---  ------      --------------    ----- \n",
      " 0   overall     1302158 non-null  int64 \n",
      " 1   reviewTime  1302158 non-null  object\n",
      " 2   reviewerID  1302158 non-null  object\n",
      " 3   asin        1302158 non-null  object\n",
      " 4   reviewText  1302158 non-null  object\n",
      " 5   summary     1302158 non-null  object\n",
      "dtypes: int64(1), object(5)\n",
      "memory usage: 69.5+ MB\n"
     ]
    }
   ],
   "source": [
    "df_rev5.info()"
   ]
  },
  {
   "cell_type": "code",
   "execution_count": 22,
   "metadata": {},
   "outputs": [],
   "source": [
    "df_rev5.to_csv('Data/df_rev5.csv')"
   ]
  },
  {
   "cell_type": "code",
   "execution_count": 23,
   "metadata": {},
   "outputs": [],
   "source": [
    "asin_set = set(df_rev['asin'].tolist())"
   ]
  },
  {
   "cell_type": "code",
   "execution_count": 24,
   "metadata": {},
   "outputs": [],
   "source": [
    "asin_set5 = set(df_rev5['asin'].tolist())"
   ]
  },
  {
   "cell_type": "code",
   "execution_count": 25,
   "metadata": {},
   "outputs": [
    {
     "data": {
      "text/plain": [
       "94029"
      ]
     },
     "execution_count": 25,
     "metadata": {},
     "output_type": "execute_result"
    }
   ],
   "source": [
    "len(asin_set)"
   ]
  },
  {
   "cell_type": "code",
   "execution_count": 26,
   "metadata": {
    "scrolled": false
   },
   "outputs": [
    {
     "data": {
      "text/plain": [
       "93547"
      ]
     },
     "execution_count": 26,
     "metadata": {},
     "output_type": "execute_result"
    }
   ],
   "source": [
    "len(asin_set5)"
   ]
  },
  {
   "cell_type": "code",
   "execution_count": 27,
   "metadata": {},
   "outputs": [],
   "source": [
    "df_meta_all = df_meta.loc[df_meta['asin'].isin(asin_set)]"
   ]
  },
  {
   "cell_type": "code",
   "execution_count": 28,
   "metadata": {},
   "outputs": [],
   "source": [
    "df_meta5 = df_meta.loc[df_meta['asin'].isin(asin_set5)]"
   ]
  },
  {
   "cell_type": "code",
   "execution_count": 32,
   "metadata": {
    "scrolled": true
   },
   "outputs": [
    {
     "data": {
      "text/html": [
       "<div>\n",
       "<style scoped>\n",
       "    .dataframe tbody tr th:only-of-type {\n",
       "        vertical-align: middle;\n",
       "    }\n",
       "\n",
       "    .dataframe tbody tr th {\n",
       "        vertical-align: top;\n",
       "    }\n",
       "\n",
       "    .dataframe thead th {\n",
       "        text-align: right;\n",
       "    }\n",
       "</style>\n",
       "<table border=\"1\" class=\"dataframe\">\n",
       "  <thead>\n",
       "    <tr style=\"text-align: right;\">\n",
       "      <th></th>\n",
       "      <th>title</th>\n",
       "      <th>brand</th>\n",
       "      <th>asin</th>\n",
       "      <th>genre</th>\n",
       "      <th>print_length</th>\n",
       "      <th>word_wise</th>\n",
       "      <th>lending</th>\n",
       "    </tr>\n",
       "  </thead>\n",
       "  <tbody>\n",
       "    <tr>\n",
       "      <th>1039</th>\n",
       "      <td>God in the White House</td>\n",
       "      <td>Randall Balmer</td>\n",
       "      <td>B0012GTZCK</td>\n",
       "      <td>History</td>\n",
       "      <td>260.0</td>\n",
       "      <td>1</td>\n",
       "      <td>0</td>\n",
       "    </tr>\n",
       "    <tr>\n",
       "      <th>1053</th>\n",
       "      <td>Vingt Mille Lieues sous les mers (French Editi...</td>\n",
       "      <td>Jules Verne</td>\n",
       "      <td>B0012LHGJ4</td>\n",
       "      <td>Reference</td>\n",
       "      <td>606.0</td>\n",
       "      <td>0</td>\n",
       "      <td>1</td>\n",
       "    </tr>\n",
       "    <tr>\n",
       "      <th>1071</th>\n",
       "      <td>Wood-Carving Design and Workmanship - Kindle e...</td>\n",
       "      <td>George Jack</td>\n",
       "      <td>B0012RMVH0</td>\n",
       "      <td>Arts &amp; Photography</td>\n",
       "      <td>310.0</td>\n",
       "      <td>0</td>\n",
       "      <td>0</td>\n",
       "    </tr>\n",
       "    <tr>\n",
       "      <th>1075</th>\n",
       "      <td>Souls Night (The Vampire Pacts) - Kindle edition</td>\n",
       "      <td>Kallysten</td>\n",
       "      <td>B0012TAD1O</td>\n",
       "      <td>Romance</td>\n",
       "      <td>74.0</td>\n",
       "      <td>1</td>\n",
       "      <td>1</td>\n",
       "    </tr>\n",
       "    <tr>\n",
       "      <th>1078</th>\n",
       "      <td>The Misplaced Horse (1) eBook</td>\n",
       "      <td>Constance Downes</td>\n",
       "      <td>B0012U0NKE</td>\n",
       "      <td>Comics, Manga &amp; Graphic Novels</td>\n",
       "      <td>444.0</td>\n",
       "      <td>0</td>\n",
       "      <td>1</td>\n",
       "    </tr>\n",
       "  </tbody>\n",
       "</table>\n",
       "</div>"
      ],
      "text/plain": [
       "                                                  title               brand  \\\n",
       "1039                             God in the White House      Randall Balmer   \n",
       "1053  Vingt Mille Lieues sous les mers (French Editi...        Jules Verne    \n",
       "1071  Wood-Carving Design and Workmanship - Kindle e...         George Jack   \n",
       "1075   Souls Night (The Vampire Pacts) - Kindle edition          Kallysten    \n",
       "1078                      The Misplaced Horse (1) eBook   Constance Downes    \n",
       "\n",
       "            asin                           genre  print_length  word_wise  \\\n",
       "1039  B0012GTZCK                         History         260.0          1   \n",
       "1053  B0012LHGJ4                       Reference         606.0          0   \n",
       "1071  B0012RMVH0              Arts & Photography         310.0          0   \n",
       "1075  B0012TAD1O                         Romance          74.0          1   \n",
       "1078  B0012U0NKE  Comics, Manga & Graphic Novels         444.0          0   \n",
       "\n",
       "      lending  \n",
       "1039        0  \n",
       "1053        1  \n",
       "1071        0  \n",
       "1075        1  \n",
       "1078        1  "
      ]
     },
     "execution_count": 32,
     "metadata": {},
     "output_type": "execute_result"
    }
   ],
   "source": [
    "meta_clean(df_meta_all)"
   ]
  },
  {
   "cell_type": "code",
   "execution_count": 33,
   "metadata": {
    "scrolled": true
   },
   "outputs": [
    {
     "name": "stdout",
     "output_type": "stream",
     "text": [
      "<class 'pandas.core.frame.DataFrame'>\n",
      "Int64Index: 94029 entries, 1039 to 478021\n",
      "Data columns (total 7 columns):\n",
      " #   Column        Non-Null Count  Dtype  \n",
      "---  ------        --------------  -----  \n",
      " 0   title         94029 non-null  object \n",
      " 1   brand         94029 non-null  object \n",
      " 2   asin          94029 non-null  object \n",
      " 3   genre         94029 non-null  object \n",
      " 4   print_length  93512 non-null  float64\n",
      " 5   word_wise     94029 non-null  int64  \n",
      " 6   lending       94029 non-null  int64  \n",
      "dtypes: float64(1), int64(2), object(4)\n",
      "memory usage: 5.7+ MB\n"
     ]
    }
   ],
   "source": [
    "df_meta_all.info()"
   ]
  },
  {
   "cell_type": "code",
   "execution_count": 34,
   "metadata": {
    "scrolled": true
   },
   "outputs": [
    {
     "data": {
      "text/plain": [
       "title             0\n",
       "brand             0\n",
       "asin              0\n",
       "genre             0\n",
       "print_length    517\n",
       "word_wise         0\n",
       "lending           0\n",
       "dtype: int64"
      ]
     },
     "execution_count": 34,
     "metadata": {},
     "output_type": "execute_result"
    }
   ],
   "source": [
    "df_meta_all.isna().sum()"
   ]
  },
  {
   "cell_type": "code",
   "execution_count": 35,
   "metadata": {},
   "outputs": [],
   "source": [
    "df_meta_all['print_length'] = df_meta_all.groupby(['genre'], sort=False)['print_length'].apply(lambda x: x.fillna(x.mean()))"
   ]
  },
  {
   "cell_type": "code",
   "execution_count": 36,
   "metadata": {},
   "outputs": [
    {
     "data": {
      "text/html": [
       "<div>\n",
       "<style scoped>\n",
       "    .dataframe tbody tr th:only-of-type {\n",
       "        vertical-align: middle;\n",
       "    }\n",
       "\n",
       "    .dataframe tbody tr th {\n",
       "        vertical-align: top;\n",
       "    }\n",
       "\n",
       "    .dataframe thead th {\n",
       "        text-align: right;\n",
       "    }\n",
       "</style>\n",
       "<table border=\"1\" class=\"dataframe\">\n",
       "  <thead>\n",
       "    <tr style=\"text-align: right;\">\n",
       "      <th></th>\n",
       "      <th>title</th>\n",
       "      <th>brand</th>\n",
       "      <th>asin</th>\n",
       "      <th>genre</th>\n",
       "      <th>print_length</th>\n",
       "      <th>word_wise</th>\n",
       "      <th>lending</th>\n",
       "    </tr>\n",
       "  </thead>\n",
       "  <tbody>\n",
       "    <tr>\n",
       "      <th>1039</th>\n",
       "      <td>God in the White House</td>\n",
       "      <td>Randall Balmer</td>\n",
       "      <td>B0012GTZCK</td>\n",
       "      <td>History</td>\n",
       "      <td>260.0</td>\n",
       "      <td>1</td>\n",
       "      <td>0</td>\n",
       "    </tr>\n",
       "    <tr>\n",
       "      <th>1053</th>\n",
       "      <td>Vingt Mille Lieues sous les mers (French Editi...</td>\n",
       "      <td>Jules Verne</td>\n",
       "      <td>B0012LHGJ4</td>\n",
       "      <td>Reference</td>\n",
       "      <td>606.0</td>\n",
       "      <td>0</td>\n",
       "      <td>1</td>\n",
       "    </tr>\n",
       "    <tr>\n",
       "      <th>1071</th>\n",
       "      <td>Wood-Carving Design and Workmanship - Kindle e...</td>\n",
       "      <td>George Jack</td>\n",
       "      <td>B0012RMVH0</td>\n",
       "      <td>Arts &amp; Photography</td>\n",
       "      <td>310.0</td>\n",
       "      <td>0</td>\n",
       "      <td>0</td>\n",
       "    </tr>\n",
       "    <tr>\n",
       "      <th>1075</th>\n",
       "      <td>Souls Night (The Vampire Pacts) - Kindle edition</td>\n",
       "      <td>Kallysten</td>\n",
       "      <td>B0012TAD1O</td>\n",
       "      <td>Romance</td>\n",
       "      <td>74.0</td>\n",
       "      <td>1</td>\n",
       "      <td>1</td>\n",
       "    </tr>\n",
       "    <tr>\n",
       "      <th>1078</th>\n",
       "      <td>The Misplaced Horse (1) eBook</td>\n",
       "      <td>Constance Downes</td>\n",
       "      <td>B0012U0NKE</td>\n",
       "      <td>Comics, Manga &amp; Graphic Novels</td>\n",
       "      <td>444.0</td>\n",
       "      <td>0</td>\n",
       "      <td>1</td>\n",
       "    </tr>\n",
       "  </tbody>\n",
       "</table>\n",
       "</div>"
      ],
      "text/plain": [
       "                                                  title               brand  \\\n",
       "1039                             God in the White House      Randall Balmer   \n",
       "1053  Vingt Mille Lieues sous les mers (French Editi...        Jules Verne    \n",
       "1071  Wood-Carving Design and Workmanship - Kindle e...         George Jack   \n",
       "1075   Souls Night (The Vampire Pacts) - Kindle edition          Kallysten    \n",
       "1078                      The Misplaced Horse (1) eBook   Constance Downes    \n",
       "\n",
       "            asin                           genre  print_length  word_wise  \\\n",
       "1039  B0012GTZCK                         History         260.0          1   \n",
       "1053  B0012LHGJ4                       Reference         606.0          0   \n",
       "1071  B0012RMVH0              Arts & Photography         310.0          0   \n",
       "1075  B0012TAD1O                         Romance          74.0          1   \n",
       "1078  B0012U0NKE  Comics, Manga & Graphic Novels         444.0          0   \n",
       "\n",
       "      lending  \n",
       "1039        0  \n",
       "1053        1  \n",
       "1071        0  \n",
       "1075        1  \n",
       "1078        1  "
      ]
     },
     "execution_count": 36,
     "metadata": {},
     "output_type": "execute_result"
    }
   ],
   "source": [
    "meta_clean(df_meta5)"
   ]
  },
  {
   "cell_type": "code",
   "execution_count": 37,
   "metadata": {
    "scrolled": false
   },
   "outputs": [
    {
     "name": "stdout",
     "output_type": "stream",
     "text": [
      "<class 'pandas.core.frame.DataFrame'>\n",
      "Int64Index: 93547 entries, 1039 to 478017\n",
      "Data columns (total 7 columns):\n",
      " #   Column        Non-Null Count  Dtype  \n",
      "---  ------        --------------  -----  \n",
      " 0   title         93547 non-null  object \n",
      " 1   brand         93547 non-null  object \n",
      " 2   asin          93547 non-null  object \n",
      " 3   genre         93547 non-null  object \n",
      " 4   print_length  93036 non-null  float64\n",
      " 5   word_wise     93547 non-null  int64  \n",
      " 6   lending       93547 non-null  int64  \n",
      "dtypes: float64(1), int64(2), object(4)\n",
      "memory usage: 5.7+ MB\n"
     ]
    }
   ],
   "source": [
    "df_meta5.info()"
   ]
  },
  {
   "cell_type": "code",
   "execution_count": 38,
   "metadata": {},
   "outputs": [
    {
     "data": {
      "text/plain": [
       "title             0\n",
       "brand             0\n",
       "asin              0\n",
       "genre             0\n",
       "print_length    511\n",
       "word_wise         0\n",
       "lending           0\n",
       "dtype: int64"
      ]
     },
     "execution_count": 38,
     "metadata": {},
     "output_type": "execute_result"
    }
   ],
   "source": [
    "df_meta5.isna().sum()"
   ]
  },
  {
   "cell_type": "code",
   "execution_count": 39,
   "metadata": {
    "scrolled": true
   },
   "outputs": [],
   "source": [
    "df_meta5['print_length'] = df_meta5.groupby(['genre'], sort=False)['print_length'].apply(lambda x: x.fillna(x.mean()))"
   ]
  },
  {
   "cell_type": "code",
   "execution_count": 40,
   "metadata": {},
   "outputs": [],
   "source": [
    "df_meta_all.to_csv('Data/meta_all.csv')\n",
    "df_meta5.to_csv('Data/meta5.csv')"
   ]
  },
  {
   "cell_type": "code",
   "execution_count": 41,
   "metadata": {},
   "outputs": [],
   "source": [
    "popular = df_rev.groupby(by = 'asin').count()\n",
    "popular = popular.sort_values(by = 'overall', ascending=False)"
   ]
  },
  {
   "cell_type": "code",
   "execution_count": 42,
   "metadata": {
    "scrolled": false
   },
   "outputs": [
    {
     "data": {
      "text/html": [
       "<div>\n",
       "<style scoped>\n",
       "    .dataframe tbody tr th:only-of-type {\n",
       "        vertical-align: middle;\n",
       "    }\n",
       "\n",
       "    .dataframe tbody tr th {\n",
       "        vertical-align: top;\n",
       "    }\n",
       "\n",
       "    .dataframe thead th {\n",
       "        text-align: right;\n",
       "    }\n",
       "</style>\n",
       "<table border=\"1\" class=\"dataframe\">\n",
       "  <thead>\n",
       "    <tr style=\"text-align: right;\">\n",
       "      <th></th>\n",
       "      <th>overall</th>\n",
       "      <th>reviewTime</th>\n",
       "      <th>reviewerID</th>\n",
       "      <th>reviewText</th>\n",
       "      <th>summary</th>\n",
       "    </tr>\n",
       "    <tr>\n",
       "      <th>asin</th>\n",
       "      <th></th>\n",
       "      <th></th>\n",
       "      <th></th>\n",
       "      <th></th>\n",
       "      <th></th>\n",
       "    </tr>\n",
       "  </thead>\n",
       "  <tbody>\n",
       "    <tr>\n",
       "      <th>B00YN6XHMU</th>\n",
       "      <td>1945</td>\n",
       "      <td>1945</td>\n",
       "      <td>1945</td>\n",
       "      <td>1945</td>\n",
       "      <td>1945</td>\n",
       "    </tr>\n",
       "    <tr>\n",
       "      <th>B00ESJ3S94</th>\n",
       "      <td>1110</td>\n",
       "      <td>1110</td>\n",
       "      <td>1110</td>\n",
       "      <td>1110</td>\n",
       "      <td>1110</td>\n",
       "    </tr>\n",
       "    <tr>\n",
       "      <th>B00C2WDD5I</th>\n",
       "      <td>901</td>\n",
       "      <td>901</td>\n",
       "      <td>901</td>\n",
       "      <td>901</td>\n",
       "      <td>901</td>\n",
       "    </tr>\n",
       "    <tr>\n",
       "      <th>B00IJYII4E</th>\n",
       "      <td>795</td>\n",
       "      <td>795</td>\n",
       "      <td>795</td>\n",
       "      <td>795</td>\n",
       "      <td>795</td>\n",
       "    </tr>\n",
       "    <tr>\n",
       "      <th>B015BIHKH6</th>\n",
       "      <td>724</td>\n",
       "      <td>724</td>\n",
       "      <td>724</td>\n",
       "      <td>724</td>\n",
       "      <td>724</td>\n",
       "    </tr>\n",
       "  </tbody>\n",
       "</table>\n",
       "</div>"
      ],
      "text/plain": [
       "            overall  reviewTime  reviewerID  reviewText  summary\n",
       "asin                                                            \n",
       "B00YN6XHMU     1945        1945        1945        1945     1945\n",
       "B00ESJ3S94     1110        1110        1110        1110     1110\n",
       "B00C2WDD5I      901         901         901         901      901\n",
       "B00IJYII4E      795         795         795         795      795\n",
       "B015BIHKH6      724         724         724         724      724"
      ]
     },
     "execution_count": 42,
     "metadata": {},
     "output_type": "execute_result"
    }
   ],
   "source": [
    "popular.head()"
   ]
  },
  {
   "cell_type": "code",
   "execution_count": 43,
   "metadata": {},
   "outputs": [
    {
     "data": {
      "text/plain": [
       "5    292\n",
       "4    234\n",
       "3    140\n",
       "2     42\n",
       "1      8\n",
       "Name: overall, dtype: int64"
      ]
     },
     "execution_count": 43,
     "metadata": {},
     "output_type": "execute_result"
    }
   ],
   "source": [
    "df_most = df_rev5.loc[df_rev5['reviewerID'] == 'A3IQ0P3M39IY8U']\n",
    "df_most['overall'].value_counts()"
   ]
  },
  {
   "cell_type": "code",
   "execution_count": 44,
   "metadata": {},
   "outputs": [
    {
     "data": {
      "text/plain": [
       "5    265\n",
       "4    193\n",
       "3    157\n",
       "2     76\n",
       "1     25\n",
       "Name: overall, dtype: int64"
      ]
     },
     "execution_count": 44,
     "metadata": {},
     "output_type": "execute_result"
    }
   ],
   "source": [
    "df_2most = df_rev5.loc[df_rev5['reviewerID'] == 'A2UNMDJYXPEQZ3']\n",
    "df_2most['overall'].value_counts()"
   ]
  },
  {
   "cell_type": "code",
   "execution_count": 45,
   "metadata": {},
   "outputs": [
    {
     "data": {
      "text/plain": [
       "5    517\n",
       "4    135\n",
       "Name: overall, dtype: int64"
      ]
     },
     "execution_count": 45,
     "metadata": {},
     "output_type": "execute_result"
    }
   ],
   "source": [
    "df_3most = df_rev5.loc[df_rev5['reviewerID'] == 'A37LY77Q2YPJVL']\n",
    "df_3most['overall'].value_counts()"
   ]
  },
  {
   "cell_type": "code",
   "execution_count": 46,
   "metadata": {},
   "outputs": [
    {
     "data": {
      "text/plain": [
       "4    535\n",
       "5     57\n",
       "3     25\n",
       "2      1\n",
       "Name: overall, dtype: int64"
      ]
     },
     "execution_count": 46,
     "metadata": {},
     "output_type": "execute_result"
    }
   ],
   "source": [
    "df_4most = df_rev5.loc[df_rev5['reviewerID'] == 'A26GE9ZG68SKIQ']\n",
    "df_4most['overall'].value_counts()"
   ]
  },
  {
   "cell_type": "code",
   "execution_count": 47,
   "metadata": {
    "scrolled": true
   },
   "outputs": [
    {
     "data": {
      "text/plain": [
       "3    248\n",
       "4    236\n",
       "2    104\n",
       "5     15\n",
       "1     10\n",
       "Name: overall, dtype: int64"
      ]
     },
     "execution_count": 47,
     "metadata": {},
     "output_type": "execute_result"
    }
   ],
   "source": [
    "df_5most = df_rev5.loc[df_rev5['reviewerID'] == 'A2VXSQHJWZAQGY']\n",
    "df_5most['overall'].value_counts()"
   ]
  },
  {
   "cell_type": "code",
   "execution_count": 48,
   "metadata": {},
   "outputs": [],
   "source": [
    "df_books_rev = df_rev.groupby(['asin'], as_index = False).agg({'reviewText': ' '.join})\n",
    "df_books_rev.to_csv('Data/df_books_rev.csv')"
   ]
  },
  {
   "cell_type": "code",
   "execution_count": 49,
   "metadata": {
    "scrolled": false
   },
   "outputs": [
    {
     "data": {
      "text/html": [
       "<div>\n",
       "<style scoped>\n",
       "    .dataframe tbody tr th:only-of-type {\n",
       "        vertical-align: middle;\n",
       "    }\n",
       "\n",
       "    .dataframe tbody tr th {\n",
       "        vertical-align: top;\n",
       "    }\n",
       "\n",
       "    .dataframe thead th {\n",
       "        text-align: right;\n",
       "    }\n",
       "</style>\n",
       "<table border=\"1\" class=\"dataframe\">\n",
       "  <thead>\n",
       "    <tr style=\"text-align: right;\">\n",
       "      <th></th>\n",
       "      <th>asin</th>\n",
       "      <th>reviewText</th>\n",
       "    </tr>\n",
       "  </thead>\n",
       "  <tbody>\n",
       "    <tr>\n",
       "      <th>0</th>\n",
       "      <td>B0012GTZCK</td>\n",
       "      <td>Not what I was expecting. I was looking for a ...</td>\n",
       "    </tr>\n",
       "    <tr>\n",
       "      <th>1</th>\n",
       "      <td>B0012LHGJ4</td>\n",
       "      <td>IT WAS DONE AS A FILM IN THE 1950-60s.  VERY P...</td>\n",
       "    </tr>\n",
       "    <tr>\n",
       "      <th>2</th>\n",
       "      <td>B0012RMVH0</td>\n",
       "      <td>Needs pictures Excellent book. This is somethi...</td>\n",
       "    </tr>\n",
       "    <tr>\n",
       "      <th>3</th>\n",
       "      <td>B0012TAD1O</td>\n",
       "      <td>She always delivers with an exciting storyline...</td>\n",
       "    </tr>\n",
       "    <tr>\n",
       "      <th>4</th>\n",
       "      <td>B0012U0NKE</td>\n",
       "      <td>&lt;a data-hook=\"product-link-linked\" class=\"a-li...</td>\n",
       "    </tr>\n",
       "  </tbody>\n",
       "</table>\n",
       "</div>"
      ],
      "text/plain": [
       "         asin                                         reviewText\n",
       "0  B0012GTZCK  Not what I was expecting. I was looking for a ...\n",
       "1  B0012LHGJ4  IT WAS DONE AS A FILM IN THE 1950-60s.  VERY P...\n",
       "2  B0012RMVH0  Needs pictures Excellent book. This is somethi...\n",
       "3  B0012TAD1O  She always delivers with an exciting storyline...\n",
       "4  B0012U0NKE  <a data-hook=\"product-link-linked\" class=\"a-li..."
      ]
     },
     "execution_count": 49,
     "metadata": {},
     "output_type": "execute_result"
    }
   ],
   "source": [
    "df_books_rev.head()"
   ]
  },
  {
   "cell_type": "code",
   "execution_count": 50,
   "metadata": {},
   "outputs": [
    {
     "name": "stdout",
     "output_type": "stream",
     "text": [
      "<class 'pandas.core.frame.DataFrame'>\n",
      "RangeIndex: 94029 entries, 0 to 94028\n",
      "Data columns (total 2 columns):\n",
      " #   Column      Non-Null Count  Dtype \n",
      "---  ------      --------------  ----- \n",
      " 0   asin        94029 non-null  object\n",
      " 1   reviewText  94029 non-null  object\n",
      "dtypes: object(2)\n",
      "memory usage: 1.4+ MB\n"
     ]
    }
   ],
   "source": [
    "df_books_rev.info()"
   ]
  }
 ],
 "metadata": {
  "kernelspec": {
   "display_name": "kindle-env",
   "language": "python",
   "name": "kindle-env"
  },
  "language_info": {
   "codemirror_mode": {
    "name": "ipython",
    "version": 3
   },
   "file_extension": ".py",
   "mimetype": "text/x-python",
   "name": "python",
   "nbconvert_exporter": "python",
   "pygments_lexer": "ipython3",
   "version": "3.9.7"
  }
 },
 "nbformat": 4,
 "nbformat_minor": 4
}
