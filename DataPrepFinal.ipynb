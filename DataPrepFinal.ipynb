{
 "cells": [
  {
   "cell_type": "markdown",
   "metadata": {},
   "source": [
    "# Kindle Book Recommender System"
   ]
  },
  {
   "cell_type": "markdown",
   "metadata": {},
   "source": [
    "### Imports"
   ]
  },
  {
   "cell_type": "code",
   "execution_count": 1,
   "metadata": {},
   "outputs": [],
   "source": [
    "import pandas as pd\n",
    "import numpy as np\n",
    "import matplotlib as plt\n",
    "import warnings\n",
    "warnings.filterwarnings('ignore')"
   ]
  },
  {
   "cell_type": "code",
   "execution_count": 2,
   "metadata": {},
   "outputs": [],
   "source": [
    "pd.reset_option('display.max_rows')"
   ]
  },
  {
   "cell_type": "code",
   "execution_count": 3,
   "metadata": {},
   "outputs": [],
   "source": [
    "def getthirdValue(aList):\n",
    "    return aList[2:3]"
   ]
  },
  {
   "cell_type": "code",
   "execution_count": 4,
   "metadata": {},
   "outputs": [],
   "source": [
    "def meta_clean(data):\n",
    "    data.drop(columns=['tech1', 'description', 'fit', 'tech2',\n",
    "                    'feature', 'rank', 'also_view', 'main_cat',\n",
    "                    'similar_item', 'date', 'price', 'imageURL',\n",
    "                    'imageURLHighRes', 'also_buy'], inplace=True)\n",
    "    data['category'] = data['category'].apply(eval)\n",
    "    data['genre'] = data['category'].apply(getthirdValue)\n",
    "    data['genre'] = data['genre'].apply(lambda x: ','.join(map(str, x)))\n",
    "    data['genre'] = data['genre'].str.replace('amp;', '')\n",
    "    data.drop(columns=['category'], inplace=True)\n",
    "    data['details'] = data['details'].apply(eval)\n",
    "    print_length = [d.get('Print Length:') for d in data['details']]\n",
    "    data['print_length'] = print_length\n",
    "    data['print_length'] = data['print_length'].str.extract('(\\d+)', expand=False)\n",
    "    data['print_length']= data['print_length'].astype(float)\n",
    "    word_wise = [d.get('Word Wise:') for d in data['details']]\n",
    "    data['word_wise'] = word_wise\n",
    "    lending = [d.get('Lending:') for d in data['details']]\n",
    "    data['lending'] = lending\n",
    "    bool_dict = {'Enabled': 1, 'Not Enabled': 0}\n",
    "    data['word_wise'] = data['word_wise'].map(bool_dict)\n",
    "    data['lending'] = data['lending'].map(bool_dict)\n",
    "    data['brand'] = data['brand'].str.replace(\"Visit Amazon's\", '')\n",
    "    data['brand'] = data['brand'].str.replace(\"Page\", '')\n",
    "    data.drop(columns=['details'], inplace=True)\n",
    "    data['title'].str.replace(\"&#39;\", \"'\")\n",
    "    data.rename(columns={'brand': 'author'}, inplace=True)\n",
    "    return data.head()"
   ]
  },
  {
   "cell_type": "code",
   "execution_count": 5,
   "metadata": {},
   "outputs": [],
   "source": [
    "path = 'C:\\\\Users\\\\danie\\\\Documents\\\\Flatiron\\\\Projects\\\\Capstone\\\\Rawdata\\\\meta_Kindle_Store.gz'\n",
    "df_meta = pd.read_json(path, compression='gzip', lines=True)"
   ]
  },
  {
   "cell_type": "code",
   "execution_count": 6,
   "metadata": {},
   "outputs": [],
   "source": [
    "path = 'C:\\\\Users\\\\danie\\\\Documents\\\\Flatiron\\\\Projects\\\\Capstone\\\\Rawdata\\\\Kindle_Store_5.gz'\n",
    "df_rev = pd.read_json(path, compression='gzip', lines=True)"
   ]
  },
  {
   "cell_type": "code",
   "execution_count": 7,
   "metadata": {
    "scrolled": false
   },
   "outputs": [
    {
     "name": "stdout",
     "output_type": "stream",
     "text": [
      "<class 'pandas.core.frame.DataFrame'>\n",
      "RangeIndex: 491670 entries, 0 to 491669\n",
      "Data columns (total 19 columns):\n",
      " #   Column           Non-Null Count   Dtype         \n",
      "---  ------           --------------   -----         \n",
      " 0   category         491670 non-null  object        \n",
      " 1   tech1            491670 non-null  object        \n",
      " 2   description      491670 non-null  object        \n",
      " 3   fit              491670 non-null  object        \n",
      " 4   title            491670 non-null  object        \n",
      " 5   also_buy         491670 non-null  object        \n",
      " 6   tech2            491670 non-null  object        \n",
      " 7   brand            491670 non-null  object        \n",
      " 8   feature          491670 non-null  object        \n",
      " 9   rank             491670 non-null  object        \n",
      " 10  also_view        491670 non-null  object        \n",
      " 11  details          491670 non-null  object        \n",
      " 12  main_cat         491670 non-null  object        \n",
      " 13  similar_item     491670 non-null  object        \n",
      " 14  date             0 non-null       datetime64[ns]\n",
      " 15  price            491670 non-null  object        \n",
      " 16  asin             491670 non-null  object        \n",
      " 17  imageURL         491670 non-null  object        \n",
      " 18  imageURLHighRes  491670 non-null  object        \n",
      "dtypes: datetime64[ns](1), object(18)\n",
      "memory usage: 71.3+ MB\n"
     ]
    }
   ],
   "source": [
    "df_meta.info()"
   ]
  },
  {
   "cell_type": "code",
   "execution_count": 8,
   "metadata": {
    "scrolled": false
   },
   "outputs": [
    {
     "ename": "TypeError",
     "evalue": "unhashable type: 'list'",
     "output_type": "error",
     "traceback": [
      "\u001b[1;31m---------------------------------------------------------------------------\u001b[0m",
      "\u001b[1;31mTypeError\u001b[0m                                 Traceback (most recent call last)",
      "\u001b[1;32mpandas\\_libs\\hashtable_class_helper.pxi\u001b[0m in \u001b[0;36mpandas._libs.hashtable.PyObjectHashTable.map_locations\u001b[1;34m()\u001b[0m\n",
      "\u001b[1;31mTypeError\u001b[0m: unhashable type: 'list'"
     ]
    },
    {
     "name": "stderr",
     "output_type": "stream",
     "text": [
      "Exception ignored in: 'pandas._libs.index.IndexEngine._call_map_locations'\n",
      "Traceback (most recent call last):\n",
      "  File \"pandas\\_libs\\hashtable_class_helper.pxi\", line 5231, in pandas._libs.hashtable.PyObjectHashTable.map_locations\n",
      "TypeError: unhashable type: 'list'\n"
     ]
    },
    {
     "data": {
      "text/plain": [
       "[Kindle Store, Kindle eBooks, Literature & Fiction]                                                                                                                                                                                                                                                                                                                                                                                                                                                                                                                                                                                                                                                                                                                                                                                                                                                                                                                                                                                                                                                                                                                                                                        148750\n",
       "[Kindle Store, Kindle eBooks, Religion & Spirituality]                                                                                                                                                                                                                                                                                                                                                                                                                                                                                                                                                                                                                                                                                                                                                                                                                                                                                                                                                                                                                                                                                                                                                                      48633\n",
       "[Kindle Store, Kindle eBooks, Romance]                                                                                                                                                                                                                                                                                                                                                                                                                                                                                                                                                                                                                                                                                                                                                                                                                                                                                                                                                                                                                                                                                                                                                                                      34376\n",
       "[Kindle Store, Kindle eBooks, Science Fiction & Fantasy]                                                                                                                                                                                                                                                                                                                                                                                                                                                                                                                                                                                                                                                                                                                                                                                                                                                                                                                                                                                                                                                                                                                                                                    29341\n",
       "[Kindle Store, Kindle eBooks, Children's eBooks]                                                                                                                                                                                                                                                                                                                                                                                                                                                                                                                                                                                                                                                                                                                                                                                                                                                                                                                                                                                                                                                                                                                                                                            27378\n",
       "                                                                                                                                                                                                                                                                                                                                                                                                                                                                                                                                                                                                                                                                                                                                                                                                                                                                                                                                                                                                                                                                                                                                                                                                                            ...  \n",
       "[Kindle Store, Kindle Blogs, Sports, All Leagues, MLB, <a class=\"a-link-normal\" href=\"/gp/product/B007HCCNJU/ref=con_dp_avail_kin_sz\">Kindle (5th Generation)</a>, <a class=\"a-link-normal\" href=\"/gp/product/B002Y27P3M/ref=con_dp_avail_kink_w\">Kindle Keyboard</a>, <a class=\"a-link-normal\" href=\"/gp/product/B002GYWHSQ/ref=con_dp_avail_kindx\">Kindle DX</a>, <a class=\"a-link-normal\" href=\"/gp/product/B0015T963C/ref=con_dp_avail_kin2\">Kindle (2nd Generation)</a>, <a class=\"a-link-normal\" href=\"/gp/product/B000FI73MA/ref=con_dp_avail_kin1\">Kindle (1st Generation)</a>, <a class=\"a-link-normal\" href=\"/gp/product/B00AWVXK5O/ref=con_dp_avail_kint_p\">Kindle Paperwhite</a>, <a class=\"a-link-normal\" href=\"/gp/product/B007OZNZG0/ref=con_dp_avail_kint_c\">Kindle Paperwhite (5th Generation)</a>, <a class=\"a-link-normal\" href=\"/gp/product/B005890G8Y/ref=con_dp_avail_kint_w\">Kindle Touch</a>, <a class=\"a-link-normal\" href=\"/gp/product/B00IOY8XWQ/ref=con_dp_avail_kint_i\">Kindle Voyage</a>, <a class=\"a-link-normal\" href=\"/gp/product/B00I15SB16/ref=con_dp_avail_kint_b\">Kindle</a>, <a class=\"a-link-normal\" href=\"/gp/product/B00REQKWGA/ref=con_dp_avail_kint_o\"></a>]                         1\n",
       "[Kindle Store, Kindle Blogs, Sports, By Sport, Horse Racing, <a class=\"a-link-normal\" href=\"/gp/product/B007HCCNJU/ref=con_dp_avail_kin_sz\">Kindle (5th Generation)</a>, <a class=\"a-link-normal\" href=\"/gp/product/B002Y27P3M/ref=con_dp_avail_kink_w\">Kindle Keyboard</a>, <a class=\"a-link-normal\" href=\"/gp/product/B002GYWHSQ/ref=con_dp_avail_kindx\">Kindle DX</a>, <a class=\"a-link-normal\" href=\"/gp/product/B0015T963C/ref=con_dp_avail_kin2\">Kindle (2nd Generation)</a>, <a class=\"a-link-normal\" href=\"/gp/product/B000FI73MA/ref=con_dp_avail_kin1\">Kindle (1st Generation)</a>, <a class=\"a-link-normal\" href=\"/gp/product/B00AWVXK5O/ref=con_dp_avail_kint_p\">Kindle Paperwhite</a>, <a class=\"a-link-normal\" href=\"/gp/product/B007OZNZG0/ref=con_dp_avail_kint_c\">Kindle Paperwhite (5th Generation)</a>, <a class=\"a-link-normal\" href=\"/gp/product/B005890G8Y/ref=con_dp_avail_kint_w\">Kindle Touch</a>, <a class=\"a-link-normal\" href=\"/gp/product/B00IOY8XWQ/ref=con_dp_avail_kint_i\">Kindle Voyage</a>, <a class=\"a-link-normal\" href=\"/gp/product/B00I15SB16/ref=con_dp_avail_kint_b\">Kindle</a>, <a class=\"a-link-normal\" href=\"/gp/product/B00REQKWGA/ref=con_dp_avail_kint_o\"></a>]                   1\n",
       "[Kindle Store, Kindle Blogs, Sports, All Leagues, NASCAR, <a class=\"a-link-normal\" href=\"/gp/product/B007HCCNJU/ref=con_dp_avail_kin_sz\">Kindle (5th Generation)</a>, <a class=\"a-link-normal\" href=\"/gp/product/B002Y27P3M/ref=con_dp_avail_kink_w\">Kindle Keyboard</a>, <a class=\"a-link-normal\" href=\"/gp/product/B002GYWHSQ/ref=con_dp_avail_kindx\">Kindle DX</a>, <a class=\"a-link-normal\" href=\"/gp/product/B0015T963C/ref=con_dp_avail_kin2\">Kindle (2nd Generation)</a>, <a class=\"a-link-normal\" href=\"/gp/product/B000FI73MA/ref=con_dp_avail_kin1\">Kindle (1st Generation)</a>, <a class=\"a-link-normal\" href=\"/gp/product/B00AWVXK5O/ref=con_dp_avail_kint_p\">Kindle Paperwhite</a>, <a class=\"a-link-normal\" href=\"/gp/product/B007OZNZG0/ref=con_dp_avail_kint_c\">Kindle Paperwhite (5th Generation)</a>, <a class=\"a-link-normal\" href=\"/gp/product/B005890G8Y/ref=con_dp_avail_kint_w\">Kindle Touch</a>, <a class=\"a-link-normal\" href=\"/gp/product/B00IOY8XWQ/ref=con_dp_avail_kint_i\">Kindle Voyage</a>, <a class=\"a-link-normal\" href=\"/gp/product/B00I15SB16/ref=con_dp_avail_kint_b\">Kindle</a>, <a class=\"a-link-normal\" href=\"/gp/product/B00REQKWGA/ref=con_dp_avail_kint_o\"></a>]                      1\n",
       "[Kindle Store, Kindle Blogs, Sports, All Leagues, MLB, Atlanta Braves, <a class=\"a-link-normal\" href=\"/gp/product/B007HCCNJU/ref=con_dp_avail_kin_sz\">Kindle (5th Generation)</a>, <a class=\"a-link-normal\" href=\"/gp/product/B002Y27P3M/ref=con_dp_avail_kink_w\">Kindle Keyboard</a>, <a class=\"a-link-normal\" href=\"/gp/product/B002GYWHSQ/ref=con_dp_avail_kindx\">Kindle DX</a>, <a class=\"a-link-normal\" href=\"/gp/product/B0015T963C/ref=con_dp_avail_kin2\">Kindle (2nd Generation)</a>, <a class=\"a-link-normal\" href=\"/gp/product/B000FI73MA/ref=con_dp_avail_kin1\">Kindle (1st Generation)</a>, <a class=\"a-link-normal\" href=\"/gp/product/B00AWVXK5O/ref=con_dp_avail_kint_p\">Kindle Paperwhite</a>, <a class=\"a-link-normal\" href=\"/gp/product/B007OZNZG0/ref=con_dp_avail_kint_c\">Kindle Paperwhite (5th Generation)</a>, <a class=\"a-link-normal\" href=\"/gp/product/B005890G8Y/ref=con_dp_avail_kint_w\">Kindle Touch</a>, <a class=\"a-link-normal\" href=\"/gp/product/B00IOY8XWQ/ref=con_dp_avail_kint_i\">Kindle Voyage</a>, <a class=\"a-link-normal\" href=\"/gp/product/B00I15SB16/ref=con_dp_avail_kint_b\">Kindle</a>, <a class=\"a-link-normal\" href=\"/gp/product/B00REQKWGA/ref=con_dp_avail_kint_o\"></a>]         1\n",
       "[Kindle Store, Kindle Short Reads, One hour (33-43 pages), </span>]                                                                                                                                                                                                                                                                                                                                                                                                                                                                                                                                                                                                                                                                                                                                                                                                                                                                                                                                                                                                                                                                                                                                                             1\n",
       "Name: category, Length: 273, dtype: int64"
      ]
     },
     "execution_count": 8,
     "metadata": {},
     "output_type": "execute_result"
    }
   ],
   "source": [
    "df_meta['category'].value_counts()"
   ]
  },
  {
   "cell_type": "code",
   "execution_count": 9,
   "metadata": {},
   "outputs": [],
   "source": [
    "df_meta['category'] = df_meta['category'].astype('str')"
   ]
  },
  {
   "cell_type": "code",
   "execution_count": 10,
   "metadata": {},
   "outputs": [],
   "source": [
    "df_meta = df_meta.loc[\n",
    "    lambda df: df.category.apply(\n",
    "        lambda l: 'Kindle eBooks' in l)]"
   ]
  },
  {
   "cell_type": "code",
   "execution_count": 11,
   "metadata": {},
   "outputs": [],
   "source": [
    "df_meta['details'] = df_meta['details'].astype('str')"
   ]
  },
  {
   "cell_type": "code",
   "execution_count": 12,
   "metadata": {},
   "outputs": [],
   "source": [
    "details = list(df_meta['details'])"
   ]
  },
  {
   "cell_type": "code",
   "execution_count": 13,
   "metadata": {},
   "outputs": [
    {
     "data": {
      "text/plain": [
       "\"{'File Size:': '295 KB', 'Print Length:': '113 pages', 'Publisher:': 'FuturesPast Editions (October 14, 2001)', 'Publication Date:': 'October 14, 2001', 'Language:': 'English', 'ASIN:': 'B000FA5KKA', 'Word Wise:': 'Enabled', 'Lending:': 'Enabled'}\""
      ]
     },
     "execution_count": 13,
     "metadata": {},
     "output_type": "execute_result"
    }
   ],
   "source": [
    "details[0]"
   ]
  },
  {
   "cell_type": "code",
   "execution_count": 14,
   "metadata": {
    "scrolled": true
   },
   "outputs": [
    {
     "data": {
      "text/html": [
       "<div>\n",
       "<style scoped>\n",
       "    .dataframe tbody tr th:only-of-type {\n",
       "        vertical-align: middle;\n",
       "    }\n",
       "\n",
       "    .dataframe tbody tr th {\n",
       "        vertical-align: top;\n",
       "    }\n",
       "\n",
       "    .dataframe thead th {\n",
       "        text-align: right;\n",
       "    }\n",
       "</style>\n",
       "<table border=\"1\" class=\"dataframe\">\n",
       "  <thead>\n",
       "    <tr style=\"text-align: right;\">\n",
       "      <th></th>\n",
       "      <th>title</th>\n",
       "      <th>author</th>\n",
       "      <th>asin</th>\n",
       "      <th>genre</th>\n",
       "      <th>print_length</th>\n",
       "      <th>word_wise</th>\n",
       "      <th>lending</th>\n",
       "    </tr>\n",
       "  </thead>\n",
       "  <tbody>\n",
       "    <tr>\n",
       "      <th>0</th>\n",
       "      <td></td>\n",
       "      <td>Arthur K. Barnes</td>\n",
       "      <td>B000FA5KKA</td>\n",
       "      <td>Science Fiction &amp; Fantasy</td>\n",
       "      <td>113.0</td>\n",
       "      <td>1.0</td>\n",
       "      <td>1.0</td>\n",
       "    </tr>\n",
       "    <tr>\n",
       "      <th>1</th>\n",
       "      <td></td>\n",
       "      <td>Paul A. Craig</td>\n",
       "      <td>B000FA5M3K</td>\n",
       "      <td>Engineering &amp; Transportation</td>\n",
       "      <td>268.0</td>\n",
       "      <td>0.0</td>\n",
       "      <td>0.0</td>\n",
       "    </tr>\n",
       "    <tr>\n",
       "      <th>2</th>\n",
       "      <td></td>\n",
       "      <td>Jean Marie Stine</td>\n",
       "      <td>B000FA5KJQ</td>\n",
       "      <td>Biographies &amp; Memoirs</td>\n",
       "      <td>103.0</td>\n",
       "      <td>1.0</td>\n",
       "      <td>1.0</td>\n",
       "    </tr>\n",
       "    <tr>\n",
       "      <th>3</th>\n",
       "      <td></td>\n",
       "      <td>Arthur K. Barnes</td>\n",
       "      <td>B000FA5NSO</td>\n",
       "      <td>Science Fiction &amp; Fantasy</td>\n",
       "      <td>116.0</td>\n",
       "      <td>0.0</td>\n",
       "      <td>1.0</td>\n",
       "    </tr>\n",
       "    <tr>\n",
       "      <th>4</th>\n",
       "      <td></td>\n",
       "      <td>Ethan M. Rasiel</td>\n",
       "      <td>B000FA5KX2</td>\n",
       "      <td>Business &amp; Money</td>\n",
       "      <td>187.0</td>\n",
       "      <td>1.0</td>\n",
       "      <td>0.0</td>\n",
       "    </tr>\n",
       "  </tbody>\n",
       "</table>\n",
       "</div>"
      ],
      "text/plain": [
       "  title             author        asin                         genre  \\\n",
       "0         Arthur K. Barnes  B000FA5KKA     Science Fiction & Fantasy   \n",
       "1           Paul A. Craig   B000FA5M3K  Engineering & Transportation   \n",
       "2         Jean Marie Stine  B000FA5KJQ         Biographies & Memoirs   \n",
       "3         Arthur K. Barnes  B000FA5NSO     Science Fiction & Fantasy   \n",
       "4         Ethan M. Rasiel   B000FA5KX2              Business & Money   \n",
       "\n",
       "   print_length  word_wise  lending  \n",
       "0         113.0        1.0      1.0  \n",
       "1         268.0        0.0      0.0  \n",
       "2         103.0        1.0      1.0  \n",
       "3         116.0        0.0      1.0  \n",
       "4         187.0        1.0      0.0  "
      ]
     },
     "execution_count": 14,
     "metadata": {},
     "output_type": "execute_result"
    }
   ],
   "source": [
    "meta_clean(df_meta)"
   ]
  },
  {
   "cell_type": "code",
   "execution_count": 15,
   "metadata": {
    "scrolled": true
   },
   "outputs": [
    {
     "data": {
      "text/plain": [
       "Literature & Fiction                           149570\n",
       "Religion & Spirituality                         48975\n",
       "Romance                                         34401\n",
       "Science Fiction & Fantasy                       29383\n",
       "Children's eBooks                               27427\n",
       "Business & Money                                25014\n",
       "Health, Fitness & Dieting                       19009\n",
       "Mystery, Thriller & Suspense                    14910\n",
       "History                                         13544\n",
       "Biographies & Memoirs                           11759\n",
       "Cookbooks, Food & Wine                          10796\n",
       "Politics & Social Sciences                       8885\n",
       "Teen & Young Adult                               8754\n",
       "Education & Teaching                             8711\n",
       "Humor & Entertainment                            7898\n",
       "Arts & Photography                               7652\n",
       "Sports & Outdoors                                7356\n",
       "Crafts, Hobbies & Home                           6041\n",
       "Comics, Manga & Graphic Novels                   5939\n",
       "Foreign Languages                                5367\n",
       "Reference                                        5270\n",
       "Parenting & Relationships                        4938\n",
       "Science & Math                                   4721\n",
       "Computers & Technology                           4653\n",
       "Self-Help                                        4467\n",
       "Travel                                           4018\n",
       "Engineering & Transportation                     2108\n",
       "Medical eBooks                                   1973\n",
       "Nonfiction                                       1830\n",
       "                                                 1045\n",
       "Law                                              1024\n",
       "Lesbian, Gay, Bisexual & Transgender eBooks        26\n",
       "Kindle Keyboard                                     6\n",
       "</span>                                             5\n",
       "Kindle (5th Generation)                             3\n",
       "Name: genre, dtype: int64"
      ]
     },
     "execution_count": 15,
     "metadata": {},
     "output_type": "execute_result"
    }
   ],
   "source": [
    "df_meta.genre.value_counts()"
   ]
  },
  {
   "cell_type": "code",
   "execution_count": 16,
   "metadata": {},
   "outputs": [],
   "source": [
    "df_meta = df_meta[df_meta['genre'].map(df_meta['genre'].value_counts()) > 1000]\n",
    "df_meta = df_meta.loc[df_meta['genre'] != '']"
   ]
  },
  {
   "cell_type": "code",
   "execution_count": 17,
   "metadata": {},
   "outputs": [],
   "source": [
    "df_meta = df_meta.replace(r'^\\s*$', np.nan, regex=True)"
   ]
  },
  {
   "cell_type": "code",
   "execution_count": 18,
   "metadata": {},
   "outputs": [
    {
     "data": {
      "text/plain": [
       "title           2566\n",
       "author           899\n",
       "asin               0\n",
       "genre              0\n",
       "print_length    8247\n",
       "word_wise        348\n",
       "lending          348\n",
       "dtype: int64"
      ]
     },
     "execution_count": 18,
     "metadata": {},
     "output_type": "execute_result"
    }
   ],
   "source": [
    "df_meta.isna().sum()"
   ]
  },
  {
   "cell_type": "code",
   "execution_count": 19,
   "metadata": {},
   "outputs": [],
   "source": [
    "df_meta['print_length'] = df_meta.groupby(['genre'], sort=False)['print_length'].apply(lambda x: x.fillna(x.mean()))"
   ]
  },
  {
   "cell_type": "code",
   "execution_count": 20,
   "metadata": {},
   "outputs": [],
   "source": [
    "df_meta.dropna(inplace=True)"
   ]
  },
  {
   "cell_type": "code",
   "execution_count": 21,
   "metadata": {},
   "outputs": [
    {
     "data": {
      "text/plain": [
       "B00128EFK0    1\n",
       "B00QMTZSJ6    1\n",
       "B00QMUNOC8    1\n",
       "B00QMUNO32    1\n",
       "B00QMUNN7O    1\n",
       "             ..\n",
       "B00CU4YVAE    1\n",
       "B00CU581C2    1\n",
       "B00CU4RSOA    1\n",
       "B00CU4Z3H4    1\n",
       "B01HJH82WY    1\n",
       "Name: asin, Length: 482582, dtype: int64"
      ]
     },
     "execution_count": 21,
     "metadata": {},
     "output_type": "execute_result"
    }
   ],
   "source": [
    "df_meta.asin.value_counts()"
   ]
  },
  {
   "cell_type": "code",
   "execution_count": 22,
   "metadata": {},
   "outputs": [],
   "source": [
    "asin_list = df_meta['asin'].tolist()"
   ]
  },
  {
   "cell_type": "code",
   "execution_count": 23,
   "metadata": {
    "scrolled": false
   },
   "outputs": [
    {
     "data": {
      "text/html": [
       "<div>\n",
       "<style scoped>\n",
       "    .dataframe tbody tr th:only-of-type {\n",
       "        vertical-align: middle;\n",
       "    }\n",
       "\n",
       "    .dataframe tbody tr th {\n",
       "        vertical-align: top;\n",
       "    }\n",
       "\n",
       "    .dataframe thead th {\n",
       "        text-align: right;\n",
       "    }\n",
       "</style>\n",
       "<table border=\"1\" class=\"dataframe\">\n",
       "  <thead>\n",
       "    <tr style=\"text-align: right;\">\n",
       "      <th></th>\n",
       "      <th>overall</th>\n",
       "      <th>verified</th>\n",
       "      <th>reviewTime</th>\n",
       "      <th>reviewerID</th>\n",
       "      <th>asin</th>\n",
       "      <th>style</th>\n",
       "      <th>reviewerName</th>\n",
       "      <th>reviewText</th>\n",
       "      <th>summary</th>\n",
       "      <th>unixReviewTime</th>\n",
       "      <th>vote</th>\n",
       "      <th>image</th>\n",
       "    </tr>\n",
       "  </thead>\n",
       "  <tbody>\n",
       "    <tr>\n",
       "      <th>0</th>\n",
       "      <td>4</td>\n",
       "      <td>True</td>\n",
       "      <td>07 3, 2014</td>\n",
       "      <td>A2LSKD2H9U8N0J</td>\n",
       "      <td>B000FA5KK0</td>\n",
       "      <td>{'Format:': ' Kindle Edition'}</td>\n",
       "      <td>sandra sue marsolek</td>\n",
       "      <td>pretty good story, a little exaggerated, but I...</td>\n",
       "      <td>pretty good story</td>\n",
       "      <td>1404345600</td>\n",
       "      <td>NaN</td>\n",
       "      <td>NaN</td>\n",
       "    </tr>\n",
       "    <tr>\n",
       "      <th>1</th>\n",
       "      <td>5</td>\n",
       "      <td>True</td>\n",
       "      <td>05 26, 2014</td>\n",
       "      <td>A2QP13XTJND1QS</td>\n",
       "      <td>B000FA5KK0</td>\n",
       "      <td>{'Format:': ' Kindle Edition'}</td>\n",
       "      <td>Tpl</td>\n",
       "      <td>If you've read other max brand westerns, you k...</td>\n",
       "      <td>A very good book</td>\n",
       "      <td>1401062400</td>\n",
       "      <td>NaN</td>\n",
       "      <td>NaN</td>\n",
       "    </tr>\n",
       "    <tr>\n",
       "      <th>2</th>\n",
       "      <td>5</td>\n",
       "      <td>True</td>\n",
       "      <td>09 16, 2016</td>\n",
       "      <td>A8WQ7MAG3HFOZ</td>\n",
       "      <td>B000FA5KK0</td>\n",
       "      <td>{'Format:': ' Kindle Edition'}</td>\n",
       "      <td>Alverne F. Anderson</td>\n",
       "      <td>Love Max, always a fun twist</td>\n",
       "      <td>Five Stars</td>\n",
       "      <td>1473984000</td>\n",
       "      <td>NaN</td>\n",
       "      <td>NaN</td>\n",
       "    </tr>\n",
       "    <tr>\n",
       "      <th>3</th>\n",
       "      <td>5</td>\n",
       "      <td>True</td>\n",
       "      <td>03 3, 2016</td>\n",
       "      <td>A1E0MODSRYP7O</td>\n",
       "      <td>B000FA5KK0</td>\n",
       "      <td>{'Format:': ' Kindle Edition'}</td>\n",
       "      <td>Jeff</td>\n",
       "      <td>As usual for him, a good book</td>\n",
       "      <td>a good</td>\n",
       "      <td>1456963200</td>\n",
       "      <td>NaN</td>\n",
       "      <td>NaN</td>\n",
       "    </tr>\n",
       "    <tr>\n",
       "      <th>4</th>\n",
       "      <td>5</td>\n",
       "      <td>True</td>\n",
       "      <td>09 10, 2015</td>\n",
       "      <td>AYUTCGVSM1H7T</td>\n",
       "      <td>B000FA5KK0</td>\n",
       "      <td>{'Format:': ' Kindle Edition'}</td>\n",
       "      <td>DEHS - EddyRapcon</td>\n",
       "      <td>MB is one of the original western writers and ...</td>\n",
       "      <td>A Western</td>\n",
       "      <td>1441843200</td>\n",
       "      <td>2</td>\n",
       "      <td>NaN</td>\n",
       "    </tr>\n",
       "  </tbody>\n",
       "</table>\n",
       "</div>"
      ],
      "text/plain": [
       "   overall  verified   reviewTime      reviewerID        asin  \\\n",
       "0        4      True   07 3, 2014  A2LSKD2H9U8N0J  B000FA5KK0   \n",
       "1        5      True  05 26, 2014  A2QP13XTJND1QS  B000FA5KK0   \n",
       "2        5      True  09 16, 2016   A8WQ7MAG3HFOZ  B000FA5KK0   \n",
       "3        5      True   03 3, 2016   A1E0MODSRYP7O  B000FA5KK0   \n",
       "4        5      True  09 10, 2015   AYUTCGVSM1H7T  B000FA5KK0   \n",
       "\n",
       "                            style         reviewerName  \\\n",
       "0  {'Format:': ' Kindle Edition'}  sandra sue marsolek   \n",
       "1  {'Format:': ' Kindle Edition'}                  Tpl   \n",
       "2  {'Format:': ' Kindle Edition'}  Alverne F. Anderson   \n",
       "3  {'Format:': ' Kindle Edition'}                 Jeff   \n",
       "4  {'Format:': ' Kindle Edition'}    DEHS - EddyRapcon   \n",
       "\n",
       "                                          reviewText            summary  \\\n",
       "0  pretty good story, a little exaggerated, but I...  pretty good story   \n",
       "1  If you've read other max brand westerns, you k...   A very good book   \n",
       "2                       Love Max, always a fun twist         Five Stars   \n",
       "3                      As usual for him, a good book             a good   \n",
       "4  MB is one of the original western writers and ...          A Western   \n",
       "\n",
       "   unixReviewTime vote image  \n",
       "0      1404345600  NaN   NaN  \n",
       "1      1401062400  NaN   NaN  \n",
       "2      1473984000  NaN   NaN  \n",
       "3      1456963200  NaN   NaN  \n",
       "4      1441843200    2   NaN  "
      ]
     },
     "execution_count": 23,
     "metadata": {},
     "output_type": "execute_result"
    }
   ],
   "source": [
    "df_rev.head()"
   ]
  },
  {
   "cell_type": "code",
   "execution_count": 24,
   "metadata": {},
   "outputs": [],
   "source": [
    "df_rev = df_rev[df_rev['asin'].isin(asin_list)]"
   ]
  },
  {
   "cell_type": "code",
   "execution_count": 25,
   "metadata": {
    "scrolled": false
   },
   "outputs": [
    {
     "name": "stdout",
     "output_type": "stream",
     "text": [
      "<class 'pandas.core.frame.DataFrame'>\n",
      "Int64Index: 2198420 entries, 2741 to 2222982\n",
      "Data columns (total 12 columns):\n",
      " #   Column          Dtype \n",
      "---  ------          ----- \n",
      " 0   overall         int64 \n",
      " 1   verified        bool  \n",
      " 2   reviewTime      object\n",
      " 3   reviewerID      object\n",
      " 4   asin            object\n",
      " 5   style           object\n",
      " 6   reviewerName    object\n",
      " 7   reviewText      object\n",
      " 8   summary         object\n",
      " 9   unixReviewTime  int64 \n",
      " 10  vote            object\n",
      " 11  image           object\n",
      "dtypes: bool(1), int64(2), object(9)\n",
      "memory usage: 203.4+ MB\n"
     ]
    }
   ],
   "source": [
    "df_rev.info()"
   ]
  },
  {
   "cell_type": "code",
   "execution_count": 26,
   "metadata": {
    "scrolled": true
   },
   "outputs": [
    {
     "data": {
      "text/plain": [
       "True     1399604\n",
       "False     798816\n",
       "Name: verified, dtype: int64"
      ]
     },
     "execution_count": 26,
     "metadata": {},
     "output_type": "execute_result"
    }
   ],
   "source": [
    "df_rev.verified.value_counts()"
   ]
  },
  {
   "cell_type": "code",
   "execution_count": 27,
   "metadata": {},
   "outputs": [],
   "source": [
    "indexNames = df_rev[df_rev['verified'] == False].index\n",
    "df_rev.drop(indexNames , inplace=True)"
   ]
  },
  {
   "cell_type": "code",
   "execution_count": 28,
   "metadata": {},
   "outputs": [],
   "source": [
    "df_rev_use = df_rev.drop(columns=['reviewTime', 'verified',\n",
    "                                  'style', 'reviewerName', \n",
    "                                  'unixReviewTime', 'image', 'vote', 'summary'])"
   ]
  },
  {
   "cell_type": "code",
   "execution_count": 29,
   "metadata": {},
   "outputs": [
    {
     "data": {
      "text/plain": [
       "overall         0\n",
       "reviewerID      0\n",
       "asin            0\n",
       "reviewText    319\n",
       "dtype: int64"
      ]
     },
     "execution_count": 29,
     "metadata": {},
     "output_type": "execute_result"
    }
   ],
   "source": [
    "df_rev_use.isna().sum()"
   ]
  },
  {
   "cell_type": "code",
   "execution_count": 30,
   "metadata": {},
   "outputs": [],
   "source": [
    "df_rev_use.dropna(inplace=True)"
   ]
  },
  {
   "cell_type": "code",
   "execution_count": 31,
   "metadata": {
    "scrolled": false
   },
   "outputs": [
    {
     "data": {
      "text/plain": [
       "A2UNMDJYXPEQZ3    717\n",
       "A3IQ0P3M39IY8U    716\n",
       "A37LY77Q2YPJVL    653\n",
       "A26GE9ZG68SKIQ    618\n",
       "A2VXSQHJWZAQGY    614\n",
       "                 ... \n",
       "AFRG7LGFKNYOV       1\n",
       "A16KAI92YFBP4X      1\n",
       "A39QLU7TB2PL4C      1\n",
       "A2HJDKYR5TFEGR      1\n",
       "A3F3TCUETH67WY      1\n",
       "Name: reviewerID, Length: 131057, dtype: int64"
      ]
     },
     "execution_count": 31,
     "metadata": {},
     "output_type": "execute_result"
    }
   ],
   "source": [
    "df_rev_use['reviewerID'].value_counts()"
   ]
  },
  {
   "cell_type": "code",
   "execution_count": 32,
   "metadata": {},
   "outputs": [
    {
     "data": {
      "text/plain": [
       "B00YN6XHMU    1947\n",
       "B00ESJ3S94    1110\n",
       "B00C2WDD5I     901\n",
       "B00IJYII4E     795\n",
       "B015BIHKH6     724\n",
       "              ... \n",
       "B00H27S8V2       1\n",
       "B00H2LZOOC       1\n",
       "B017HRAYYK       1\n",
       "B00H2NDGJU       1\n",
       "B01HJENY3Y       1\n",
       "Name: asin, Length: 94211, dtype: int64"
      ]
     },
     "execution_count": 32,
     "metadata": {},
     "output_type": "execute_result"
    }
   ],
   "source": [
    "df_rev_use['asin'].value_counts()"
   ]
  },
  {
   "cell_type": "code",
   "execution_count": 33,
   "metadata": {},
   "outputs": [],
   "source": [
    "df_rev_use.to_csv('Data/df_rev_all.csv')"
   ]
  },
  {
   "cell_type": "code",
   "execution_count": 34,
   "metadata": {},
   "outputs": [],
   "source": [
    "df_rev5 = df_rev_use[df_rev_use['reviewerID'].map(df_rev_use['reviewerID'].value_counts()) > 4]"
   ]
  },
  {
   "cell_type": "code",
   "execution_count": 35,
   "metadata": {
    "scrolled": false
   },
   "outputs": [
    {
     "data": {
      "text/plain": [
       "A2UNMDJYXPEQZ3    717\n",
       "A3IQ0P3M39IY8U    716\n",
       "A37LY77Q2YPJVL    653\n",
       "A26GE9ZG68SKIQ    618\n",
       "A2VXSQHJWZAQGY    614\n",
       "                 ... \n",
       "AZEQFNT786AMH       5\n",
       "A8W4ZYLIS1ZAX       5\n",
       "A16PDUVGEHUSQS      5\n",
       "A5ETYMZJL0TAU       5\n",
       "A3I36S1KLJE1H6      5\n",
       "Name: reviewerID, Length: 98042, dtype: int64"
      ]
     },
     "execution_count": 35,
     "metadata": {},
     "output_type": "execute_result"
    }
   ],
   "source": [
    "df_rev5['reviewerID'].value_counts()"
   ]
  },
  {
   "cell_type": "code",
   "execution_count": 36,
   "metadata": {},
   "outputs": [],
   "source": [
    "df_rev5.to_csv('Data/df_rev5.csv')"
   ]
  },
  {
   "cell_type": "code",
   "execution_count": 37,
   "metadata": {},
   "outputs": [],
   "source": [
    "asin_set = set(df_rev['asin'].tolist())"
   ]
  },
  {
   "cell_type": "code",
   "execution_count": 38,
   "metadata": {},
   "outputs": [],
   "source": [
    "asin_set5 = set(df_rev5['asin'].tolist())"
   ]
  },
  {
   "cell_type": "code",
   "execution_count": 39,
   "metadata": {},
   "outputs": [
    {
     "data": {
      "text/plain": [
       "94212"
      ]
     },
     "execution_count": 39,
     "metadata": {},
     "output_type": "execute_result"
    }
   ],
   "source": [
    "len(asin_set)"
   ]
  },
  {
   "cell_type": "code",
   "execution_count": 40,
   "metadata": {
    "scrolled": false
   },
   "outputs": [
    {
     "data": {
      "text/plain": [
       "93734"
      ]
     },
     "execution_count": 40,
     "metadata": {},
     "output_type": "execute_result"
    }
   ],
   "source": [
    "len(asin_set5)"
   ]
  },
  {
   "cell_type": "code",
   "execution_count": 41,
   "metadata": {},
   "outputs": [],
   "source": [
    "df_meta_all = df_meta.loc[df_meta['asin'].isin(asin_set)]"
   ]
  },
  {
   "cell_type": "code",
   "execution_count": 42,
   "metadata": {},
   "outputs": [],
   "source": [
    "df_meta5 = df_meta.loc[df_meta['asin'].isin(asin_set5)]"
   ]
  },
  {
   "cell_type": "code",
   "execution_count": 43,
   "metadata": {},
   "outputs": [],
   "source": [
    "df_meta_all.to_csv('Data/meta_all.csv')\n",
    "df_meta5.to_csv('Data/meta5.csv')"
   ]
  },
  {
   "cell_type": "code",
   "execution_count": 44,
   "metadata": {},
   "outputs": [],
   "source": [
    "popular = df_rev_use.groupby(by = 'asin').count()\n",
    "popular = popular.sort_values(by = 'overall', ascending=False)"
   ]
  },
  {
   "cell_type": "code",
   "execution_count": 45,
   "metadata": {
    "scrolled": false
   },
   "outputs": [
    {
     "data": {
      "text/html": [
       "<div>\n",
       "<style scoped>\n",
       "    .dataframe tbody tr th:only-of-type {\n",
       "        vertical-align: middle;\n",
       "    }\n",
       "\n",
       "    .dataframe tbody tr th {\n",
       "        vertical-align: top;\n",
       "    }\n",
       "\n",
       "    .dataframe thead th {\n",
       "        text-align: right;\n",
       "    }\n",
       "</style>\n",
       "<table border=\"1\" class=\"dataframe\">\n",
       "  <thead>\n",
       "    <tr style=\"text-align: right;\">\n",
       "      <th></th>\n",
       "      <th>overall</th>\n",
       "      <th>reviewerID</th>\n",
       "      <th>reviewText</th>\n",
       "    </tr>\n",
       "    <tr>\n",
       "      <th>asin</th>\n",
       "      <th></th>\n",
       "      <th></th>\n",
       "      <th></th>\n",
       "    </tr>\n",
       "  </thead>\n",
       "  <tbody>\n",
       "    <tr>\n",
       "      <th>B00YN6XHMU</th>\n",
       "      <td>1947</td>\n",
       "      <td>1947</td>\n",
       "      <td>1947</td>\n",
       "    </tr>\n",
       "    <tr>\n",
       "      <th>B00ESJ3S94</th>\n",
       "      <td>1110</td>\n",
       "      <td>1110</td>\n",
       "      <td>1110</td>\n",
       "    </tr>\n",
       "    <tr>\n",
       "      <th>B00C2WDD5I</th>\n",
       "      <td>901</td>\n",
       "      <td>901</td>\n",
       "      <td>901</td>\n",
       "    </tr>\n",
       "    <tr>\n",
       "      <th>B00IJYII4E</th>\n",
       "      <td>795</td>\n",
       "      <td>795</td>\n",
       "      <td>795</td>\n",
       "    </tr>\n",
       "    <tr>\n",
       "      <th>B015BIHKH6</th>\n",
       "      <td>724</td>\n",
       "      <td>724</td>\n",
       "      <td>724</td>\n",
       "    </tr>\n",
       "  </tbody>\n",
       "</table>\n",
       "</div>"
      ],
      "text/plain": [
       "            overall  reviewerID  reviewText\n",
       "asin                                       \n",
       "B00YN6XHMU     1947        1947        1947\n",
       "B00ESJ3S94     1110        1110        1110\n",
       "B00C2WDD5I      901         901         901\n",
       "B00IJYII4E      795         795         795\n",
       "B015BIHKH6      724         724         724"
      ]
     },
     "execution_count": 45,
     "metadata": {},
     "output_type": "execute_result"
    }
   ],
   "source": [
    "popular.head()"
   ]
  },
  {
   "cell_type": "code",
   "execution_count": 46,
   "metadata": {},
   "outputs": [
    {
     "data": {
      "text/plain": [
       "5    266\n",
       "4    193\n",
       "3    157\n",
       "2     76\n",
       "1     25\n",
       "Name: overall, dtype: int64"
      ]
     },
     "execution_count": 46,
     "metadata": {},
     "output_type": "execute_result"
    }
   ],
   "source": [
    "df_most = df_rev5.loc[df_rev5['reviewerID'] == 'A2UNMDJYXPEQZ3']\n",
    "df_most['overall'].value_counts()"
   ]
  },
  {
   "cell_type": "code",
   "execution_count": 47,
   "metadata": {},
   "outputs": [
    {
     "data": {
      "text/plain": [
       "5    292\n",
       "4    234\n",
       "3    140\n",
       "2     42\n",
       "1      8\n",
       "Name: overall, dtype: int64"
      ]
     },
     "execution_count": 47,
     "metadata": {},
     "output_type": "execute_result"
    }
   ],
   "source": [
    "df_2most = df_rev5.loc[df_rev5['reviewerID'] == 'A3IQ0P3M39IY8U']\n",
    "df_2most['overall'].value_counts()"
   ]
  },
  {
   "cell_type": "code",
   "execution_count": 48,
   "metadata": {},
   "outputs": [
    {
     "data": {
      "text/plain": [
       "5    518\n",
       "4    135\n",
       "Name: overall, dtype: int64"
      ]
     },
     "execution_count": 48,
     "metadata": {},
     "output_type": "execute_result"
    }
   ],
   "source": [
    "df_3most = df_rev5.loc[df_rev5['reviewerID'] == 'A37LY77Q2YPJVL']\n",
    "df_3most['overall'].value_counts()"
   ]
  },
  {
   "cell_type": "code",
   "execution_count": 49,
   "metadata": {},
   "outputs": [
    {
     "data": {
      "text/plain": [
       "4    535\n",
       "5     57\n",
       "3     25\n",
       "2      1\n",
       "Name: overall, dtype: int64"
      ]
     },
     "execution_count": 49,
     "metadata": {},
     "output_type": "execute_result"
    }
   ],
   "source": [
    "df_4most = df_rev5.loc[df_rev5['reviewerID'] == 'A26GE9ZG68SKIQ']\n",
    "df_4most['overall'].value_counts()"
   ]
  },
  {
   "cell_type": "code",
   "execution_count": 50,
   "metadata": {
    "scrolled": true
   },
   "outputs": [
    {
     "data": {
      "text/plain": [
       "3    248\n",
       "4    237\n",
       "2    104\n",
       "5     15\n",
       "1     10\n",
       "Name: overall, dtype: int64"
      ]
     },
     "execution_count": 50,
     "metadata": {},
     "output_type": "execute_result"
    }
   ],
   "source": [
    "df_5most = df_rev5.loc[df_rev5['reviewerID'] == 'A2VXSQHJWZAQGY']\n",
    "df_5most['overall'].value_counts()"
   ]
  },
  {
   "cell_type": "code",
   "execution_count": 51,
   "metadata": {},
   "outputs": [],
   "source": [
    "df_books_rev = df_rev_use.groupby(['asin'], as_index = False).agg({'reviewText': ' '.join})\n",
    "df_books_rev.to_csv('Data/df_books_rev.csv')"
   ]
  },
  {
   "cell_type": "code",
   "execution_count": 52,
   "metadata": {
    "scrolled": false
   },
   "outputs": [
    {
     "data": {
      "text/html": [
       "<div>\n",
       "<style scoped>\n",
       "    .dataframe tbody tr th:only-of-type {\n",
       "        vertical-align: middle;\n",
       "    }\n",
       "\n",
       "    .dataframe tbody tr th {\n",
       "        vertical-align: top;\n",
       "    }\n",
       "\n",
       "    .dataframe thead th {\n",
       "        text-align: right;\n",
       "    }\n",
       "</style>\n",
       "<table border=\"1\" class=\"dataframe\">\n",
       "  <thead>\n",
       "    <tr style=\"text-align: right;\">\n",
       "      <th></th>\n",
       "      <th>asin</th>\n",
       "      <th>reviewText</th>\n",
       "    </tr>\n",
       "  </thead>\n",
       "  <tbody>\n",
       "    <tr>\n",
       "      <th>0</th>\n",
       "      <td>B0012GTZCK</td>\n",
       "      <td>Not what I was expecting. I was looking for a ...</td>\n",
       "    </tr>\n",
       "    <tr>\n",
       "      <th>1</th>\n",
       "      <td>B0012LHGJ4</td>\n",
       "      <td>IT WAS DONE AS A FILM IN THE 1950-60s.  VERY P...</td>\n",
       "    </tr>\n",
       "    <tr>\n",
       "      <th>2</th>\n",
       "      <td>B0012RMVH0</td>\n",
       "      <td>Needs pictures Excellent book. This is somethi...</td>\n",
       "    </tr>\n",
       "    <tr>\n",
       "      <th>3</th>\n",
       "      <td>B0012TAD1O</td>\n",
       "      <td>She always delivers with an exciting storyline...</td>\n",
       "    </tr>\n",
       "    <tr>\n",
       "      <th>4</th>\n",
       "      <td>B0012U0NKE</td>\n",
       "      <td>&lt;a data-hook=\"product-link-linked\" class=\"a-li...</td>\n",
       "    </tr>\n",
       "  </tbody>\n",
       "</table>\n",
       "</div>"
      ],
      "text/plain": [
       "         asin                                         reviewText\n",
       "0  B0012GTZCK  Not what I was expecting. I was looking for a ...\n",
       "1  B0012LHGJ4  IT WAS DONE AS A FILM IN THE 1950-60s.  VERY P...\n",
       "2  B0012RMVH0  Needs pictures Excellent book. This is somethi...\n",
       "3  B0012TAD1O  She always delivers with an exciting storyline...\n",
       "4  B0012U0NKE  <a data-hook=\"product-link-linked\" class=\"a-li..."
      ]
     },
     "execution_count": 52,
     "metadata": {},
     "output_type": "execute_result"
    }
   ],
   "source": [
    "df_books_rev.head()"
   ]
  },
  {
   "cell_type": "code",
   "execution_count": 53,
   "metadata": {},
   "outputs": [
    {
     "name": "stdout",
     "output_type": "stream",
     "text": [
      "<class 'pandas.core.frame.DataFrame'>\n",
      "RangeIndex: 94211 entries, 0 to 94210\n",
      "Data columns (total 2 columns):\n",
      " #   Column      Non-Null Count  Dtype \n",
      "---  ------      --------------  ----- \n",
      " 0   asin        94211 non-null  object\n",
      " 1   reviewText  94211 non-null  object\n",
      "dtypes: object(2)\n",
      "memory usage: 1.4+ MB\n"
     ]
    }
   ],
   "source": [
    "df_books_rev.info()"
   ]
  }
 ],
 "metadata": {
  "kernelspec": {
   "display_name": "kindle-env",
   "language": "python",
   "name": "kindle-env"
  },
  "language_info": {
   "codemirror_mode": {
    "name": "ipython",
    "version": 3
   },
   "file_extension": ".py",
   "mimetype": "text/x-python",
   "name": "python",
   "nbconvert_exporter": "python",
   "pygments_lexer": "ipython3",
   "version": "3.9.7"
  }
 },
 "nbformat": 4,
 "nbformat_minor": 4
}
