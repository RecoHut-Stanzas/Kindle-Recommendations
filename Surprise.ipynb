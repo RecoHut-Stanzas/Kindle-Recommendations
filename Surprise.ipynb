{
 "cells": [
  {
   "cell_type": "code",
   "execution_count": 1,
   "metadata": {},
   "outputs": [],
   "source": [
    "import pandas as pd\n",
    "from surprise import Dataset, Reader, accuracy\n",
    "from surprise.model_selection import cross_validate, train_test_split, GridSearchCV\n",
    "from surprise.prediction_algorithms import knns, SVD, SVDpp, SlopeOne, NMF, BaselineOnly, NormalPredictor\n",
    "from surprise.similarities import cosine, msd, pearson, pearson_baseline"
   ]
  },
  {
   "cell_type": "code",
   "execution_count": 2,
   "metadata": {},
   "outputs": [],
   "source": [
    "df_rev5 = pd.read_csv('Data/df_rev5.csv')"
   ]
  },
  {
   "cell_type": "code",
   "execution_count": 3,
   "metadata": {
    "scrolled": true
   },
   "outputs": [
    {
     "name": "stdout",
     "output_type": "stream",
     "text": [
      "<class 'pandas.core.frame.DataFrame'>\n",
      "RangeIndex: 1302158 entries, 0 to 1302157\n",
      "Data columns (total 7 columns):\n",
      " #   Column      Non-Null Count    Dtype \n",
      "---  ------      --------------    ----- \n",
      " 0   Unnamed: 0  1302158 non-null  int64 \n",
      " 1   overall     1302158 non-null  int64 \n",
      " 2   reviewTime  1302158 non-null  object\n",
      " 3   reviewerID  1302158 non-null  object\n",
      " 4   asin        1302158 non-null  object\n",
      " 5   reviewText  1302158 non-null  object\n",
      " 6   summary     1302158 non-null  object\n",
      "dtypes: int64(2), object(5)\n",
      "memory usage: 69.5+ MB\n"
     ]
    }
   ],
   "source": [
    "df_rev5.info()"
   ]
  },
  {
   "cell_type": "code",
   "execution_count": 4,
   "metadata": {},
   "outputs": [],
   "source": [
    "reader = Reader(rating_scale=(1, 5))\n",
    "user_data = Dataset.load_from_df(df_rev5[['reviewerID', 'asin', 'overall']], reader)\n",
    "\n",
    "trainset, testset = train_test_split(user_data, test_size=0.2, random_state=42)"
   ]
  },
  {
   "cell_type": "code",
   "execution_count": 5,
   "metadata": {
    "scrolled": true
   },
   "outputs": [
    {
     "name": "stdout",
     "output_type": "stream",
     "text": [
      "Number of users:  97580 \n",
      "\n",
      "Number of items:  92260 \n",
      "\n"
     ]
    }
   ],
   "source": [
    "print('Number of users: ', trainset.n_users, '\\n')\n",
    "print('Number of items: ', trainset.n_items, '\\n')"
   ]
  },
  {
   "cell_type": "code",
   "execution_count": 12,
   "metadata": {},
   "outputs": [
    {
     "name": "stdout",
     "output_type": "stream",
     "text": [
      "RMSE: 1.2377\n",
      "1.2377436216451305\n"
     ]
    }
   ],
   "source": [
    "baseline = NormalPredictor()\n",
    "baseline.fit(trainset)\n",
    "predictions = baseline.test(testset)\n",
    "print(accuracy.rmse(predictions))"
   ]
  },
  {
   "cell_type": "code",
   "execution_count": 11,
   "metadata": {},
   "outputs": [
    {
     "name": "stdout",
     "output_type": "stream",
     "text": [
      "Estimating biases using als...\n",
      "RMSE: 0.8201\n",
      "0.8201106073043494\n"
     ]
    }
   ],
   "source": [
    "baseline2 = BaselineOnly()\n",
    "baseline2.fit(trainset)\n",
    "predictions = baseline2.test(testset)\n",
    "print(accuracy.rmse(predictions))"
   ]
  },
  {
   "cell_type": "code",
   "execution_count": null,
   "metadata": {},
   "outputs": [],
   "source": [
    "#sim_cos = {'name':'cosine', 'user_based':True}\n",
    "#basic = knns.KNNBasic(k=137, sim_options=sim_cos)\n",
    "#basic.fit(trainset)\n",
    "#predictions = basic.test(testset)\n",
    "#print(accuracy.rmse(predictions))"
   ]
  },
  {
   "cell_type": "code",
   "execution_count": null,
   "metadata": {},
   "outputs": [],
   "source": [
    "#sim_pearson = {'name':'pearson', 'user_based':True}\n",
    "#basic_pearson = knns.KNNBasic(sim_options=sim_pearson)\n",
    "#basic_pearson.fit(trainset)\n",
    "#predictions = basic_pearson.test(testset)\n",
    "#print(accuracy.rmse(predictions))"
   ]
  },
  {
   "cell_type": "code",
   "execution_count": null,
   "metadata": {},
   "outputs": [],
   "source": [
    "#sim_pearson = {'name':'pearson', 'user_based':False}\n",
    "#basic_pearson = knns.KNNBasic(sim_options=sim_pearson)\n",
    "#basic_pearson.fit(trainset)\n",
    "#predictions = basic_pearson.test(testset)\n",
    "#print(accuracy.rmse(predictions))"
   ]
  },
  {
   "cell_type": "code",
   "execution_count": null,
   "metadata": {
    "scrolled": true
   },
   "outputs": [],
   "source": [
    "#sim_pearson = {'name':'pearson', 'user_based':True}\n",
    "#knn_baseline = knns.KNNBaseline(sim_options=sim_pearson)\n",
    "#knn_baseline.fit(trainset)\n",
    "#predictions = knn_baseline.test(testset)\n",
    "#print(accuracy.rmse(predictions))"
   ]
  },
  {
   "cell_type": "code",
   "execution_count": null,
   "metadata": {
    "scrolled": true
   },
   "outputs": [],
   "source": [
    "#sim_pearson = {'name':'pearson', 'user_based':False}\n",
    "#knn_baseline = knns.KNNBaseline(sim_options=sim_pearson)\n",
    "#knn_baseline.fit(trainset)\n",
    "#predictions = knn_baseline.test(testset)\n",
    "#print(accuracy.rmse(predictions))"
   ]
  },
  {
   "cell_type": "code",
   "execution_count": 13,
   "metadata": {
    "scrolled": true
   },
   "outputs": [
    {
     "name": "stdout",
     "output_type": "stream",
     "text": [
      "Evaluating RMSE of algorithm SVD on 3 split(s).\n",
      "\n",
      "                  Fold 1  Fold 2  Fold 3  Mean    Std     \n",
      "RMSE (testset)    0.8132  0.8134  0.8136  0.8134  0.0002  \n",
      "Fit time          46.46   46.93   46.52   46.63   0.21    \n",
      "Test time         4.22    4.30    4.18    4.23    0.05    \n"
     ]
    }
   ],
   "source": [
    "svd_basic = SVD(random_state=42)\n",
    "results = cross_validate(svd_basic, user_data, measures=['RMSE'], cv=3, n_jobs = -1, verbose=True)"
   ]
  },
  {
   "cell_type": "code",
   "execution_count": 14,
   "metadata": {
    "scrolled": true
   },
   "outputs": [
    {
     "data": {
      "text/plain": [
       "{'test_rmse': array([0.81315846, 0.81341402, 0.81357441]),\n",
       " 'fit_time': (46.45669507980347, 46.92526960372925, 46.51591205596924),\n",
       " 'test_time': (4.216390609741211, 4.303755044937134, 4.177614212036133)}"
      ]
     },
     "execution_count": 14,
     "metadata": {},
     "output_type": "execute_result"
    }
   ],
   "source": [
    "results"
   ]
  },
  {
   "cell_type": "code",
   "execution_count": 15,
   "metadata": {},
   "outputs": [
    {
     "name": "stdout",
     "output_type": "stream",
     "text": [
      "RMSE: 0.8084\n",
      "0.8084230438494829\n"
     ]
    }
   ],
   "source": [
    "svd_basic.fit(trainset)\n",
    "predictions = svd_basic.test(testset)\n",
    "print(accuracy.rmse(predictions))"
   ]
  },
  {
   "cell_type": "code",
   "execution_count": 10,
   "metadata": {},
   "outputs": [
    {
     "name": "stderr",
     "output_type": "stream",
     "text": [
      "[Parallel(n_jobs=1)]: Using backend SequentialBackend with 1 concurrent workers.\n",
      "[Parallel(n_jobs=1)]: Done   1 out of   1 | elapsed:   14.4s remaining:    0.0s\n",
      "[Parallel(n_jobs=1)]: Done   2 out of   2 | elapsed:   29.1s remaining:    0.0s\n",
      "[Parallel(n_jobs=1)]: Done   3 out of   3 | elapsed:   43.3s remaining:    0.0s\n",
      "[Parallel(n_jobs=1)]: Done   4 out of   4 | elapsed:   56.4s remaining:    0.0s\n",
      "[Parallel(n_jobs=1)]: Done 144 out of 144 | elapsed: 49.8min finished\n"
     ]
    },
    {
     "data": {
      "text/plain": [
       "{'n_factors': 20,\n",
       " 'n_epochs': 20,\n",
       " 'lr_all': 0.005,\n",
       " 'reg_all': 0.2,\n",
       " 'biased': True}"
      ]
     },
     "execution_count": 10,
     "metadata": {},
     "output_type": "execute_result"
    }
   ],
   "source": [
    "svd_param_grid = {'n_factors':[20, 40],\n",
    "                  'n_epochs': [10, 20], \n",
    "                  'lr_all': [0.002, 0.005],\n",
    "                  'reg_all': [0.2 ,0.4, 0.6],\n",
    "                  'biased': [True, False]}\n",
    "svd_gs_model = GridSearchCV(SVD,param_grid=svd_param_grid,joblib_verbose=5,cv=3)\n",
    "svd_gs_model.fit(user_data)\n",
    "svd_gs_model.best_params['rmse']"
   ]
  },
  {
   "cell_type": "code",
   "execution_count": 16,
   "metadata": {},
   "outputs": [
    {
     "name": "stdout",
     "output_type": "stream",
     "text": [
      "RMSE: 0.8026\n",
      "0.8025831221469396\n"
     ]
    }
   ],
   "source": [
    "svd_model = SVD(n_factors=20, n_epochs=20,\n",
    "                lr_all=.005, reg_all=0.2, random_state=42)\n",
    "svd_model.fit(trainset)\n",
    "predictions = svd_model.test(testset)\n",
    "print(accuracy.rmse(predictions))"
   ]
  },
  {
   "cell_type": "code",
   "execution_count": 13,
   "metadata": {},
   "outputs": [],
   "source": [
    "svd_param_grid2 = {'n_factors':[5, 10, 20],\n",
    "                  'n_epochs': [20, 30, 40], \n",
    "                  'lr_all': [0.5, 0.05, .005],\n",
    "                  'reg_all': [0.1, 0.2]}\n",
    "svd_gs2_model = GridSearchCV(SVD,param_grid=SVD_param_grid2,joblib_verbose=5, cv=3)\n",
    "svd_gs2_model.fit(user_data)\n",
    "svd_gs2_model.best_params['rmse']"
   ]
  },
  {
   "cell_type": "code",
   "execution_count": 14,
   "metadata": {
    "scrolled": true
   },
   "outputs": [
    {
     "name": "stderr",
     "output_type": "stream",
     "text": [
      "[Parallel(n_jobs=1)]: Using backend SequentialBackend with 1 concurrent workers.\n",
      "[Parallel(n_jobs=1)]: Done   1 out of   1 | elapsed:   19.4s remaining:    0.0s\n",
      "[Parallel(n_jobs=1)]: Done   2 out of   2 | elapsed:   39.2s remaining:    0.0s\n",
      "[Parallel(n_jobs=1)]: Done   3 out of   3 | elapsed:   58.2s remaining:    0.0s\n",
      "[Parallel(n_jobs=1)]: Done   4 out of   4 | elapsed:  1.3min remaining:    0.0s\n",
      "[Parallel(n_jobs=1)]: Done 162 out of 162 | elapsed: 83.0min finished\n"
     ]
    }
   ],
   "source": [
    "svd_gs2_model.fit(user_data)"
   ]
  },
  {
   "cell_type": "code",
   "execution_count": 15,
   "metadata": {},
   "outputs": [
    {
     "data": {
      "text/plain": [
       "{'n_factors': 5, 'n_epochs': 40, 'lr_all': 0.005, 'reg_all': 0.1}"
      ]
     },
     "execution_count": 15,
     "metadata": {},
     "output_type": "execute_result"
    }
   ],
   "source": [
    "svd_gs2_model.best_params['rmse']"
   ]
  },
  {
   "cell_type": "code",
   "execution_count": 17,
   "metadata": {
    "scrolled": false
   },
   "outputs": [
    {
     "name": "stdout",
     "output_type": "stream",
     "text": [
      "RMSE: 0.7868\n",
      "0.7867689448520152\n"
     ]
    }
   ],
   "source": [
    "svd2_model = SVD(n_factors=5, n_epochs=40, lr_all=0.005, reg_all=0.1, random_state=42)\n",
    "svd2_model.fit(trainset)\n",
    "predictions = svd2_model.test(testset)\n",
    "print(accuracy.rmse(predictions))"
   ]
  },
  {
   "cell_type": "code",
   "execution_count": 18,
   "metadata": {},
   "outputs": [
    {
     "data": {
      "text/plain": [
       "<surprise.prediction_algorithms.matrix_factorization.SVD at 0x1dbacd251f0>"
      ]
     },
     "execution_count": 18,
     "metadata": {},
     "output_type": "execute_result"
    }
   ],
   "source": [
    "trainset_full = user_data.build_full_trainset()\n",
    "svd2_model.fit(trainset_full)"
   ]
  },
  {
   "cell_type": "code",
   "execution_count": 19,
   "metadata": {},
   "outputs": [],
   "source": [
    "df_meta5 = pd.read_csv('Data/meta5.csv', index_col='asin')\n",
    "df_meta5.drop(columns =['Unnamed: 0'], inplace=True)"
   ]
  },
  {
   "cell_type": "code",
   "execution_count": 20,
   "metadata": {},
   "outputs": [
    {
     "name": "stdout",
     "output_type": "stream",
     "text": [
      "<class 'pandas.core.frame.DataFrame'>\n",
      "Index: 93547 entries, B0012GTZCK to B01HJCNGZ2\n",
      "Data columns (total 6 columns):\n",
      " #   Column        Non-Null Count  Dtype  \n",
      "---  ------        --------------  -----  \n",
      " 0   title         93547 non-null  object \n",
      " 1   brand         93547 non-null  object \n",
      " 2   genre         93547 non-null  object \n",
      " 3   print_length  93547 non-null  float64\n",
      " 4   word_wise     93547 non-null  int64  \n",
      " 5   lending       93547 non-null  int64  \n",
      "dtypes: float64(1), int64(2), object(3)\n",
      "memory usage: 5.0+ MB\n"
     ]
    }
   ],
   "source": [
    "df_meta5.info()"
   ]
  },
  {
   "cell_type": "code",
   "execution_count": 21,
   "metadata": {},
   "outputs": [
    {
     "data": {
      "text/html": [
       "<div>\n",
       "<style scoped>\n",
       "    .dataframe tbody tr th:only-of-type {\n",
       "        vertical-align: middle;\n",
       "    }\n",
       "\n",
       "    .dataframe tbody tr th {\n",
       "        vertical-align: top;\n",
       "    }\n",
       "\n",
       "    .dataframe thead th {\n",
       "        text-align: right;\n",
       "    }\n",
       "</style>\n",
       "<table border=\"1\" class=\"dataframe\">\n",
       "  <thead>\n",
       "    <tr style=\"text-align: right;\">\n",
       "      <th></th>\n",
       "      <th>title</th>\n",
       "      <th>brand</th>\n",
       "      <th>genre</th>\n",
       "      <th>print_length</th>\n",
       "      <th>word_wise</th>\n",
       "      <th>lending</th>\n",
       "    </tr>\n",
       "    <tr>\n",
       "      <th>asin</th>\n",
       "      <th></th>\n",
       "      <th></th>\n",
       "      <th></th>\n",
       "      <th></th>\n",
       "      <th></th>\n",
       "      <th></th>\n",
       "    </tr>\n",
       "  </thead>\n",
       "  <tbody>\n",
       "    <tr>\n",
       "      <th>B0012GTZCK</th>\n",
       "      <td>God in the White House</td>\n",
       "      <td>Randall Balmer</td>\n",
       "      <td>History</td>\n",
       "      <td>260.0</td>\n",
       "      <td>1</td>\n",
       "      <td>0</td>\n",
       "    </tr>\n",
       "    <tr>\n",
       "      <th>B0012LHGJ4</th>\n",
       "      <td>Vingt Mille Lieues sous les mers (French Editi...</td>\n",
       "      <td>Jules Verne</td>\n",
       "      <td>Reference</td>\n",
       "      <td>606.0</td>\n",
       "      <td>0</td>\n",
       "      <td>1</td>\n",
       "    </tr>\n",
       "    <tr>\n",
       "      <th>B0012RMVH0</th>\n",
       "      <td>Wood-Carving Design and Workmanship - Kindle e...</td>\n",
       "      <td>George Jack</td>\n",
       "      <td>Arts &amp; Photography</td>\n",
       "      <td>310.0</td>\n",
       "      <td>0</td>\n",
       "      <td>0</td>\n",
       "    </tr>\n",
       "    <tr>\n",
       "      <th>B0012TAD1O</th>\n",
       "      <td>Souls Night (The Vampire Pacts) - Kindle edition</td>\n",
       "      <td>Kallysten</td>\n",
       "      <td>Romance</td>\n",
       "      <td>74.0</td>\n",
       "      <td>1</td>\n",
       "      <td>1</td>\n",
       "    </tr>\n",
       "    <tr>\n",
       "      <th>B0012U0NKE</th>\n",
       "      <td>The Misplaced Horse (1) eBook</td>\n",
       "      <td>Constance Downes</td>\n",
       "      <td>Comics, Manga &amp; Graphic Novels</td>\n",
       "      <td>444.0</td>\n",
       "      <td>0</td>\n",
       "      <td>1</td>\n",
       "    </tr>\n",
       "  </tbody>\n",
       "</table>\n",
       "</div>"
      ],
      "text/plain": [
       "                                                        title  \\\n",
       "asin                                                            \n",
       "B0012GTZCK                             God in the White House   \n",
       "B0012LHGJ4  Vingt Mille Lieues sous les mers (French Editi...   \n",
       "B0012RMVH0  Wood-Carving Design and Workmanship - Kindle e...   \n",
       "B0012TAD1O   Souls Night (The Vampire Pacts) - Kindle edition   \n",
       "B0012U0NKE                      The Misplaced Horse (1) eBook   \n",
       "\n",
       "                         brand                           genre  print_length  \\\n",
       "asin                                                                           \n",
       "B0012GTZCK      Randall Balmer                         History         260.0   \n",
       "B0012LHGJ4        Jules Verne                        Reference         606.0   \n",
       "B0012RMVH0         George Jack              Arts & Photography         310.0   \n",
       "B0012TAD1O          Kallysten                          Romance          74.0   \n",
       "B0012U0NKE   Constance Downes   Comics, Manga & Graphic Novels         444.0   \n",
       "\n",
       "            word_wise  lending  \n",
       "asin                            \n",
       "B0012GTZCK          1        0  \n",
       "B0012LHGJ4          0        1  \n",
       "B0012RMVH0          0        0  \n",
       "B0012TAD1O          1        1  \n",
       "B0012U0NKE          0        1  "
      ]
     },
     "execution_count": 21,
     "metadata": {},
     "output_type": "execute_result"
    }
   ],
   "source": [
    "df_meta5.head()"
   ]
  },
  {
   "cell_type": "code",
   "execution_count": 22,
   "metadata": {},
   "outputs": [],
   "source": [
    "df_user = df_rev5.set_index('reviewerID')\n",
    "df_user.drop(columns=['Unnamed: 0', 'reviewTime', 'reviewText', 'summary'], inplace=True)"
   ]
  },
  {
   "cell_type": "code",
   "execution_count": 23,
   "metadata": {
    "scrolled": true
   },
   "outputs": [
    {
     "data": {
      "text/html": [
       "<div>\n",
       "<style scoped>\n",
       "    .dataframe tbody tr th:only-of-type {\n",
       "        vertical-align: middle;\n",
       "    }\n",
       "\n",
       "    .dataframe tbody tr th {\n",
       "        vertical-align: top;\n",
       "    }\n",
       "\n",
       "    .dataframe thead th {\n",
       "        text-align: right;\n",
       "    }\n",
       "</style>\n",
       "<table border=\"1\" class=\"dataframe\">\n",
       "  <thead>\n",
       "    <tr style=\"text-align: right;\">\n",
       "      <th></th>\n",
       "      <th>overall</th>\n",
       "      <th>asin</th>\n",
       "    </tr>\n",
       "    <tr>\n",
       "      <th>reviewerID</th>\n",
       "      <th></th>\n",
       "      <th></th>\n",
       "    </tr>\n",
       "  </thead>\n",
       "  <tbody>\n",
       "    <tr>\n",
       "      <th>AYKIGSPZ8TLR7</th>\n",
       "      <td>5</td>\n",
       "      <td>B0012LHGJ4</td>\n",
       "    </tr>\n",
       "    <tr>\n",
       "      <th>AV4TJUAJJL3IV</th>\n",
       "      <td>1</td>\n",
       "      <td>B0012RMVH0</td>\n",
       "    </tr>\n",
       "    <tr>\n",
       "      <th>AQR816QPFU5JE</th>\n",
       "      <td>5</td>\n",
       "      <td>B0012RMVH0</td>\n",
       "    </tr>\n",
       "    <tr>\n",
       "      <th>A1KURTCUDMSNF4</th>\n",
       "      <td>3</td>\n",
       "      <td>B0012RMVH0</td>\n",
       "    </tr>\n",
       "    <tr>\n",
       "      <th>A3GDLS2QG56059</th>\n",
       "      <td>1</td>\n",
       "      <td>B0012RMVH0</td>\n",
       "    </tr>\n",
       "    <tr>\n",
       "      <th>...</th>\n",
       "      <td>...</td>\n",
       "      <td>...</td>\n",
       "    </tr>\n",
       "    <tr>\n",
       "      <th>A1M2UIBQGKEUAU</th>\n",
       "      <td>5</td>\n",
       "      <td>B01HJCNGZ2</td>\n",
       "    </tr>\n",
       "    <tr>\n",
       "      <th>A2GCEOF7KVQK1U</th>\n",
       "      <td>4</td>\n",
       "      <td>B01HJCNGZ2</td>\n",
       "    </tr>\n",
       "    <tr>\n",
       "      <th>A3ETWQJ8WRQFHX</th>\n",
       "      <td>5</td>\n",
       "      <td>B01HJCNGZ2</td>\n",
       "    </tr>\n",
       "    <tr>\n",
       "      <th>ARKWPH17ITFGS</th>\n",
       "      <td>5</td>\n",
       "      <td>B01HJCNGZ2</td>\n",
       "    </tr>\n",
       "    <tr>\n",
       "      <th>AQ62OQDHMHBLY</th>\n",
       "      <td>5</td>\n",
       "      <td>B01HJCNGZ2</td>\n",
       "    </tr>\n",
       "  </tbody>\n",
       "</table>\n",
       "<p>1302158 rows × 2 columns</p>\n",
       "</div>"
      ],
      "text/plain": [
       "                overall        asin\n",
       "reviewerID                         \n",
       "AYKIGSPZ8TLR7         5  B0012LHGJ4\n",
       "AV4TJUAJJL3IV         1  B0012RMVH0\n",
       "AQR816QPFU5JE         5  B0012RMVH0\n",
       "A1KURTCUDMSNF4        3  B0012RMVH0\n",
       "A3GDLS2QG56059        1  B0012RMVH0\n",
       "...                 ...         ...\n",
       "A1M2UIBQGKEUAU        5  B01HJCNGZ2\n",
       "A2GCEOF7KVQK1U        4  B01HJCNGZ2\n",
       "A3ETWQJ8WRQFHX        5  B01HJCNGZ2\n",
       "ARKWPH17ITFGS         5  B01HJCNGZ2\n",
       "AQ62OQDHMHBLY         5  B01HJCNGZ2\n",
       "\n",
       "[1302158 rows x 2 columns]"
      ]
     },
     "execution_count": 23,
     "metadata": {},
     "output_type": "execute_result"
    }
   ],
   "source": [
    "df_user"
   ]
  },
  {
   "cell_type": "code",
   "execution_count": 24,
   "metadata": {},
   "outputs": [],
   "source": [
    "have_reviewed = list(df_user.loc['A9C16P3CZXWS5', 'asin'])"
   ]
  },
  {
   "cell_type": "code",
   "execution_count": 25,
   "metadata": {
    "scrolled": false
   },
   "outputs": [
    {
     "data": {
      "text/plain": [
       "['B00G5Q6MI2', 'B00KVOCLXE', 'B00MQ999AK', 'B00U4F067I', 'B005G3ZB9Q']"
      ]
     },
     "execution_count": 25,
     "metadata": {},
     "output_type": "execute_result"
    }
   ],
   "source": [
    "have_reviewed"
   ]
  },
  {
   "cell_type": "code",
   "execution_count": 26,
   "metadata": {},
   "outputs": [],
   "source": [
    "not_reviewed = df_meta5.copy()\n",
    "not_reviewed.drop(have_reviewed, inplace=True)\n",
    "not_reviewed.reset_index(inplace=True)"
   ]
  },
  {
   "cell_type": "code",
   "execution_count": 27,
   "metadata": {},
   "outputs": [],
   "source": [
    "not_reviewed['Est_rating'] = not_reviewed['asin'].apply(lambda x: svd2_model.predict('A9C16P3CZXWS5', x).est)"
   ]
  },
  {
   "cell_type": "code",
   "execution_count": 28,
   "metadata": {},
   "outputs": [
    {
     "data": {
      "text/html": [
       "<div>\n",
       "<style scoped>\n",
       "    .dataframe tbody tr th:only-of-type {\n",
       "        vertical-align: middle;\n",
       "    }\n",
       "\n",
       "    .dataframe tbody tr th {\n",
       "        vertical-align: top;\n",
       "    }\n",
       "\n",
       "    .dataframe thead th {\n",
       "        text-align: right;\n",
       "    }\n",
       "</style>\n",
       "<table border=\"1\" class=\"dataframe\">\n",
       "  <thead>\n",
       "    <tr style=\"text-align: right;\">\n",
       "      <th></th>\n",
       "      <th>asin</th>\n",
       "      <th>title</th>\n",
       "      <th>brand</th>\n",
       "      <th>genre</th>\n",
       "      <th>print_length</th>\n",
       "      <th>word_wise</th>\n",
       "      <th>lending</th>\n",
       "      <th>Est_rating</th>\n",
       "    </tr>\n",
       "  </thead>\n",
       "  <tbody>\n",
       "    <tr>\n",
       "      <th>0</th>\n",
       "      <td>B0012GTZCK</td>\n",
       "      <td>God in the White House</td>\n",
       "      <td>Randall Balmer</td>\n",
       "      <td>History</td>\n",
       "      <td>260.0</td>\n",
       "      <td>1</td>\n",
       "      <td>0</td>\n",
       "      <td>4.719201</td>\n",
       "    </tr>\n",
       "    <tr>\n",
       "      <th>1</th>\n",
       "      <td>B0012LHGJ4</td>\n",
       "      <td>Vingt Mille Lieues sous les mers (French Editi...</td>\n",
       "      <td>Jules Verne</td>\n",
       "      <td>Reference</td>\n",
       "      <td>606.0</td>\n",
       "      <td>0</td>\n",
       "      <td>1</td>\n",
       "      <td>4.957987</td>\n",
       "    </tr>\n",
       "    <tr>\n",
       "      <th>2</th>\n",
       "      <td>B0012RMVH0</td>\n",
       "      <td>Wood-Carving Design and Workmanship - Kindle e...</td>\n",
       "      <td>George Jack</td>\n",
       "      <td>Arts &amp; Photography</td>\n",
       "      <td>310.0</td>\n",
       "      <td>0</td>\n",
       "      <td>0</td>\n",
       "      <td>3.379050</td>\n",
       "    </tr>\n",
       "    <tr>\n",
       "      <th>3</th>\n",
       "      <td>B0012TAD1O</td>\n",
       "      <td>Souls Night (The Vampire Pacts) - Kindle edition</td>\n",
       "      <td>Kallysten</td>\n",
       "      <td>Romance</td>\n",
       "      <td>74.0</td>\n",
       "      <td>1</td>\n",
       "      <td>1</td>\n",
       "      <td>4.841767</td>\n",
       "    </tr>\n",
       "    <tr>\n",
       "      <th>4</th>\n",
       "      <td>B0012U0NKE</td>\n",
       "      <td>The Misplaced Horse (1) eBook</td>\n",
       "      <td>Constance Downes</td>\n",
       "      <td>Comics, Manga &amp; Graphic Novels</td>\n",
       "      <td>444.0</td>\n",
       "      <td>0</td>\n",
       "      <td>1</td>\n",
       "      <td>4.822369</td>\n",
       "    </tr>\n",
       "    <tr>\n",
       "      <th>...</th>\n",
       "      <td>...</td>\n",
       "      <td>...</td>\n",
       "      <td>...</td>\n",
       "      <td>...</td>\n",
       "      <td>...</td>\n",
       "      <td>...</td>\n",
       "      <td>...</td>\n",
       "      <td>...</td>\n",
       "    </tr>\n",
       "    <tr>\n",
       "      <th>93537</th>\n",
       "      <td>B01HJA2D80</td>\n",
       "      <td>B.Oar Guests (Caverns and Creatures) - Kindle ...</td>\n",
       "      <td>Robert Bevan</td>\n",
       "      <td>Humor &amp; Entertainment</td>\n",
       "      <td>38.0</td>\n",
       "      <td>1</td>\n",
       "      <td>1</td>\n",
       "      <td>4.611595</td>\n",
       "    </tr>\n",
       "    <tr>\n",
       "      <th>93538</th>\n",
       "      <td>B01HJBPMQY</td>\n",
       "      <td>Lord of the Jungle: An Erotic Adventure (Jungl...</td>\n",
       "      <td>Sheri Fredricks</td>\n",
       "      <td>Literature &amp; Fiction</td>\n",
       "      <td>56.0</td>\n",
       "      <td>1</td>\n",
       "      <td>1</td>\n",
       "      <td>5.000000</td>\n",
       "    </tr>\n",
       "    <tr>\n",
       "      <th>93539</th>\n",
       "      <td>B01HJBPUWA</td>\n",
       "      <td>Chronicle Worlds</td>\n",
       "      <td>Samuel Peralta</td>\n",
       "      <td>Science Fiction &amp; Fantasy</td>\n",
       "      <td>383.0</td>\n",
       "      <td>1</td>\n",
       "      <td>1</td>\n",
       "      <td>4.939319</td>\n",
       "    </tr>\n",
       "    <tr>\n",
       "      <th>93540</th>\n",
       "      <td>B01HJC63YI</td>\n",
       "      <td>The Gardella Vampire Hunters Starter Set: Vict...</td>\n",
       "      <td>Colleen Gleason</td>\n",
       "      <td>Romance</td>\n",
       "      <td>852.0</td>\n",
       "      <td>1</td>\n",
       "      <td>1</td>\n",
       "      <td>4.947419</td>\n",
       "    </tr>\n",
       "    <tr>\n",
       "      <th>93541</th>\n",
       "      <td>B01HJCNGZ2</td>\n",
       "      <td>The Three Pirate City Cats: Illustrated advent...</td>\n",
       "      <td>John E Dorey</td>\n",
       "      <td>Children's eBooks</td>\n",
       "      <td>42.0</td>\n",
       "      <td>0</td>\n",
       "      <td>1</td>\n",
       "      <td>4.911730</td>\n",
       "    </tr>\n",
       "  </tbody>\n",
       "</table>\n",
       "<p>93542 rows × 8 columns</p>\n",
       "</div>"
      ],
      "text/plain": [
       "             asin                                              title  \\\n",
       "0      B0012GTZCK                             God in the White House   \n",
       "1      B0012LHGJ4  Vingt Mille Lieues sous les mers (French Editi...   \n",
       "2      B0012RMVH0  Wood-Carving Design and Workmanship - Kindle e...   \n",
       "3      B0012TAD1O   Souls Night (The Vampire Pacts) - Kindle edition   \n",
       "4      B0012U0NKE                      The Misplaced Horse (1) eBook   \n",
       "...           ...                                                ...   \n",
       "93537  B01HJA2D80  B.Oar Guests (Caverns and Creatures) - Kindle ...   \n",
       "93538  B01HJBPMQY  Lord of the Jungle: An Erotic Adventure (Jungl...   \n",
       "93539  B01HJBPUWA                                   Chronicle Worlds   \n",
       "93540  B01HJC63YI  The Gardella Vampire Hunters Starter Set: Vict...   \n",
       "93541  B01HJCNGZ2  The Three Pirate City Cats: Illustrated advent...   \n",
       "\n",
       "                    brand                           genre  print_length  \\\n",
       "0          Randall Balmer                         History         260.0   \n",
       "1            Jules Verne                        Reference         606.0   \n",
       "2             George Jack              Arts & Photography         310.0   \n",
       "3              Kallysten                          Romance          74.0   \n",
       "4       Constance Downes   Comics, Manga & Graphic Novels         444.0   \n",
       "...                   ...                             ...           ...   \n",
       "93537       Robert Bevan            Humor & Entertainment          38.0   \n",
       "93538    Sheri Fredricks             Literature & Fiction          56.0   \n",
       "93539     Samuel Peralta        Science Fiction & Fantasy         383.0   \n",
       "93540    Colleen Gleason                          Romance         852.0   \n",
       "93541        John E Dorey               Children's eBooks          42.0   \n",
       "\n",
       "       word_wise  lending  Est_rating  \n",
       "0              1        0    4.719201  \n",
       "1              0        1    4.957987  \n",
       "2              0        0    3.379050  \n",
       "3              1        1    4.841767  \n",
       "4              0        1    4.822369  \n",
       "...          ...      ...         ...  \n",
       "93537          1        1    4.611595  \n",
       "93538          1        1    5.000000  \n",
       "93539          1        1    4.939319  \n",
       "93540          1        1    4.947419  \n",
       "93541          0        1    4.911730  \n",
       "\n",
       "[93542 rows x 8 columns]"
      ]
     },
     "execution_count": 28,
     "metadata": {},
     "output_type": "execute_result"
    }
   ],
   "source": [
    "not_reviewed"
   ]
  },
  {
   "cell_type": "code",
   "execution_count": 26,
   "metadata": {
    "scrolled": true
   },
   "outputs": [
    {
     "name": "stdout",
     "output_type": "stream",
     "text": [
      "<class 'pandas.core.frame.DataFrame'>\n",
      "Index: 93542 entries, B0012GTZCK to B01HJCNGZ2\n",
      "Data columns (total 6 columns):\n",
      " #   Column        Non-Null Count  Dtype  \n",
      "---  ------        --------------  -----  \n",
      " 0   title         93542 non-null  object \n",
      " 1   brand         93542 non-null  object \n",
      " 2   genre         93542 non-null  object \n",
      " 3   print_length  93542 non-null  float64\n",
      " 4   word_wise     93542 non-null  int64  \n",
      " 5   lending       93542 non-null  int64  \n",
      "dtypes: float64(1), int64(2), object(3)\n",
      "memory usage: 5.0+ MB\n"
     ]
    }
   ],
   "source": [
    "not_reviewed.info()"
   ]
  },
  {
   "cell_type": "code",
   "execution_count": 33,
   "metadata": {},
   "outputs": [],
   "source": [
    "def user_recommend_books():\n",
    "    \n",
    "    user = input('UserId: ')\n",
    "    n_recs = int(input('How many recommendations? '))\n",
    "    \n",
    "    have_reviewed = list(df_user.loc[user, 'asin'])\n",
    "    not_reviewed = df_meta5.copy()\n",
    "    not_reviewed.drop(have_reviewed, inplace=True)\n",
    "    not_reviewed.reset_index(inplace=True)\n",
    "    not_reviewed['est_rating'] = not_reviewed['asin'].apply(lambda x: svd2_model.predict(user, x).est)\n",
    "    not_reviewed.sort_values(by='est_rating', ascending=False, inplace=True)\n",
    "    return not_reviewed.head(n_recs)"
   ]
  },
  {
   "cell_type": "code",
   "execution_count": 36,
   "metadata": {
    "scrolled": true
   },
   "outputs": [
    {
     "name": "stdout",
     "output_type": "stream",
     "text": [
      "UserId: A2J8ASQMHD2TH\n",
      "How many recommendations? 10\n"
     ]
    },
    {
     "data": {
      "text/html": [
       "<div>\n",
       "<style scoped>\n",
       "    .dataframe tbody tr th:only-of-type {\n",
       "        vertical-align: middle;\n",
       "    }\n",
       "\n",
       "    .dataframe tbody tr th {\n",
       "        vertical-align: top;\n",
       "    }\n",
       "\n",
       "    .dataframe thead th {\n",
       "        text-align: right;\n",
       "    }\n",
       "</style>\n",
       "<table border=\"1\" class=\"dataframe\">\n",
       "  <thead>\n",
       "    <tr style=\"text-align: right;\">\n",
       "      <th></th>\n",
       "      <th>asin</th>\n",
       "      <th>title</th>\n",
       "      <th>brand</th>\n",
       "      <th>genre</th>\n",
       "      <th>print_length</th>\n",
       "      <th>word_wise</th>\n",
       "      <th>lending</th>\n",
       "      <th>est_rating</th>\n",
       "    </tr>\n",
       "  </thead>\n",
       "  <tbody>\n",
       "    <tr>\n",
       "      <th>68655</th>\n",
       "      <td>B00Z7KJUCW</td>\n",
       "      <td>Home and Away - Kindle edition</td>\n",
       "      <td>Samantha Wayland</td>\n",
       "      <td>Literature &amp; Fiction</td>\n",
       "      <td>402.0</td>\n",
       "      <td>1</td>\n",
       "      <td>1</td>\n",
       "      <td>5.0</td>\n",
       "    </tr>\n",
       "    <tr>\n",
       "      <th>51092</th>\n",
       "      <td>B00O2ZX1LE</td>\n",
       "      <td>When You Were Pixels (Syntax Book 1) - Kindle ...</td>\n",
       "      <td>Julio Alexi Genao</td>\n",
       "      <td>Literature &amp; Fiction</td>\n",
       "      <td>41.0</td>\n",
       "      <td>1</td>\n",
       "      <td>1</td>\n",
       "      <td>5.0</td>\n",
       "    </tr>\n",
       "    <tr>\n",
       "      <th>50982</th>\n",
       "      <td>B00O28EJPI</td>\n",
       "      <td>Explicit Memory - Kindle edition</td>\n",
       "      <td>Scarlett Finn</td>\n",
       "      <td>Romance</td>\n",
       "      <td>376.0</td>\n",
       "      <td>1</td>\n",
       "      <td>1</td>\n",
       "      <td>5.0</td>\n",
       "    </tr>\n",
       "    <tr>\n",
       "      <th>59507</th>\n",
       "      <td>B00SUPS1OY</td>\n",
       "      <td>Entropy&amp;#39;s End (Targon Tales - Sethran Boo...</td>\n",
       "      <td>Chris Reher</td>\n",
       "      <td>Science Fiction &amp; Fantasy</td>\n",
       "      <td>247.0</td>\n",
       "      <td>1</td>\n",
       "      <td>1</td>\n",
       "      <td>5.0</td>\n",
       "    </tr>\n",
       "    <tr>\n",
       "      <th>41606</th>\n",
       "      <td>B00KB1E4WI</td>\n",
       "      <td>The Fight for Us (Bristol Island Standalone Bo...</td>\n",
       "      <td>Elizabeth Finn</td>\n",
       "      <td>Literature &amp; Fiction</td>\n",
       "      <td>345.0</td>\n",
       "      <td>1</td>\n",
       "      <td>1</td>\n",
       "      <td>5.0</td>\n",
       "    </tr>\n",
       "    <tr>\n",
       "      <th>6795</th>\n",
       "      <td>B006MV3AQ2</td>\n",
       "      <td>Weekend Homesteader: January - Kindle edition</td>\n",
       "      <td>Anna Hess</td>\n",
       "      <td>Crafts, Hobbies &amp; Home</td>\n",
       "      <td>44.0</td>\n",
       "      <td>1</td>\n",
       "      <td>1</td>\n",
       "      <td>5.0</td>\n",
       "    </tr>\n",
       "    <tr>\n",
       "      <th>76547</th>\n",
       "      <td>B016DZ4T5C</td>\n",
       "      <td>Calm &amp;amp; Storm (The Night Horde SoCal Book 6...</td>\n",
       "      <td>Susan Fanetti</td>\n",
       "      <td>Literature &amp; Fiction</td>\n",
       "      <td>440.0</td>\n",
       "      <td>1</td>\n",
       "      <td>1</td>\n",
       "      <td>5.0</td>\n",
       "    </tr>\n",
       "    <tr>\n",
       "      <th>74433</th>\n",
       "      <td>B0150GDJN8</td>\n",
       "      <td>Training to Love It: A Hotwife Romance - Kindl...</td>\n",
       "      <td>Kenny Wright</td>\n",
       "      <td>Literature &amp; Fiction</td>\n",
       "      <td>224.0</td>\n",
       "      <td>1</td>\n",
       "      <td>1</td>\n",
       "      <td>5.0</td>\n",
       "    </tr>\n",
       "    <tr>\n",
       "      <th>14920</th>\n",
       "      <td>B00APEDT9K</td>\n",
       "      <td>Santa Reads Romance - Kindle edition</td>\n",
       "      <td>Dara Joy</td>\n",
       "      <td>Romance</td>\n",
       "      <td>78.0</td>\n",
       "      <td>1</td>\n",
       "      <td>1</td>\n",
       "      <td>5.0</td>\n",
       "    </tr>\n",
       "    <tr>\n",
       "      <th>39430</th>\n",
       "      <td>B00JIUR2TA</td>\n",
       "      <td>The Sacketts Volume Two 12-Book Bundle - Kindl...</td>\n",
       "      <td>Louis L'Amour</td>\n",
       "      <td>Literature &amp; Fiction</td>\n",
       "      <td>2496.0</td>\n",
       "      <td>1</td>\n",
       "      <td>0</td>\n",
       "      <td>5.0</td>\n",
       "    </tr>\n",
       "  </tbody>\n",
       "</table>\n",
       "</div>"
      ],
      "text/plain": [
       "             asin                                              title  \\\n",
       "68655  B00Z7KJUCW                     Home and Away - Kindle edition   \n",
       "51092  B00O2ZX1LE  When You Were Pixels (Syntax Book 1) - Kindle ...   \n",
       "50982  B00O28EJPI                   Explicit Memory - Kindle edition   \n",
       "59507  B00SUPS1OY   Entropy&#39;s End (Targon Tales - Sethran Boo...   \n",
       "41606  B00KB1E4WI  The Fight for Us (Bristol Island Standalone Bo...   \n",
       "6795   B006MV3AQ2      Weekend Homesteader: January - Kindle edition   \n",
       "76547  B016DZ4T5C  Calm &amp; Storm (The Night Horde SoCal Book 6...   \n",
       "74433  B0150GDJN8  Training to Love It: A Hotwife Romance - Kindl...   \n",
       "14920  B00APEDT9K               Santa Reads Romance - Kindle edition   \n",
       "39430  B00JIUR2TA  The Sacketts Volume Two 12-Book Bundle - Kindl...   \n",
       "\n",
       "                     brand                      genre  print_length  \\\n",
       "68655    Samantha Wayland        Literature & Fiction         402.0   \n",
       "51092   Julio Alexi Genao        Literature & Fiction          41.0   \n",
       "50982       Scarlett Finn                     Romance         376.0   \n",
       "59507         Chris Reher   Science Fiction & Fantasy         247.0   \n",
       "41606      Elizabeth Finn        Literature & Fiction         345.0   \n",
       "6795            Anna Hess      Crafts, Hobbies & Home          44.0   \n",
       "76547       Susan Fanetti        Literature & Fiction         440.0   \n",
       "74433        Kenny Wright        Literature & Fiction         224.0   \n",
       "14920            Dara Joy                     Romance          78.0   \n",
       "39430       Louis L'Amour        Literature & Fiction        2496.0   \n",
       "\n",
       "       word_wise  lending  est_rating  \n",
       "68655          1        1         5.0  \n",
       "51092          1        1         5.0  \n",
       "50982          1        1         5.0  \n",
       "59507          1        1         5.0  \n",
       "41606          1        1         5.0  \n",
       "6795           1        1         5.0  \n",
       "76547          1        1         5.0  \n",
       "74433          1        1         5.0  \n",
       "14920          1        1         5.0  \n",
       "39430          1        0         5.0  "
      ]
     },
     "execution_count": 36,
     "metadata": {},
     "output_type": "execute_result"
    }
   ],
   "source": [
    "user_recommend_books()"
   ]
  },
  {
   "cell_type": "code",
   "execution_count": 37,
   "metadata": {
    "scrolled": true
   },
   "outputs": [
    {
     "name": "stdout",
     "output_type": "stream",
     "text": [
      "UserId: A2UNMDJYXPEQZ3\n",
      "How many recommendations? 10\n"
     ]
    },
    {
     "data": {
      "text/html": [
       "<div>\n",
       "<style scoped>\n",
       "    .dataframe tbody tr th:only-of-type {\n",
       "        vertical-align: middle;\n",
       "    }\n",
       "\n",
       "    .dataframe tbody tr th {\n",
       "        vertical-align: top;\n",
       "    }\n",
       "\n",
       "    .dataframe thead th {\n",
       "        text-align: right;\n",
       "    }\n",
       "</style>\n",
       "<table border=\"1\" class=\"dataframe\">\n",
       "  <thead>\n",
       "    <tr style=\"text-align: right;\">\n",
       "      <th></th>\n",
       "      <th>asin</th>\n",
       "      <th>title</th>\n",
       "      <th>brand</th>\n",
       "      <th>genre</th>\n",
       "      <th>print_length</th>\n",
       "      <th>word_wise</th>\n",
       "      <th>lending</th>\n",
       "      <th>est_rating</th>\n",
       "    </tr>\n",
       "  </thead>\n",
       "  <tbody>\n",
       "    <tr>\n",
       "      <th>46057</th>\n",
       "      <td>B00M64QIWW</td>\n",
       "      <td>John &amp;amp; Jackie - Kindle edition</td>\n",
       "      <td>TJ Klune</td>\n",
       "      <td>Literature &amp; Fiction</td>\n",
       "      <td>95.0</td>\n",
       "      <td>1</td>\n",
       "      <td>1</td>\n",
       "      <td>4.854224</td>\n",
       "    </tr>\n",
       "    <tr>\n",
       "      <th>50432</th>\n",
       "      <td>B00O0AG24Y</td>\n",
       "      <td>Inspector Hobbes and the Gold Diggers: Comedy ...</td>\n",
       "      <td>Wilkie Martin</td>\n",
       "      <td>Mystery, Thriller &amp; Suspense</td>\n",
       "      <td>329.0</td>\n",
       "      <td>1</td>\n",
       "      <td>1</td>\n",
       "      <td>4.790772</td>\n",
       "    </tr>\n",
       "    <tr>\n",
       "      <th>2993</th>\n",
       "      <td>B0053YAZ58</td>\n",
       "      <td>Hornblower Addendum - Five Stories (Hornblower...</td>\n",
       "      <td>C. S. Forester</td>\n",
       "      <td>Literature &amp; Fiction</td>\n",
       "      <td>79.0</td>\n",
       "      <td>1</td>\n",
       "      <td>1</td>\n",
       "      <td>4.756611</td>\n",
       "    </tr>\n",
       "    <tr>\n",
       "      <th>58319</th>\n",
       "      <td>B00SEKT3M4</td>\n",
       "      <td>The Player (Rockliffe Book 3) - Kindle edition</td>\n",
       "      <td>Stella Riley</td>\n",
       "      <td>Literature &amp; Fiction</td>\n",
       "      <td>327.0</td>\n",
       "      <td>1</td>\n",
       "      <td>1</td>\n",
       "      <td>4.756080</td>\n",
       "    </tr>\n",
       "    <tr>\n",
       "      <th>6115</th>\n",
       "      <td>B006BG7Q1I</td>\n",
       "      <td>Love Intertwined Vol. 1 - Kindle edition</td>\n",
       "      <td>Pepper Pace</td>\n",
       "      <td>Literature &amp; Fiction</td>\n",
       "      <td>222.0</td>\n",
       "      <td>1</td>\n",
       "      <td>1</td>\n",
       "      <td>4.747956</td>\n",
       "    </tr>\n",
       "    <tr>\n",
       "      <th>75200</th>\n",
       "      <td>B015WXSNFI</td>\n",
       "      <td>Holy Spy: A John Shakespeare Mystery - Kindle ...</td>\n",
       "      <td>Rory Clements</td>\n",
       "      <td>Mystery, Thriller &amp; Suspense</td>\n",
       "      <td>485.0</td>\n",
       "      <td>1</td>\n",
       "      <td>0</td>\n",
       "      <td>4.747524</td>\n",
       "    </tr>\n",
       "    <tr>\n",
       "      <th>18378</th>\n",
       "      <td>B00BR70E2E</td>\n",
       "      <td>Captain Lacey Regency Mysteries Volume Two - K...</td>\n",
       "      <td>Ashley Gardner</td>\n",
       "      <td>Mystery, Thriller &amp; Suspense</td>\n",
       "      <td>899.0</td>\n",
       "      <td>1</td>\n",
       "      <td>1</td>\n",
       "      <td>4.740167</td>\n",
       "    </tr>\n",
       "    <tr>\n",
       "      <th>14566</th>\n",
       "      <td>B00AMNT24K</td>\n",
       "      <td>Princess Ahira</td>\n",
       "      <td>K. M. Shea</td>\n",
       "      <td>Children's eBooks</td>\n",
       "      <td>262.0</td>\n",
       "      <td>1</td>\n",
       "      <td>1</td>\n",
       "      <td>4.738927</td>\n",
       "    </tr>\n",
       "    <tr>\n",
       "      <th>72325</th>\n",
       "      <td>B013WZRWMS</td>\n",
       "      <td>Ships and Stings and Wedding Rings (The Chron...</td>\n",
       "      <td>Jodi Taylor</td>\n",
       "      <td>Science Fiction &amp; Fantasy</td>\n",
       "      <td>51.0</td>\n",
       "      <td>1</td>\n",
       "      <td>0</td>\n",
       "      <td>4.735658</td>\n",
       "    </tr>\n",
       "    <tr>\n",
       "      <th>13840</th>\n",
       "      <td>B00AEEBDRG</td>\n",
       "      <td>Expectations - Kindle edition</td>\n",
       "      <td>Frances Murray</td>\n",
       "      <td>Literature &amp; Fiction</td>\n",
       "      <td>369.0</td>\n",
       "      <td>1</td>\n",
       "      <td>1</td>\n",
       "      <td>4.728528</td>\n",
       "    </tr>\n",
       "  </tbody>\n",
       "</table>\n",
       "</div>"
      ],
      "text/plain": [
       "             asin                                              title  \\\n",
       "46057  B00M64QIWW                 John &amp; Jackie - Kindle edition   \n",
       "50432  B00O0AG24Y  Inspector Hobbes and the Gold Diggers: Comedy ...   \n",
       "2993   B0053YAZ58  Hornblower Addendum - Five Stories (Hornblower...   \n",
       "58319  B00SEKT3M4     The Player (Rockliffe Book 3) - Kindle edition   \n",
       "6115   B006BG7Q1I           Love Intertwined Vol. 1 - Kindle edition   \n",
       "75200  B015WXSNFI  Holy Spy: A John Shakespeare Mystery - Kindle ...   \n",
       "18378  B00BR70E2E  Captain Lacey Regency Mysteries Volume Two - K...   \n",
       "14566  B00AMNT24K                                     Princess Ahira   \n",
       "72325  B013WZRWMS   Ships and Stings and Wedding Rings (The Chron...   \n",
       "13840  B00AEEBDRG                      Expectations - Kindle edition   \n",
       "\n",
       "                  brand                         genre  print_length  \\\n",
       "46057         TJ Klune           Literature & Fiction          95.0   \n",
       "50432    Wilkie Martin   Mystery, Thriller & Suspense         329.0   \n",
       "2993    C. S. Forester           Literature & Fiction          79.0   \n",
       "58319     Stella Riley           Literature & Fiction         327.0   \n",
       "6115       Pepper Pace           Literature & Fiction         222.0   \n",
       "75200    Rory Clements   Mystery, Thriller & Suspense         485.0   \n",
       "18378   Ashley Gardner   Mystery, Thriller & Suspense         899.0   \n",
       "14566       K. M. Shea              Children's eBooks         262.0   \n",
       "72325      Jodi Taylor      Science Fiction & Fantasy          51.0   \n",
       "13840   Frances Murray           Literature & Fiction         369.0   \n",
       "\n",
       "       word_wise  lending  est_rating  \n",
       "46057          1        1    4.854224  \n",
       "50432          1        1    4.790772  \n",
       "2993           1        1    4.756611  \n",
       "58319          1        1    4.756080  \n",
       "6115           1        1    4.747956  \n",
       "75200          1        0    4.747524  \n",
       "18378          1        1    4.740167  \n",
       "14566          1        1    4.738927  \n",
       "72325          1        0    4.735658  \n",
       "13840          1        1    4.728528  "
      ]
     },
     "execution_count": 37,
     "metadata": {},
     "output_type": "execute_result"
    }
   ],
   "source": [
    "user_recommend_books()"
   ]
  },
  {
   "cell_type": "code",
   "execution_count": 38,
   "metadata": {},
   "outputs": [
    {
     "name": "stdout",
     "output_type": "stream",
     "text": [
      "UserId: A3IQ0P3M39IY8U\n",
      "How many recommendations? 10\n"
     ]
    },
    {
     "data": {
      "text/html": [
       "<div>\n",
       "<style scoped>\n",
       "    .dataframe tbody tr th:only-of-type {\n",
       "        vertical-align: middle;\n",
       "    }\n",
       "\n",
       "    .dataframe tbody tr th {\n",
       "        vertical-align: top;\n",
       "    }\n",
       "\n",
       "    .dataframe thead th {\n",
       "        text-align: right;\n",
       "    }\n",
       "</style>\n",
       "<table border=\"1\" class=\"dataframe\">\n",
       "  <thead>\n",
       "    <tr style=\"text-align: right;\">\n",
       "      <th></th>\n",
       "      <th>asin</th>\n",
       "      <th>title</th>\n",
       "      <th>brand</th>\n",
       "      <th>genre</th>\n",
       "      <th>print_length</th>\n",
       "      <th>word_wise</th>\n",
       "      <th>lending</th>\n",
       "      <th>est_rating</th>\n",
       "    </tr>\n",
       "  </thead>\n",
       "  <tbody>\n",
       "    <tr>\n",
       "      <th>46063</th>\n",
       "      <td>B00M64QIWW</td>\n",
       "      <td>John &amp;amp; Jackie - Kindle edition</td>\n",
       "      <td>TJ Klune</td>\n",
       "      <td>Literature &amp; Fiction</td>\n",
       "      <td>95.0</td>\n",
       "      <td>1</td>\n",
       "      <td>1</td>\n",
       "      <td>4.910841</td>\n",
       "    </tr>\n",
       "    <tr>\n",
       "      <th>50438</th>\n",
       "      <td>B00O0AG24Y</td>\n",
       "      <td>Inspector Hobbes and the Gold Diggers: Comedy ...</td>\n",
       "      <td>Wilkie Martin</td>\n",
       "      <td>Mystery, Thriller &amp; Suspense</td>\n",
       "      <td>329.0</td>\n",
       "      <td>1</td>\n",
       "      <td>1</td>\n",
       "      <td>4.873136</td>\n",
       "    </tr>\n",
       "    <tr>\n",
       "      <th>72331</th>\n",
       "      <td>B013WZRWMS</td>\n",
       "      <td>Ships and Stings and Wedding Rings (The Chron...</td>\n",
       "      <td>Jodi Taylor</td>\n",
       "      <td>Science Fiction &amp; Fantasy</td>\n",
       "      <td>51.0</td>\n",
       "      <td>1</td>\n",
       "      <td>0</td>\n",
       "      <td>4.870298</td>\n",
       "    </tr>\n",
       "    <tr>\n",
       "      <th>6096</th>\n",
       "      <td>B006BG7Q1I</td>\n",
       "      <td>Love Intertwined Vol. 1 - Kindle edition</td>\n",
       "      <td>Pepper Pace</td>\n",
       "      <td>Literature &amp; Fiction</td>\n",
       "      <td>222.0</td>\n",
       "      <td>1</td>\n",
       "      <td>1</td>\n",
       "      <td>4.869776</td>\n",
       "    </tr>\n",
       "    <tr>\n",
       "      <th>18343</th>\n",
       "      <td>B00BR70E2E</td>\n",
       "      <td>Captain Lacey Regency Mysteries Volume Two - K...</td>\n",
       "      <td>Ashley Gardner</td>\n",
       "      <td>Mystery, Thriller &amp; Suspense</td>\n",
       "      <td>899.0</td>\n",
       "      <td>1</td>\n",
       "      <td>1</td>\n",
       "      <td>4.864052</td>\n",
       "    </tr>\n",
       "    <tr>\n",
       "      <th>14523</th>\n",
       "      <td>B00AMNT24K</td>\n",
       "      <td>Princess Ahira</td>\n",
       "      <td>K. M. Shea</td>\n",
       "      <td>Children's eBooks</td>\n",
       "      <td>262.0</td>\n",
       "      <td>1</td>\n",
       "      <td>1</td>\n",
       "      <td>4.860540</td>\n",
       "    </tr>\n",
       "    <tr>\n",
       "      <th>71364</th>\n",
       "      <td>B012WCOYQ4</td>\n",
       "      <td>The Rise of Ren Crown eBook</td>\n",
       "      <td>Anne Zoelle</td>\n",
       "      <td>Children's eBooks</td>\n",
       "      <td>449.0</td>\n",
       "      <td>1</td>\n",
       "      <td>1</td>\n",
       "      <td>4.852885</td>\n",
       "    </tr>\n",
       "    <tr>\n",
       "      <th>75204</th>\n",
       "      <td>B015WXSNFI</td>\n",
       "      <td>Holy Spy: A John Shakespeare Mystery - Kindle ...</td>\n",
       "      <td>Rory Clements</td>\n",
       "      <td>Mystery, Thriller &amp; Suspense</td>\n",
       "      <td>485.0</td>\n",
       "      <td>1</td>\n",
       "      <td>0</td>\n",
       "      <td>4.852798</td>\n",
       "    </tr>\n",
       "    <tr>\n",
       "      <th>58332</th>\n",
       "      <td>B00SEKT3M4</td>\n",
       "      <td>The Player (Rockliffe Book 3) - Kindle edition</td>\n",
       "      <td>Stella Riley</td>\n",
       "      <td>Literature &amp; Fiction</td>\n",
       "      <td>327.0</td>\n",
       "      <td>1</td>\n",
       "      <td>1</td>\n",
       "      <td>4.849859</td>\n",
       "    </tr>\n",
       "    <tr>\n",
       "      <th>13800</th>\n",
       "      <td>B00AEEBDRG</td>\n",
       "      <td>Expectations - Kindle edition</td>\n",
       "      <td>Frances Murray</td>\n",
       "      <td>Literature &amp; Fiction</td>\n",
       "      <td>369.0</td>\n",
       "      <td>1</td>\n",
       "      <td>1</td>\n",
       "      <td>4.820101</td>\n",
       "    </tr>\n",
       "  </tbody>\n",
       "</table>\n",
       "</div>"
      ],
      "text/plain": [
       "             asin                                              title  \\\n",
       "46063  B00M64QIWW                 John &amp; Jackie - Kindle edition   \n",
       "50438  B00O0AG24Y  Inspector Hobbes and the Gold Diggers: Comedy ...   \n",
       "72331  B013WZRWMS   Ships and Stings and Wedding Rings (The Chron...   \n",
       "6096   B006BG7Q1I           Love Intertwined Vol. 1 - Kindle edition   \n",
       "18343  B00BR70E2E  Captain Lacey Regency Mysteries Volume Two - K...   \n",
       "14523  B00AMNT24K                                     Princess Ahira   \n",
       "71364  B012WCOYQ4                        The Rise of Ren Crown eBook   \n",
       "75204  B015WXSNFI  Holy Spy: A John Shakespeare Mystery - Kindle ...   \n",
       "58332  B00SEKT3M4     The Player (Rockliffe Book 3) - Kindle edition   \n",
       "13800  B00AEEBDRG                      Expectations - Kindle edition   \n",
       "\n",
       "                  brand                         genre  print_length  \\\n",
       "46063         TJ Klune           Literature & Fiction          95.0   \n",
       "50438    Wilkie Martin   Mystery, Thriller & Suspense         329.0   \n",
       "72331      Jodi Taylor      Science Fiction & Fantasy          51.0   \n",
       "6096       Pepper Pace           Literature & Fiction         222.0   \n",
       "18343   Ashley Gardner   Mystery, Thriller & Suspense         899.0   \n",
       "14523       K. M. Shea              Children's eBooks         262.0   \n",
       "71364      Anne Zoelle              Children's eBooks         449.0   \n",
       "75204    Rory Clements   Mystery, Thriller & Suspense         485.0   \n",
       "58332     Stella Riley           Literature & Fiction         327.0   \n",
       "13800   Frances Murray           Literature & Fiction         369.0   \n",
       "\n",
       "       word_wise  lending  est_rating  \n",
       "46063          1        1    4.910841  \n",
       "50438          1        1    4.873136  \n",
       "72331          1        0    4.870298  \n",
       "6096           1        1    4.869776  \n",
       "18343          1        1    4.864052  \n",
       "14523          1        1    4.860540  \n",
       "71364          1        1    4.852885  \n",
       "75204          1        0    4.852798  \n",
       "58332          1        1    4.849859  \n",
       "13800          1        1    4.820101  "
      ]
     },
     "execution_count": 38,
     "metadata": {},
     "output_type": "execute_result"
    }
   ],
   "source": [
    "user_recommend_books()"
   ]
  },
  {
   "cell_type": "code",
   "execution_count": 49,
   "metadata": {
    "scrolled": true
   },
   "outputs": [
    {
     "name": "stdout",
     "output_type": "stream",
     "text": [
      "UserId: A2VXSQHJWZAQGY\n",
      "How many recommendations? 10\n"
     ]
    },
    {
     "data": {
      "text/html": [
       "<div>\n",
       "<style scoped>\n",
       "    .dataframe tbody tr th:only-of-type {\n",
       "        vertical-align: middle;\n",
       "    }\n",
       "\n",
       "    .dataframe tbody tr th {\n",
       "        vertical-align: top;\n",
       "    }\n",
       "\n",
       "    .dataframe thead th {\n",
       "        text-align: right;\n",
       "    }\n",
       "</style>\n",
       "<table border=\"1\" class=\"dataframe\">\n",
       "  <thead>\n",
       "    <tr style=\"text-align: right;\">\n",
       "      <th></th>\n",
       "      <th>asin</th>\n",
       "      <th>title</th>\n",
       "      <th>brand</th>\n",
       "      <th>genre</th>\n",
       "      <th>print_length</th>\n",
       "      <th>word_wise</th>\n",
       "      <th>lending</th>\n",
       "      <th>est_rating</th>\n",
       "    </tr>\n",
       "  </thead>\n",
       "  <tbody>\n",
       "    <tr>\n",
       "      <th>45991</th>\n",
       "      <td>B00M64QIWW</td>\n",
       "      <td>John &amp;amp; Jackie - Kindle edition</td>\n",
       "      <td>TJ Klune</td>\n",
       "      <td>Literature &amp; Fiction</td>\n",
       "      <td>95.0</td>\n",
       "      <td>1</td>\n",
       "      <td>1</td>\n",
       "      <td>4.112198</td>\n",
       "    </tr>\n",
       "    <tr>\n",
       "      <th>50386</th>\n",
       "      <td>B00O0AG24Y</td>\n",
       "      <td>Inspector Hobbes and the Gold Diggers: Comedy ...</td>\n",
       "      <td>Wilkie Martin</td>\n",
       "      <td>Mystery, Thriller &amp; Suspense</td>\n",
       "      <td>329.0</td>\n",
       "      <td>1</td>\n",
       "      <td>1</td>\n",
       "      <td>4.083174</td>\n",
       "    </tr>\n",
       "    <tr>\n",
       "      <th>18322</th>\n",
       "      <td>B00BR70E2E</td>\n",
       "      <td>Captain Lacey Regency Mysteries Volume Two - K...</td>\n",
       "      <td>Ashley Gardner</td>\n",
       "      <td>Mystery, Thriller &amp; Suspense</td>\n",
       "      <td>899.0</td>\n",
       "      <td>1</td>\n",
       "      <td>1</td>\n",
       "      <td>4.052512</td>\n",
       "    </tr>\n",
       "    <tr>\n",
       "      <th>6102</th>\n",
       "      <td>B006BG7Q1I</td>\n",
       "      <td>Love Intertwined Vol. 1 - Kindle edition</td>\n",
       "      <td>Pepper Pace</td>\n",
       "      <td>Literature &amp; Fiction</td>\n",
       "      <td>222.0</td>\n",
       "      <td>1</td>\n",
       "      <td>1</td>\n",
       "      <td>4.044863</td>\n",
       "    </tr>\n",
       "    <tr>\n",
       "      <th>75250</th>\n",
       "      <td>B015WXSNFI</td>\n",
       "      <td>Holy Spy: A John Shakespeare Mystery - Kindle ...</td>\n",
       "      <td>Rory Clements</td>\n",
       "      <td>Mystery, Thriller &amp; Suspense</td>\n",
       "      <td>485.0</td>\n",
       "      <td>1</td>\n",
       "      <td>0</td>\n",
       "      <td>4.040910</td>\n",
       "    </tr>\n",
       "    <tr>\n",
       "      <th>14514</th>\n",
       "      <td>B00AMNT24K</td>\n",
       "      <td>Princess Ahira</td>\n",
       "      <td>K. M. Shea</td>\n",
       "      <td>Children's eBooks</td>\n",
       "      <td>262.0</td>\n",
       "      <td>1</td>\n",
       "      <td>1</td>\n",
       "      <td>4.039301</td>\n",
       "    </tr>\n",
       "    <tr>\n",
       "      <th>72363</th>\n",
       "      <td>B013WZRWMS</td>\n",
       "      <td>Ships and Stings and Wedding Rings (The Chron...</td>\n",
       "      <td>Jodi Taylor</td>\n",
       "      <td>Science Fiction &amp; Fantasy</td>\n",
       "      <td>51.0</td>\n",
       "      <td>1</td>\n",
       "      <td>0</td>\n",
       "      <td>4.035321</td>\n",
       "    </tr>\n",
       "    <tr>\n",
       "      <th>71392</th>\n",
       "      <td>B012WCOYQ4</td>\n",
       "      <td>The Rise of Ren Crown eBook</td>\n",
       "      <td>Anne Zoelle</td>\n",
       "      <td>Children's eBooks</td>\n",
       "      <td>449.0</td>\n",
       "      <td>1</td>\n",
       "      <td>1</td>\n",
       "      <td>4.034815</td>\n",
       "    </tr>\n",
       "    <tr>\n",
       "      <th>2980</th>\n",
       "      <td>B0053YAZ58</td>\n",
       "      <td>Hornblower Addendum - Five Stories (Hornblower...</td>\n",
       "      <td>C. S. Forester</td>\n",
       "      <td>Literature &amp; Fiction</td>\n",
       "      <td>79.0</td>\n",
       "      <td>1</td>\n",
       "      <td>1</td>\n",
       "      <td>4.031554</td>\n",
       "    </tr>\n",
       "    <tr>\n",
       "      <th>13790</th>\n",
       "      <td>B00AEEBDRG</td>\n",
       "      <td>Expectations - Kindle edition</td>\n",
       "      <td>Frances Murray</td>\n",
       "      <td>Literature &amp; Fiction</td>\n",
       "      <td>369.0</td>\n",
       "      <td>1</td>\n",
       "      <td>1</td>\n",
       "      <td>4.024689</td>\n",
       "    </tr>\n",
       "  </tbody>\n",
       "</table>\n",
       "</div>"
      ],
      "text/plain": [
       "             asin                                              title  \\\n",
       "45991  B00M64QIWW                 John &amp; Jackie - Kindle edition   \n",
       "50386  B00O0AG24Y  Inspector Hobbes and the Gold Diggers: Comedy ...   \n",
       "18322  B00BR70E2E  Captain Lacey Regency Mysteries Volume Two - K...   \n",
       "6102   B006BG7Q1I           Love Intertwined Vol. 1 - Kindle edition   \n",
       "75250  B015WXSNFI  Holy Spy: A John Shakespeare Mystery - Kindle ...   \n",
       "14514  B00AMNT24K                                     Princess Ahira   \n",
       "72363  B013WZRWMS   Ships and Stings and Wedding Rings (The Chron...   \n",
       "71392  B012WCOYQ4                        The Rise of Ren Crown eBook   \n",
       "2980   B0053YAZ58  Hornblower Addendum - Five Stories (Hornblower...   \n",
       "13790  B00AEEBDRG                      Expectations - Kindle edition   \n",
       "\n",
       "                  brand                         genre  print_length  \\\n",
       "45991         TJ Klune           Literature & Fiction          95.0   \n",
       "50386    Wilkie Martin   Mystery, Thriller & Suspense         329.0   \n",
       "18322   Ashley Gardner   Mystery, Thriller & Suspense         899.0   \n",
       "6102       Pepper Pace           Literature & Fiction         222.0   \n",
       "75250    Rory Clements   Mystery, Thriller & Suspense         485.0   \n",
       "14514       K. M. Shea              Children's eBooks         262.0   \n",
       "72363      Jodi Taylor      Science Fiction & Fantasy          51.0   \n",
       "71392      Anne Zoelle              Children's eBooks         449.0   \n",
       "2980    C. S. Forester           Literature & Fiction          79.0   \n",
       "13790   Frances Murray           Literature & Fiction         369.0   \n",
       "\n",
       "       word_wise  lending  est_rating  \n",
       "45991          1        1    4.112198  \n",
       "50386          1        1    4.083174  \n",
       "18322          1        1    4.052512  \n",
       "6102           1        1    4.044863  \n",
       "75250          1        0    4.040910  \n",
       "14514          1        1    4.039301  \n",
       "72363          1        0    4.035321  \n",
       "71392          1        1    4.034815  \n",
       "2980           1        1    4.031554  \n",
       "13790          1        1    4.024689  "
      ]
     },
     "execution_count": 49,
     "metadata": {},
     "output_type": "execute_result"
    }
   ],
   "source": [
    "user_recommend_books()"
   ]
  },
  {
   "cell_type": "code",
   "execution_count": null,
   "metadata": {},
   "outputs": [],
   "source": []
  }
 ],
 "metadata": {
  "kernelspec": {
   "display_name": "Python (learn-env)",
   "language": "python",
   "name": "learn-env"
  },
  "language_info": {
   "codemirror_mode": {
    "name": "ipython",
    "version": 3
   },
   "file_extension": ".py",
   "mimetype": "text/x-python",
   "name": "python",
   "nbconvert_exporter": "python",
   "pygments_lexer": "ipython3",
   "version": "3.8.5"
  }
 },
 "nbformat": 4,
 "nbformat_minor": 4
}
