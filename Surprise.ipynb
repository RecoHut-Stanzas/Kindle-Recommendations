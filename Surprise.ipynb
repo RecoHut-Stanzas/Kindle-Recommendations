{
 "cells": [
  {
   "cell_type": "code",
   "execution_count": 73,
   "metadata": {},
   "outputs": [],
   "source": [
    "import pandas as pd\n",
    "from surprise import Dataset, Reader, accuracy\n",
    "from surprise.model_selection import cross_validate, train_test_split, GridSearchCV\n",
    "from surprise.prediction_algorithms import knns, SVD, SVDpp, SlopeOne, NMF, BaselineOnly, NormalPredictor\n",
    "from surprise.similarities import cosine, msd, pearson, pearson_baseline"
   ]
  },
  {
   "cell_type": "code",
   "execution_count": 2,
   "metadata": {},
   "outputs": [],
   "source": [
    "df_rev5 = pd.read_csv('Data/df_rev5.csv')"
   ]
  },
  {
   "cell_type": "code",
   "execution_count": 3,
   "metadata": {
    "scrolled": true
   },
   "outputs": [
    {
     "name": "stdout",
     "output_type": "stream",
     "text": [
      "<class 'pandas.core.frame.DataFrame'>\n",
      "RangeIndex: 1302158 entries, 0 to 1302157\n",
      "Data columns (total 7 columns):\n",
      " #   Column      Non-Null Count    Dtype \n",
      "---  ------      --------------    ----- \n",
      " 0   Unnamed: 0  1302158 non-null  int64 \n",
      " 1   overall     1302158 non-null  int64 \n",
      " 2   reviewTime  1302158 non-null  object\n",
      " 3   reviewerID  1302158 non-null  object\n",
      " 4   asin        1302158 non-null  object\n",
      " 5   reviewText  1302158 non-null  object\n",
      " 6   summary     1302158 non-null  object\n",
      "dtypes: int64(2), object(5)\n",
      "memory usage: 69.5+ MB\n"
     ]
    }
   ],
   "source": [
    "df_rev5.info()"
   ]
  },
  {
   "cell_type": "code",
   "execution_count": 74,
   "metadata": {},
   "outputs": [],
   "source": [
    "reader = Reader(rating_scale=(1, 5))\n",
    "user_data = Dataset.load_from_df(df_rev5[['reviewerID', 'asin', 'overall']], reader)\n",
    "\n",
    "trainset, testset = train_test_split(user_data, test_size=0.2, random_state=42)"
   ]
  },
  {
   "cell_type": "code",
   "execution_count": 75,
   "metadata": {
    "scrolled": true
   },
   "outputs": [
    {
     "name": "stdout",
     "output_type": "stream",
     "text": [
      "Number of users:  97580 \n",
      "\n",
      "Number of items:  92260 \n",
      "\n"
     ]
    }
   ],
   "source": [
    "print('Number of users: ', trainset.n_users, '\\n')\n",
    "print('Number of items: ', trainset.n_items, '\\n')"
   ]
  },
  {
   "cell_type": "code",
   "execution_count": 6,
   "metadata": {},
   "outputs": [
    {
     "name": "stdout",
     "output_type": "stream",
     "text": [
      "RMSE: 1.2320\n",
      "1.2319696287657125\n"
     ]
    }
   ],
   "source": [
    "baseline = NormalPredictor()\n",
    "baseline.fit(trainset)\n",
    "predictions = baseline.test(testset)\n",
    "print(accuracy.rmse(predictions))"
   ]
  },
  {
   "cell_type": "code",
   "execution_count": 7,
   "metadata": {},
   "outputs": [
    {
     "name": "stdout",
     "output_type": "stream",
     "text": [
      "Estimating biases using als...\n",
      "RMSE: 0.8144\n",
      "0.8143691015224391\n"
     ]
    }
   ],
   "source": [
    "baseline2 = BaselineOnly()\n",
    "baseline2.fit(trainset)\n",
    "predictions = baseline2.test(testset)\n",
    "print(accuracy.rmse(predictions))"
   ]
  },
  {
   "cell_type": "code",
   "execution_count": null,
   "metadata": {},
   "outputs": [],
   "source": [
    "#sim_cos = {'name':'cosine', 'user_based':True}\n",
    "#basic = knns.KNNBasic(k=137, sim_options=sim_cos)\n",
    "#basic.fit(trainset)\n",
    "#predictions = basic.test(testset)\n",
    "#print(accuracy.rmse(predictions))"
   ]
  },
  {
   "cell_type": "code",
   "execution_count": null,
   "metadata": {},
   "outputs": [],
   "source": [
    "#sim_pearson = {'name':'pearson', 'user_based':True}\n",
    "#basic_pearson = knns.KNNBasic(sim_options=sim_pearson)\n",
    "#basic_pearson.fit(trainset)\n",
    "#predictions = basic_pearson.test(testset)\n",
    "#print(accuracy.rmse(predictions))"
   ]
  },
  {
   "cell_type": "code",
   "execution_count": null,
   "metadata": {},
   "outputs": [],
   "source": [
    "#sim_pearson = {'name':'pearson', 'user_based':False}\n",
    "#basic_pearson = knns.KNNBasic(sim_options=sim_pearson)\n",
    "#basic_pearson.fit(trainset)\n",
    "#predictions = basic_pearson.test(testset)\n",
    "#print(accuracy.rmse(predictions))"
   ]
  },
  {
   "cell_type": "code",
   "execution_count": null,
   "metadata": {
    "scrolled": true
   },
   "outputs": [],
   "source": [
    "#sim_pearson = {'name':'pearson', 'user_based':True}\n",
    "#knn_baseline = knns.KNNBaseline(sim_options=sim_pearson)\n",
    "#knn_baseline.fit(trainset)\n",
    "#predictions = knn_baseline.test(testset)\n",
    "#print(accuracy.rmse(predictions))"
   ]
  },
  {
   "cell_type": "code",
   "execution_count": null,
   "metadata": {
    "scrolled": true
   },
   "outputs": [],
   "source": [
    "#sim_pearson = {'name':'pearson', 'user_based':False}\n",
    "#knn_baseline = knns.KNNBaseline(sim_options=sim_pearson)\n",
    "#knn_baseline.fit(trainset)\n",
    "#predictions = knn_baseline.test(testset)\n",
    "#print(accuracy.rmse(predictions))"
   ]
  },
  {
   "cell_type": "code",
   "execution_count": 8,
   "metadata": {
    "scrolled": true
   },
   "outputs": [
    {
     "name": "stdout",
     "output_type": "stream",
     "text": [
      "Evaluating RMSE of algorithm SVD on 3 split(s).\n",
      "\n",
      "                  Fold 1  Fold 2  Fold 3  Mean    Std     \n",
      "RMSE (testset)    0.8136  0.8143  0.8130  0.8136  0.0005  \n",
      "Fit time          46.28   46.18   46.19   46.21   0.05    \n",
      "Test time         4.16    4.29    4.19    4.22    0.06    \n"
     ]
    }
   ],
   "source": [
    "svd_basic = SVD(random_state=42)\n",
    "results = cross_validate(svd_basic, user_data, measures=['RMSE'], cv=3, n_jobs = -1, verbose=True)"
   ]
  },
  {
   "cell_type": "code",
   "execution_count": 10,
   "metadata": {
    "scrolled": true
   },
   "outputs": [
    {
     "data": {
      "text/plain": [
       "{'test_rmse': array([0.81580095, 0.81235495, 0.81329003]),\n",
       " 'fit_time': (46.68087387084961, 46.96303391456604, 46.75060248374939),\n",
       " 'test_time': (4.285319566726685, 4.280826807022095, 4.181398868560791)}"
      ]
     },
     "execution_count": 10,
     "metadata": {},
     "output_type": "execute_result"
    }
   ],
   "source": [
    "results"
   ]
  },
  {
   "cell_type": "code",
   "execution_count": 9,
   "metadata": {},
   "outputs": [
    {
     "name": "stdout",
     "output_type": "stream",
     "text": [
      "RMSE: 0.8031\n",
      "0.8031025653579473\n"
     ]
    }
   ],
   "source": [
    "svd_basic.fit(trainset)\n",
    "predictions = svd_basic.test(testset)\n",
    "print(accuracy.rmse(predictions))"
   ]
  },
  {
   "cell_type": "code",
   "execution_count": 10,
   "metadata": {},
   "outputs": [
    {
     "name": "stderr",
     "output_type": "stream",
     "text": [
      "[Parallel(n_jobs=1)]: Using backend SequentialBackend with 1 concurrent workers.\n",
      "[Parallel(n_jobs=1)]: Done   1 out of   1 | elapsed:   14.4s remaining:    0.0s\n",
      "[Parallel(n_jobs=1)]: Done   2 out of   2 | elapsed:   29.1s remaining:    0.0s\n",
      "[Parallel(n_jobs=1)]: Done   3 out of   3 | elapsed:   43.3s remaining:    0.0s\n",
      "[Parallel(n_jobs=1)]: Done   4 out of   4 | elapsed:   56.4s remaining:    0.0s\n",
      "[Parallel(n_jobs=1)]: Done 144 out of 144 | elapsed: 49.8min finished\n"
     ]
    },
    {
     "data": {
      "text/plain": [
       "{'n_factors': 20,\n",
       " 'n_epochs': 20,\n",
       " 'lr_all': 0.005,\n",
       " 'reg_all': 0.2,\n",
       " 'biased': True}"
      ]
     },
     "execution_count": 10,
     "metadata": {},
     "output_type": "execute_result"
    }
   ],
   "source": [
    "svd_param_grid = {'n_factors':[20, 40],\n",
    "                  'n_epochs': [10, 20], \n",
    "                  'lr_all': [0.002, 0.005],\n",
    "                  'reg_all': [0.2 ,0.4, 0.6],\n",
    "                  'biased': [True, False]}\n",
    "svd_gs_model = GridSearchCV(SVD,param_grid=svd_param_grid,joblib_verbose=5,cv=3)\n",
    "svd_gs_model.fit(user_data)\n",
    "svd_gs_model.best_params['rmse']"
   ]
  },
  {
   "cell_type": "code",
   "execution_count": 11,
   "metadata": {},
   "outputs": [
    {
     "name": "stdout",
     "output_type": "stream",
     "text": [
      "RMSE: 0.7970\n",
      "0.7970269869132567\n"
     ]
    }
   ],
   "source": [
    "svd_model = SVD(n_factors=20, n_epochs=20, lr_all=.005, reg_all=0.2)\n",
    "svd_model.fit(trainset)\n",
    "predictions = svd_model.test(testset)\n",
    "print(accuracy.rmse(predictions))"
   ]
  },
  {
   "cell_type": "code",
   "execution_count": 13,
   "metadata": {},
   "outputs": [],
   "source": [
    "svd_param_grid2 = {'n_factors':[5, 10, 20],\n",
    "                  'n_epochs': [20, 30, 40], \n",
    "                  'lr_all': [0.5, 0.05, .005],\n",
    "                  'reg_all': [0.1, 0.2]}\n",
    "svd_gs2_model = GridSearchCV(SVD,param_grid=SVD_param_grid2,joblib_verbose=5, cv=3)"
   ]
  },
  {
   "cell_type": "code",
   "execution_count": 14,
   "metadata": {
    "scrolled": true
   },
   "outputs": [
    {
     "name": "stderr",
     "output_type": "stream",
     "text": [
      "[Parallel(n_jobs=1)]: Using backend SequentialBackend with 1 concurrent workers.\n",
      "[Parallel(n_jobs=1)]: Done   1 out of   1 | elapsed:   19.4s remaining:    0.0s\n",
      "[Parallel(n_jobs=1)]: Done   2 out of   2 | elapsed:   39.2s remaining:    0.0s\n",
      "[Parallel(n_jobs=1)]: Done   3 out of   3 | elapsed:   58.2s remaining:    0.0s\n",
      "[Parallel(n_jobs=1)]: Done   4 out of   4 | elapsed:  1.3min remaining:    0.0s\n",
      "[Parallel(n_jobs=1)]: Done 162 out of 162 | elapsed: 83.0min finished\n"
     ]
    }
   ],
   "source": [
    "svd_gs2_model.fit(user_data)"
   ]
  },
  {
   "cell_type": "code",
   "execution_count": 15,
   "metadata": {},
   "outputs": [
    {
     "data": {
      "text/plain": [
       "{'n_factors': 5, 'n_epochs': 40, 'lr_all': 0.005, 'reg_all': 0.1}"
      ]
     },
     "execution_count": 15,
     "metadata": {},
     "output_type": "execute_result"
    }
   ],
   "source": [
    "svd_gs2_model.best_params['rmse']"
   ]
  },
  {
   "cell_type": "code",
   "execution_count": 72,
   "metadata": {
    "scrolled": false
   },
   "outputs": [
    {
     "name": "stdout",
     "output_type": "stream",
     "text": [
      "RMSE: 0.7849\n",
      "0.784931149849157\n"
     ]
    }
   ],
   "source": [
    "svd2_model = SVD(n_factors=5, n_epochs=40, lr_all=0.005, reg_all=0.1, random_state=42)\n",
    "svd2_model.fit(trainset)\n",
    "predictions = svd2_model.test(testset)\n",
    "print(accuracy.rmse(predictions))"
   ]
  },
  {
   "cell_type": "code",
   "execution_count": 69,
   "metadata": {},
   "outputs": [
    {
     "data": {
      "text/plain": [
       "<surprise.prediction_algorithms.matrix_factorization.SVD at 0x1268d569160>"
      ]
     },
     "execution_count": 69,
     "metadata": {},
     "output_type": "execute_result"
    }
   ],
   "source": [
    "trainset_full = user_data.build_full_trainset()\n",
    "svd2_model.fit(trainset_full)"
   ]
  },
  {
   "cell_type": "code",
   "execution_count": 12,
   "metadata": {},
   "outputs": [],
   "source": [
    "df_meta = pd.read_csv('Data/meta.csv', index_col='asin')\n",
    "df_meta.drop(columns =['Unnamed: 0'], inplace=True)"
   ]
  },
  {
   "cell_type": "code",
   "execution_count": 27,
   "metadata": {},
   "outputs": [
    {
     "name": "stdout",
     "output_type": "stream",
     "text": [
      "<class 'pandas.core.frame.DataFrame'>\n",
      "Index: 93547 entries, B0012GTZCK to B01HJCNGZ2\n",
      "Data columns (total 6 columns):\n",
      " #   Column        Non-Null Count  Dtype  \n",
      "---  ------        --------------  -----  \n",
      " 0   title         93547 non-null  object \n",
      " 1   brand         93547 non-null  object \n",
      " 2   genre         93547 non-null  object \n",
      " 3   print_length  93547 non-null  float64\n",
      " 4   word_wise     93547 non-null  int64  \n",
      " 5   lending       93547 non-null  int64  \n",
      "dtypes: float64(1), int64(2), object(3)\n",
      "memory usage: 7.5+ MB\n"
     ]
    }
   ],
   "source": [
    "df_meta.info()"
   ]
  },
  {
   "cell_type": "code",
   "execution_count": 16,
   "metadata": {},
   "outputs": [
    {
     "data": {
      "text/html": [
       "<div>\n",
       "<style scoped>\n",
       "    .dataframe tbody tr th:only-of-type {\n",
       "        vertical-align: middle;\n",
       "    }\n",
       "\n",
       "    .dataframe tbody tr th {\n",
       "        vertical-align: top;\n",
       "    }\n",
       "\n",
       "    .dataframe thead th {\n",
       "        text-align: right;\n",
       "    }\n",
       "</style>\n",
       "<table border=\"1\" class=\"dataframe\">\n",
       "  <thead>\n",
       "    <tr style=\"text-align: right;\">\n",
       "      <th></th>\n",
       "      <th>title</th>\n",
       "      <th>brand</th>\n",
       "      <th>genre</th>\n",
       "      <th>print_length</th>\n",
       "      <th>word_wise</th>\n",
       "      <th>lending</th>\n",
       "    </tr>\n",
       "    <tr>\n",
       "      <th>asin</th>\n",
       "      <th></th>\n",
       "      <th></th>\n",
       "      <th></th>\n",
       "      <th></th>\n",
       "      <th></th>\n",
       "      <th></th>\n",
       "    </tr>\n",
       "  </thead>\n",
       "  <tbody>\n",
       "    <tr>\n",
       "      <th>B0012GTZCK</th>\n",
       "      <td>God in the White House</td>\n",
       "      <td>Randall Balmer</td>\n",
       "      <td>History</td>\n",
       "      <td>260.0</td>\n",
       "      <td>1</td>\n",
       "      <td>0</td>\n",
       "    </tr>\n",
       "    <tr>\n",
       "      <th>B0012LHGJ4</th>\n",
       "      <td>Vingt Mille Lieues sous les mers (French Editi...</td>\n",
       "      <td>Jules Verne</td>\n",
       "      <td>Reference</td>\n",
       "      <td>606.0</td>\n",
       "      <td>0</td>\n",
       "      <td>1</td>\n",
       "    </tr>\n",
       "    <tr>\n",
       "      <th>B0012RMVH0</th>\n",
       "      <td>Wood-Carving Design and Workmanship - Kindle e...</td>\n",
       "      <td>George Jack</td>\n",
       "      <td>Arts &amp; Photography</td>\n",
       "      <td>310.0</td>\n",
       "      <td>0</td>\n",
       "      <td>0</td>\n",
       "    </tr>\n",
       "    <tr>\n",
       "      <th>B0012TAD1O</th>\n",
       "      <td>Souls Night (The Vampire Pacts) - Kindle edition</td>\n",
       "      <td>Kallysten</td>\n",
       "      <td>Romance</td>\n",
       "      <td>74.0</td>\n",
       "      <td>1</td>\n",
       "      <td>1</td>\n",
       "    </tr>\n",
       "    <tr>\n",
       "      <th>B0012U0NKE</th>\n",
       "      <td>The Misplaced Horse (1) eBook</td>\n",
       "      <td>Constance Downes</td>\n",
       "      <td>Comics, Manga &amp; Graphic Novels</td>\n",
       "      <td>444.0</td>\n",
       "      <td>0</td>\n",
       "      <td>1</td>\n",
       "    </tr>\n",
       "  </tbody>\n",
       "</table>\n",
       "</div>"
      ],
      "text/plain": [
       "                                                        title  \\\n",
       "asin                                                            \n",
       "B0012GTZCK                             God in the White House   \n",
       "B0012LHGJ4  Vingt Mille Lieues sous les mers (French Editi...   \n",
       "B0012RMVH0  Wood-Carving Design and Workmanship - Kindle e...   \n",
       "B0012TAD1O   Souls Night (The Vampire Pacts) - Kindle edition   \n",
       "B0012U0NKE                      The Misplaced Horse (1) eBook   \n",
       "\n",
       "                         brand                           genre  print_length  \\\n",
       "asin                                                                           \n",
       "B0012GTZCK      Randall Balmer                         History         260.0   \n",
       "B0012LHGJ4        Jules Verne                        Reference         606.0   \n",
       "B0012RMVH0         George Jack              Arts & Photography         310.0   \n",
       "B0012TAD1O          Kallysten                          Romance          74.0   \n",
       "B0012U0NKE   Constance Downes   Comics, Manga & Graphic Novels         444.0   \n",
       "\n",
       "            word_wise  lending  \n",
       "asin                            \n",
       "B0012GTZCK          1        0  \n",
       "B0012LHGJ4          0        1  \n",
       "B0012RMVH0          0        0  \n",
       "B0012TAD1O          1        1  \n",
       "B0012U0NKE          0        1  "
      ]
     },
     "execution_count": 16,
     "metadata": {},
     "output_type": "execute_result"
    }
   ],
   "source": [
    "df_meta.head()"
   ]
  },
  {
   "cell_type": "code",
   "execution_count": 10,
   "metadata": {},
   "outputs": [],
   "source": [
    "df_user = df_rev5.set_index('reviewerID')\n",
    "df_user.drop(columns=['Unnamed: 0', 'reviewTime', 'reviewText', 'summary'], inplace=True)"
   ]
  },
  {
   "cell_type": "code",
   "execution_count": 11,
   "metadata": {
    "scrolled": true
   },
   "outputs": [
    {
     "data": {
      "text/html": [
       "<div>\n",
       "<style scoped>\n",
       "    .dataframe tbody tr th:only-of-type {\n",
       "        vertical-align: middle;\n",
       "    }\n",
       "\n",
       "    .dataframe tbody tr th {\n",
       "        vertical-align: top;\n",
       "    }\n",
       "\n",
       "    .dataframe thead th {\n",
       "        text-align: right;\n",
       "    }\n",
       "</style>\n",
       "<table border=\"1\" class=\"dataframe\">\n",
       "  <thead>\n",
       "    <tr style=\"text-align: right;\">\n",
       "      <th></th>\n",
       "      <th>overall</th>\n",
       "      <th>asin</th>\n",
       "    </tr>\n",
       "    <tr>\n",
       "      <th>reviewerID</th>\n",
       "      <th></th>\n",
       "      <th></th>\n",
       "    </tr>\n",
       "  </thead>\n",
       "  <tbody>\n",
       "    <tr>\n",
       "      <th>AYKIGSPZ8TLR7</th>\n",
       "      <td>5</td>\n",
       "      <td>B0012LHGJ4</td>\n",
       "    </tr>\n",
       "    <tr>\n",
       "      <th>AV4TJUAJJL3IV</th>\n",
       "      <td>1</td>\n",
       "      <td>B0012RMVH0</td>\n",
       "    </tr>\n",
       "    <tr>\n",
       "      <th>AQR816QPFU5JE</th>\n",
       "      <td>5</td>\n",
       "      <td>B0012RMVH0</td>\n",
       "    </tr>\n",
       "    <tr>\n",
       "      <th>A1KURTCUDMSNF4</th>\n",
       "      <td>3</td>\n",
       "      <td>B0012RMVH0</td>\n",
       "    </tr>\n",
       "    <tr>\n",
       "      <th>A3GDLS2QG56059</th>\n",
       "      <td>1</td>\n",
       "      <td>B0012RMVH0</td>\n",
       "    </tr>\n",
       "    <tr>\n",
       "      <th>...</th>\n",
       "      <td>...</td>\n",
       "      <td>...</td>\n",
       "    </tr>\n",
       "    <tr>\n",
       "      <th>A1M2UIBQGKEUAU</th>\n",
       "      <td>5</td>\n",
       "      <td>B01HJCNGZ2</td>\n",
       "    </tr>\n",
       "    <tr>\n",
       "      <th>A2GCEOF7KVQK1U</th>\n",
       "      <td>4</td>\n",
       "      <td>B01HJCNGZ2</td>\n",
       "    </tr>\n",
       "    <tr>\n",
       "      <th>A3ETWQJ8WRQFHX</th>\n",
       "      <td>5</td>\n",
       "      <td>B01HJCNGZ2</td>\n",
       "    </tr>\n",
       "    <tr>\n",
       "      <th>ARKWPH17ITFGS</th>\n",
       "      <td>5</td>\n",
       "      <td>B01HJCNGZ2</td>\n",
       "    </tr>\n",
       "    <tr>\n",
       "      <th>AQ62OQDHMHBLY</th>\n",
       "      <td>5</td>\n",
       "      <td>B01HJCNGZ2</td>\n",
       "    </tr>\n",
       "  </tbody>\n",
       "</table>\n",
       "<p>1302158 rows × 2 columns</p>\n",
       "</div>"
      ],
      "text/plain": [
       "                overall        asin\n",
       "reviewerID                         \n",
       "AYKIGSPZ8TLR7         5  B0012LHGJ4\n",
       "AV4TJUAJJL3IV         1  B0012RMVH0\n",
       "AQR816QPFU5JE         5  B0012RMVH0\n",
       "A1KURTCUDMSNF4        3  B0012RMVH0\n",
       "A3GDLS2QG56059        1  B0012RMVH0\n",
       "...                 ...         ...\n",
       "A1M2UIBQGKEUAU        5  B01HJCNGZ2\n",
       "A2GCEOF7KVQK1U        4  B01HJCNGZ2\n",
       "A3ETWQJ8WRQFHX        5  B01HJCNGZ2\n",
       "ARKWPH17ITFGS         5  B01HJCNGZ2\n",
       "AQ62OQDHMHBLY         5  B01HJCNGZ2\n",
       "\n",
       "[1302158 rows x 2 columns]"
      ]
     },
     "execution_count": 11,
     "metadata": {},
     "output_type": "execute_result"
    }
   ],
   "source": [
    "df_user"
   ]
  },
  {
   "cell_type": "code",
   "execution_count": null,
   "metadata": {},
   "outputs": [],
   "source": [
    "df_meta = pd.read_csv('Data/meta.csv', index_col='asin')\n",
    "df_meta.drop(columns =['Unnamed: 0'], inplace=True)"
   ]
  },
  {
   "cell_type": "code",
   "execution_count": 23,
   "metadata": {},
   "outputs": [],
   "source": [
    "have_reviewed = list(df_user.loc['A9C16P3CZXWS5', 'asin'])"
   ]
  },
  {
   "cell_type": "code",
   "execution_count": 24,
   "metadata": {
    "scrolled": false
   },
   "outputs": [
    {
     "data": {
      "text/plain": [
       "['B00G5Q6MI2', 'B00KVOCLXE', 'B00MQ999AK', 'B00U4F067I', 'B005G3ZB9Q']"
      ]
     },
     "execution_count": 24,
     "metadata": {},
     "output_type": "execute_result"
    }
   ],
   "source": [
    "have_reviewed"
   ]
  },
  {
   "cell_type": "code",
   "execution_count": 40,
   "metadata": {},
   "outputs": [],
   "source": [
    "not_reviewed = df_meta.copy()\n",
    "not_reviewed.drop(have_reviewed, inplace=True)\n",
    "not_reviewed.reset_index(inplace=True)"
   ]
  },
  {
   "cell_type": "code",
   "execution_count": 41,
   "metadata": {},
   "outputs": [],
   "source": [
    "not_reviewed['Est_rating'] = not_reviewed['asin'].apply(lambda x: svd2_model.predict('A9C16P3CZXWS5', x).est)"
   ]
  },
  {
   "cell_type": "code",
   "execution_count": 42,
   "metadata": {},
   "outputs": [
    {
     "data": {
      "text/html": [
       "<div>\n",
       "<style scoped>\n",
       "    .dataframe tbody tr th:only-of-type {\n",
       "        vertical-align: middle;\n",
       "    }\n",
       "\n",
       "    .dataframe tbody tr th {\n",
       "        vertical-align: top;\n",
       "    }\n",
       "\n",
       "    .dataframe thead th {\n",
       "        text-align: right;\n",
       "    }\n",
       "</style>\n",
       "<table border=\"1\" class=\"dataframe\">\n",
       "  <thead>\n",
       "    <tr style=\"text-align: right;\">\n",
       "      <th></th>\n",
       "      <th>asin</th>\n",
       "      <th>title</th>\n",
       "      <th>brand</th>\n",
       "      <th>genre</th>\n",
       "      <th>print_length</th>\n",
       "      <th>word_wise</th>\n",
       "      <th>lending</th>\n",
       "      <th>Est_rating</th>\n",
       "    </tr>\n",
       "  </thead>\n",
       "  <tbody>\n",
       "    <tr>\n",
       "      <th>0</th>\n",
       "      <td>B0012GTZCK</td>\n",
       "      <td>God in the White House</td>\n",
       "      <td>Randall Balmer</td>\n",
       "      <td>History</td>\n",
       "      <td>260.0</td>\n",
       "      <td>1</td>\n",
       "      <td>0</td>\n",
       "      <td>4.719201</td>\n",
       "    </tr>\n",
       "    <tr>\n",
       "      <th>1</th>\n",
       "      <td>B0012LHGJ4</td>\n",
       "      <td>Vingt Mille Lieues sous les mers (French Editi...</td>\n",
       "      <td>Jules Verne</td>\n",
       "      <td>Reference</td>\n",
       "      <td>606.0</td>\n",
       "      <td>0</td>\n",
       "      <td>1</td>\n",
       "      <td>4.957987</td>\n",
       "    </tr>\n",
       "    <tr>\n",
       "      <th>2</th>\n",
       "      <td>B0012RMVH0</td>\n",
       "      <td>Wood-Carving Design and Workmanship - Kindle e...</td>\n",
       "      <td>George Jack</td>\n",
       "      <td>Arts &amp; Photography</td>\n",
       "      <td>310.0</td>\n",
       "      <td>0</td>\n",
       "      <td>0</td>\n",
       "      <td>3.379050</td>\n",
       "    </tr>\n",
       "    <tr>\n",
       "      <th>3</th>\n",
       "      <td>B0012TAD1O</td>\n",
       "      <td>Souls Night (The Vampire Pacts) - Kindle edition</td>\n",
       "      <td>Kallysten</td>\n",
       "      <td>Romance</td>\n",
       "      <td>74.0</td>\n",
       "      <td>1</td>\n",
       "      <td>1</td>\n",
       "      <td>4.841767</td>\n",
       "    </tr>\n",
       "    <tr>\n",
       "      <th>4</th>\n",
       "      <td>B0012U0NKE</td>\n",
       "      <td>The Misplaced Horse (1) eBook</td>\n",
       "      <td>Constance Downes</td>\n",
       "      <td>Comics, Manga &amp; Graphic Novels</td>\n",
       "      <td>444.0</td>\n",
       "      <td>0</td>\n",
       "      <td>1</td>\n",
       "      <td>4.822369</td>\n",
       "    </tr>\n",
       "    <tr>\n",
       "      <th>...</th>\n",
       "      <td>...</td>\n",
       "      <td>...</td>\n",
       "      <td>...</td>\n",
       "      <td>...</td>\n",
       "      <td>...</td>\n",
       "      <td>...</td>\n",
       "      <td>...</td>\n",
       "      <td>...</td>\n",
       "    </tr>\n",
       "    <tr>\n",
       "      <th>93537</th>\n",
       "      <td>B01HJA2D80</td>\n",
       "      <td>B.Oar Guests (Caverns and Creatures) - Kindle ...</td>\n",
       "      <td>Robert Bevan</td>\n",
       "      <td>Humor &amp; Entertainment</td>\n",
       "      <td>38.0</td>\n",
       "      <td>1</td>\n",
       "      <td>1</td>\n",
       "      <td>4.611595</td>\n",
       "    </tr>\n",
       "    <tr>\n",
       "      <th>93538</th>\n",
       "      <td>B01HJBPMQY</td>\n",
       "      <td>Lord of the Jungle: An Erotic Adventure (Jungl...</td>\n",
       "      <td>Sheri Fredricks</td>\n",
       "      <td>Literature &amp; Fiction</td>\n",
       "      <td>56.0</td>\n",
       "      <td>1</td>\n",
       "      <td>1</td>\n",
       "      <td>5.000000</td>\n",
       "    </tr>\n",
       "    <tr>\n",
       "      <th>93539</th>\n",
       "      <td>B01HJBPUWA</td>\n",
       "      <td>Chronicle Worlds</td>\n",
       "      <td>Samuel Peralta</td>\n",
       "      <td>Science Fiction &amp; Fantasy</td>\n",
       "      <td>383.0</td>\n",
       "      <td>1</td>\n",
       "      <td>1</td>\n",
       "      <td>4.939319</td>\n",
       "    </tr>\n",
       "    <tr>\n",
       "      <th>93540</th>\n",
       "      <td>B01HJC63YI</td>\n",
       "      <td>The Gardella Vampire Hunters Starter Set: Vict...</td>\n",
       "      <td>Colleen Gleason</td>\n",
       "      <td>Romance</td>\n",
       "      <td>852.0</td>\n",
       "      <td>1</td>\n",
       "      <td>1</td>\n",
       "      <td>4.947419</td>\n",
       "    </tr>\n",
       "    <tr>\n",
       "      <th>93541</th>\n",
       "      <td>B01HJCNGZ2</td>\n",
       "      <td>The Three Pirate City Cats: Illustrated advent...</td>\n",
       "      <td>John E Dorey</td>\n",
       "      <td>Children's eBooks</td>\n",
       "      <td>42.0</td>\n",
       "      <td>0</td>\n",
       "      <td>1</td>\n",
       "      <td>4.911730</td>\n",
       "    </tr>\n",
       "  </tbody>\n",
       "</table>\n",
       "<p>93542 rows × 8 columns</p>\n",
       "</div>"
      ],
      "text/plain": [
       "             asin                                              title  \\\n",
       "0      B0012GTZCK                             God in the White House   \n",
       "1      B0012LHGJ4  Vingt Mille Lieues sous les mers (French Editi...   \n",
       "2      B0012RMVH0  Wood-Carving Design and Workmanship - Kindle e...   \n",
       "3      B0012TAD1O   Souls Night (The Vampire Pacts) - Kindle edition   \n",
       "4      B0012U0NKE                      The Misplaced Horse (1) eBook   \n",
       "...           ...                                                ...   \n",
       "93537  B01HJA2D80  B.Oar Guests (Caverns and Creatures) - Kindle ...   \n",
       "93538  B01HJBPMQY  Lord of the Jungle: An Erotic Adventure (Jungl...   \n",
       "93539  B01HJBPUWA                                   Chronicle Worlds   \n",
       "93540  B01HJC63YI  The Gardella Vampire Hunters Starter Set: Vict...   \n",
       "93541  B01HJCNGZ2  The Three Pirate City Cats: Illustrated advent...   \n",
       "\n",
       "                    brand                           genre  print_length  \\\n",
       "0          Randall Balmer                         History         260.0   \n",
       "1            Jules Verne                        Reference         606.0   \n",
       "2             George Jack              Arts & Photography         310.0   \n",
       "3              Kallysten                          Romance          74.0   \n",
       "4       Constance Downes   Comics, Manga & Graphic Novels         444.0   \n",
       "...                   ...                             ...           ...   \n",
       "93537       Robert Bevan            Humor & Entertainment          38.0   \n",
       "93538    Sheri Fredricks             Literature & Fiction          56.0   \n",
       "93539     Samuel Peralta        Science Fiction & Fantasy         383.0   \n",
       "93540    Colleen Gleason                          Romance         852.0   \n",
       "93541        John E Dorey               Children's eBooks          42.0   \n",
       "\n",
       "       word_wise  lending  Est_rating  \n",
       "0              1        0    4.719201  \n",
       "1              0        1    4.957987  \n",
       "2              0        0    3.379050  \n",
       "3              1        1    4.841767  \n",
       "4              0        1    4.822369  \n",
       "...          ...      ...         ...  \n",
       "93537          1        1    4.611595  \n",
       "93538          1        1    5.000000  \n",
       "93539          1        1    4.939319  \n",
       "93540          1        1    4.947419  \n",
       "93541          0        1    4.911730  \n",
       "\n",
       "[93542 rows x 8 columns]"
      ]
     },
     "execution_count": 42,
     "metadata": {},
     "output_type": "execute_result"
    }
   ],
   "source": [
    "not_reviewed"
   ]
  },
  {
   "cell_type": "code",
   "execution_count": 26,
   "metadata": {
    "scrolled": true
   },
   "outputs": [
    {
     "name": "stdout",
     "output_type": "stream",
     "text": [
      "<class 'pandas.core.frame.DataFrame'>\n",
      "Index: 93542 entries, B0012GTZCK to B01HJCNGZ2\n",
      "Data columns (total 6 columns):\n",
      " #   Column        Non-Null Count  Dtype  \n",
      "---  ------        --------------  -----  \n",
      " 0   title         93542 non-null  object \n",
      " 1   brand         93542 non-null  object \n",
      " 2   genre         93542 non-null  object \n",
      " 3   print_length  93542 non-null  float64\n",
      " 4   word_wise     93542 non-null  int64  \n",
      " 5   lending       93542 non-null  int64  \n",
      "dtypes: float64(1), int64(2), object(3)\n",
      "memory usage: 5.0+ MB\n"
     ]
    }
   ],
   "source": [
    "not_reviewed.info()"
   ]
  },
  {
   "cell_type": "code",
   "execution_count": null,
   "metadata": {},
   "outputs": [],
   "source": [
    "titles['Estimate_Score'] = titles['Movie_Id'].apply(lambda x: svd.predict(785314, x).est)"
   ]
  },
  {
   "cell_type": "code",
   "execution_count": 70,
   "metadata": {},
   "outputs": [],
   "source": [
    "def User_recommend_books(reviewerID):\n",
    "    have_reviewed = list(df_user.loc[reviewerID, 'asin'])\n",
    "    not_reviewed = df_meta.copy()\n",
    "    not_reviewed.drop(have_reviewed, inplace=True)\n",
    "    not_reviewed.reset_index(inplace=True)\n",
    "    not_reviewed['est_rating'] = not_reviewed['asin'].apply(lambda x: svd2_model.predict('A9C16P3CZXWS5', x).est)\n",
    "    not_reviewed.sort_values(by='est_rating', ascending=False, inplace=True)\n",
    "    return not_reviewed.head(10)"
   ]
  },
  {
   "cell_type": "code",
   "execution_count": 71,
   "metadata": {},
   "outputs": [
    {
     "data": {
      "text/html": [
       "<div>\n",
       "<style scoped>\n",
       "    .dataframe tbody tr th:only-of-type {\n",
       "        vertical-align: middle;\n",
       "    }\n",
       "\n",
       "    .dataframe tbody tr th {\n",
       "        vertical-align: top;\n",
       "    }\n",
       "\n",
       "    .dataframe thead th {\n",
       "        text-align: right;\n",
       "    }\n",
       "</style>\n",
       "<table border=\"1\" class=\"dataframe\">\n",
       "  <thead>\n",
       "    <tr style=\"text-align: right;\">\n",
       "      <th></th>\n",
       "      <th>asin</th>\n",
       "      <th>title</th>\n",
       "      <th>brand</th>\n",
       "      <th>genre</th>\n",
       "      <th>print_length</th>\n",
       "      <th>word_wise</th>\n",
       "      <th>lending</th>\n",
       "      <th>est_rating</th>\n",
       "    </tr>\n",
       "  </thead>\n",
       "  <tbody>\n",
       "    <tr>\n",
       "      <th>55159</th>\n",
       "      <td>B00QEGRSL8</td>\n",
       "      <td>A Knight&amp;#39;s Christmas Wish: A Medieval Nove...</td>\n",
       "      <td>Lana Williams</td>\n",
       "      <td>Romance</td>\n",
       "      <td>116.0</td>\n",
       "      <td>1</td>\n",
       "      <td>1</td>\n",
       "      <td>5.0</td>\n",
       "    </tr>\n",
       "    <tr>\n",
       "      <th>26535</th>\n",
       "      <td>B00EWSKX8K</td>\n",
       "      <td>The Essential Dickens: A Tale of Two Cities, A...</td>\n",
       "      <td>Charles Dickens</td>\n",
       "      <td>Literature &amp; Fiction</td>\n",
       "      <td>3486.0</td>\n",
       "      <td>1</td>\n",
       "      <td>1</td>\n",
       "      <td>5.0</td>\n",
       "    </tr>\n",
       "    <tr>\n",
       "      <th>23312</th>\n",
       "      <td>B00DLJPM9G</td>\n",
       "      <td>Killing Bliss: The Bliss Legacy - Book 1 - Kin...</td>\n",
       "      <td>EC Sheedy</td>\n",
       "      <td>Mystery, Thriller &amp; Suspense</td>\n",
       "      <td>272.0</td>\n",
       "      <td>1</td>\n",
       "      <td>1</td>\n",
       "      <td>5.0</td>\n",
       "    </tr>\n",
       "    <tr>\n",
       "      <th>32611</th>\n",
       "      <td>B00HE37QX0</td>\n",
       "      <td>Blood, Fire, and Thorn (Harbinger of Doom - V...</td>\n",
       "      <td>Glenn G. Thater</td>\n",
       "      <td>Literature &amp; Fiction</td>\n",
       "      <td>290.0</td>\n",
       "      <td>1</td>\n",
       "      <td>1</td>\n",
       "      <td>5.0</td>\n",
       "    </tr>\n",
       "    <tr>\n",
       "      <th>72109</th>\n",
       "      <td>B013PWN2Q8</td>\n",
       "      <td>Amish Country Tours 2 (Amish Country Tours, Am...</td>\n",
       "      <td>Rachel Stoltzfus</td>\n",
       "      <td>Religion &amp; Spirituality</td>\n",
       "      <td>187.0</td>\n",
       "      <td>1</td>\n",
       "      <td>1</td>\n",
       "      <td>5.0</td>\n",
       "    </tr>\n",
       "    <tr>\n",
       "      <th>21048</th>\n",
       "      <td>B00CNQ7HLO</td>\n",
       "      <td>Paladins of Shannara: The Black Irix (Short St...</td>\n",
       "      <td>Terry Brooks</td>\n",
       "      <td>Literature &amp; Fiction</td>\n",
       "      <td>44.0</td>\n",
       "      <td>1</td>\n",
       "      <td>0</td>\n",
       "      <td>5.0</td>\n",
       "    </tr>\n",
       "    <tr>\n",
       "      <th>32606</th>\n",
       "      <td>B00HE0FPFE</td>\n",
       "      <td>Santa and the Border Collie - Kindle edition</td>\n",
       "      <td>Angelo Dirks</td>\n",
       "      <td>Literature &amp; Fiction</td>\n",
       "      <td>20.0</td>\n",
       "      <td>1</td>\n",
       "      <td>1</td>\n",
       "      <td>5.0</td>\n",
       "    </tr>\n",
       "    <tr>\n",
       "      <th>89064</th>\n",
       "      <td>B01ENNZCQQ</td>\n",
       "      <td>Loose Lips: Dusty Deals Mystery Series: Book 5...</td>\n",
       "      <td>Rae Davies</td>\n",
       "      <td>Mystery, Thriller &amp; Suspense</td>\n",
       "      <td>220.0</td>\n",
       "      <td>1</td>\n",
       "      <td>1</td>\n",
       "      <td>5.0</td>\n",
       "    </tr>\n",
       "    <tr>\n",
       "      <th>3848</th>\n",
       "      <td>B005ES9MHU</td>\n",
       "      <td>Unruly Magic (Stella Mayweather Series Book 2...</td>\n",
       "      <td>Camilla Chafer</td>\n",
       "      <td>Science Fiction &amp; Fantasy</td>\n",
       "      <td>354.0</td>\n",
       "      <td>1</td>\n",
       "      <td>1</td>\n",
       "      <td>5.0</td>\n",
       "    </tr>\n",
       "    <tr>\n",
       "      <th>38382</th>\n",
       "      <td>B00J9KEBFC</td>\n",
       "      <td>Trumpet&amp;#39;s Song (Book 3 of The Eden Projec...</td>\n",
       "      <td>DP Fitzsimons</td>\n",
       "      <td>Science Fiction &amp; Fantasy</td>\n",
       "      <td>268.0</td>\n",
       "      <td>1</td>\n",
       "      <td>1</td>\n",
       "      <td>5.0</td>\n",
       "    </tr>\n",
       "  </tbody>\n",
       "</table>\n",
       "</div>"
      ],
      "text/plain": [
       "             asin                                              title  \\\n",
       "55159  B00QEGRSL8  A Knight&#39;s Christmas Wish: A Medieval Nove...   \n",
       "26535  B00EWSKX8K  The Essential Dickens: A Tale of Two Cities, A...   \n",
       "23312  B00DLJPM9G  Killing Bliss: The Bliss Legacy - Book 1 - Kin...   \n",
       "32611  B00HE37QX0   Blood, Fire, and Thorn (Harbinger of Doom - V...   \n",
       "72109  B013PWN2Q8  Amish Country Tours 2 (Amish Country Tours, Am...   \n",
       "21048  B00CNQ7HLO  Paladins of Shannara: The Black Irix (Short St...   \n",
       "32606  B00HE0FPFE       Santa and the Border Collie - Kindle edition   \n",
       "89064  B01ENNZCQQ  Loose Lips: Dusty Deals Mystery Series: Book 5...   \n",
       "3848   B005ES9MHU   Unruly Magic (Stella Mayweather Series Book 2...   \n",
       "38382  B00J9KEBFC   Trumpet&#39;s Song (Book 3 of The Eden Projec...   \n",
       "\n",
       "                    brand                         genre  print_length  \\\n",
       "55159      Lana Williams                        Romance         116.0   \n",
       "26535     Charles Dickens          Literature & Fiction        3486.0   \n",
       "23312          EC Sheedy   Mystery, Thriller & Suspense         272.0   \n",
       "32611    Glenn G. Thater           Literature & Fiction         290.0   \n",
       "72109   Rachel Stoltzfus        Religion & Spirituality         187.0   \n",
       "21048       Terry Brooks           Literature & Fiction          44.0   \n",
       "32606        Angelo Dirks          Literature & Fiction          20.0   \n",
       "89064          Rae Davies  Mystery, Thriller & Suspense         220.0   \n",
       "3848      Camilla Chafer      Science Fiction & Fantasy         354.0   \n",
       "38382      DP Fitzsimons      Science Fiction & Fantasy         268.0   \n",
       "\n",
       "       word_wise  lending  est_rating  \n",
       "55159          1        1         5.0  \n",
       "26535          1        1         5.0  \n",
       "23312          1        1         5.0  \n",
       "32611          1        1         5.0  \n",
       "72109          1        1         5.0  \n",
       "21048          1        0         5.0  \n",
       "32606          1        1         5.0  \n",
       "89064          1        1         5.0  \n",
       "3848           1        1         5.0  \n",
       "38382          1        1         5.0  "
      ]
     },
     "execution_count": 71,
     "metadata": {},
     "output_type": "execute_result"
    }
   ],
   "source": [
    "User_recommend_books('A3IQ0P3M39IY8U')"
   ]
  },
  {
   "cell_type": "code",
   "execution_count": null,
   "metadata": {},
   "outputs": [],
   "source": []
  }
 ],
 "metadata": {
  "kernelspec": {
   "display_name": "Python (learn-env)",
   "language": "python",
   "name": "learn-env"
  },
  "language_info": {
   "codemirror_mode": {
    "name": "ipython",
    "version": 3
   },
   "file_extension": ".py",
   "mimetype": "text/x-python",
   "name": "python",
   "nbconvert_exporter": "python",
   "pygments_lexer": "ipython3",
   "version": "3.8.5"
  }
 },
 "nbformat": 4,
 "nbformat_minor": 4
}
