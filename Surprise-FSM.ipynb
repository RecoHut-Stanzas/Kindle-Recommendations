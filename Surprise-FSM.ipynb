{
 "cells": [
  {
   "cell_type": "code",
   "execution_count": 1,
   "metadata": {},
   "outputs": [],
   "source": [
    "import pandas as pd\n",
    "from surprise import Dataset, Reader, accuracy\n",
    "from surprise.model_selection import cross_validate, train_test_split, GridSearchCV\n",
    "from surprise.prediction_algorithms import knns, SVD, SVDpp, SlopeOne, NMF, BaselineOnly, NormalPredictor\n",
    "from surprise.similarities import cosine, msd, pearson, pearson_baseline"
   ]
  },
  {
   "cell_type": "code",
   "execution_count": 2,
   "metadata": {},
   "outputs": [],
   "source": [
    "df_rev5 = pd.read_csv('Data/df_rev5.csv')"
   ]
  },
  {
   "cell_type": "code",
   "execution_count": 3,
   "metadata": {},
   "outputs": [
    {
     "name": "stdout",
     "output_type": "stream",
     "text": [
      "<class 'pandas.core.frame.DataFrame'>\n",
      "RangeIndex: 1302158 entries, 0 to 1302157\n",
      "Data columns (total 7 columns):\n",
      " #   Column      Non-Null Count    Dtype \n",
      "---  ------      --------------    ----- \n",
      " 0   Unnamed: 0  1302158 non-null  int64 \n",
      " 1   overall     1302158 non-null  int64 \n",
      " 2   reviewTime  1302158 non-null  object\n",
      " 3   reviewerID  1302158 non-null  object\n",
      " 4   asin        1302158 non-null  object\n",
      " 5   reviewText  1302158 non-null  object\n",
      " 6   summary     1302158 non-null  object\n",
      "dtypes: int64(2), object(5)\n",
      "memory usage: 69.5+ MB\n"
     ]
    }
   ],
   "source": [
    "df_rev5.info()"
   ]
  },
  {
   "cell_type": "code",
   "execution_count": 4,
   "metadata": {},
   "outputs": [],
   "source": [
    "reader = Reader(rating_scale=(1, 5))\n",
    "user_data = Dataset.load_from_df(df_rev5[['reviewerID', 'asin', 'overall']], reader)\n",
    "\n",
    "trainset, testset = train_test_split(user_data, test_size=0.2)"
   ]
  },
  {
   "cell_type": "code",
   "execution_count": 5,
   "metadata": {
    "scrolled": true
   },
   "outputs": [
    {
     "name": "stdout",
     "output_type": "stream",
     "text": [
      "Number of users:  97579 \n",
      "\n",
      "Number of items:  92243 \n",
      "\n"
     ]
    }
   ],
   "source": [
    "print('Number of users: ', trainset.n_users, '\\n')\n",
    "print('Number of items: ', trainset.n_items, '\\n')"
   ]
  },
  {
   "cell_type": "code",
   "execution_count": 6,
   "metadata": {},
   "outputs": [
    {
     "name": "stdout",
     "output_type": "stream",
     "text": [
      "RMSE: 1.2374\n",
      "1.2373692786073656\n"
     ]
    }
   ],
   "source": [
    "baseline = NormalPredictor()\n",
    "baseline.fit(trainset)\n",
    "predictions = baseline.test(testset)\n",
    "print(accuracy.rmse(predictions))"
   ]
  },
  {
   "cell_type": "code",
   "execution_count": 7,
   "metadata": {},
   "outputs": [
    {
     "name": "stdout",
     "output_type": "stream",
     "text": [
      "Estimating biases using als...\n",
      "RMSE: 0.8170\n",
      "0.8169873584553434\n"
     ]
    }
   ],
   "source": [
    "baseline2 = BaselineOnly()\n",
    "baseline2.fit(trainset)\n",
    "predictions = baseline2.test(testset)\n",
    "print(accuracy.rmse(predictions))"
   ]
  },
  {
   "cell_type": "code",
   "execution_count": null,
   "metadata": {},
   "outputs": [],
   "source": [
    "#sim_cos = {'name':'cosine', 'user_based':True}\n",
    "#basic = knns.KNNBasic(k=137, sim_options=sim_cos)\n",
    "#basic.fit(trainset)\n",
    "#predictions = basic.test(testset)\n",
    "#print(accuracy.rmse(predictions))"
   ]
  },
  {
   "cell_type": "code",
   "execution_count": null,
   "metadata": {},
   "outputs": [],
   "source": [
    "#sim_pearson = {'name':'pearson', 'user_based':True}\n",
    "#basic_pearson = knns.KNNBasic(sim_options=sim_pearson)\n",
    "#basic_pearson.fit(trainset)\n",
    "#predictions = basic_pearson.test(testset)\n",
    "#print(accuracy.rmse(predictions))"
   ]
  },
  {
   "cell_type": "code",
   "execution_count": null,
   "metadata": {},
   "outputs": [],
   "source": [
    "#sim_pearson = {'name':'pearson', 'user_based':False}\n",
    "#basic_pearson = knns.KNNBasic(sim_options=sim_pearson)\n",
    "#basic_pearson.fit(trainset)\n",
    "#predictions = basic_pearson.test(testset)\n",
    "#print(accuracy.rmse(predictions))"
   ]
  },
  {
   "cell_type": "code",
   "execution_count": null,
   "metadata": {
    "scrolled": true
   },
   "outputs": [],
   "source": [
    "#sim_pearson = {'name':'pearson', 'user_based':True}\n",
    "#knn_baseline = knns.KNNBaseline(sim_options=sim_pearson)\n",
    "#knn_baseline.fit(trainset)\n",
    "#predictions = knn_baseline.test(testset)\n",
    "#print(accuracy.rmse(predictions))"
   ]
  },
  {
   "cell_type": "code",
   "execution_count": null,
   "metadata": {
    "scrolled": true
   },
   "outputs": [],
   "source": [
    "#sim_pearson = {'name':'pearson', 'user_based':False}\n",
    "#knn_baseline = knns.KNNBaseline(sim_options=sim_pearson)\n",
    "#knn_baseline.fit(trainset)\n",
    "#predictions = knn_baseline.test(testset)\n",
    "#print(accuracy.rmse(predictions))"
   ]
  },
  {
   "cell_type": "code",
   "execution_count": 8,
   "metadata": {
    "scrolled": true
   },
   "outputs": [
    {
     "name": "stdout",
     "output_type": "stream",
     "text": [
      "Evaluating RMSE of algorithm SVD on 3 split(s).\n",
      "\n",
      "                  Fold 1  Fold 2  Fold 3  Mean    Std     \n",
      "RMSE (testset)    0.8143  0.8125  0.8148  0.8139  0.0010  \n",
      "Fit time          47.00   46.97   46.89   46.96   0.05    \n",
      "Test time         4.30    4.35    4.32    4.32    0.02    \n"
     ]
    }
   ],
   "source": [
    "svd_basic = SVD(random_state=42)\n",
    "results = cross_validate(svd_basic, user_data, measures=['RMSE'], cv=3, n_jobs = -1, verbose=True)"
   ]
  },
  {
   "cell_type": "code",
   "execution_count": 9,
   "metadata": {
    "scrolled": true
   },
   "outputs": [
    {
     "data": {
      "text/plain": [
       "{'test_rmse': array([0.81434042, 0.81251521, 0.81482168]),\n",
       " 'fit_time': (47.004764556884766, 46.96912717819214, 46.894792795181274),\n",
       " 'test_time': (4.2997822761535645, 4.349027156829834, 4.315605163574219)}"
      ]
     },
     "execution_count": 9,
     "metadata": {},
     "output_type": "execute_result"
    }
   ],
   "source": [
    "results"
   ]
  },
  {
   "cell_type": "code",
   "execution_count": 10,
   "metadata": {},
   "outputs": [
    {
     "name": "stdout",
     "output_type": "stream",
     "text": [
      "RMSE: 0.8049\n",
      "0.8048894875115972\n"
     ]
    }
   ],
   "source": [
    "svd_basic.fit(trainset)\n",
    "predictions = svd_basic.test(testset)\n",
    "print(accuracy.rmse(predictions))"
   ]
  },
  {
   "cell_type": "code",
   "execution_count": null,
   "metadata": {},
   "outputs": [],
   "source": [
    "svd_param_grid = {'n_factors':[20, 40, 60, 80, 100],\n",
    "                  'n_epochs': [10, 20], \n",
    "                  'lr_all': [0.002, 0.005],\n",
    "                  'reg_all': [0.2 ,0.4, 0.6],\n",
    "                  'biased': [True, False]}\n",
    "svd_gs_model = GridSearchCV(SVD,param_grid=svd_param_grid,joblib_verbose=5,cv=3)\n",
    "svd_gs_model.fit(user_data)\n",
    "svd_gs_model.best_params['rmse']"
   ]
  },
  {
   "cell_type": "code",
   "execution_count": null,
   "metadata": {},
   "outputs": [],
   "source": [
    "svd_model = SVD(n_factors=20, n_epochs=20, lr_all=.005, reg_all=0.2)\n",
    "svd_model.fit(trainset)\n",
    "predictions = svd_model.test(testset)\n",
    "print(accuracy.rmse(predictions))"
   ]
  },
  {
   "cell_type": "code",
   "execution_count": null,
   "metadata": {},
   "outputs": [],
   "source": [
    "SVD_param_grid2 = {'n_factors':[5, 10, 20],\n",
    "                  'n_epochs': [20, 30, 40], \n",
    "                  'lr_all': [0.5, 0.05, .005],\n",
    "                  'reg_all': [0.1, 0.2]}\n",
    "SVD_GS2_model = GridSearchCV(SVD,param_grid=SVD_param_grid2,joblib_verbose=5)"
   ]
  },
  {
   "cell_type": "code",
   "execution_count": null,
   "metadata": {
    "scrolled": true
   },
   "outputs": [],
   "source": [
    "SVD_GS2_model.fit(user_data)"
   ]
  },
  {
   "cell_type": "code",
   "execution_count": null,
   "metadata": {},
   "outputs": [],
   "source": [
    "SVD_GS2_model.best_params['rmse']"
   ]
  },
  {
   "cell_type": "code",
   "execution_count": null,
   "metadata": {},
   "outputs": [],
   "source": [
    "svd2_model = SVD(n_factors=5, n_epochs=40, lr_all=0.005, reg_all=0.1, random_state=42)\n",
    "svd2_model.fit(trainset)\n",
    "predictions = svd2_model.test(testset)\n",
    "print(accuracy.rmse(predictions))"
   ]
  },
  {
   "cell_type": "code",
   "execution_count": null,
   "metadata": {},
   "outputs": [],
   "source": []
  }
 ],
 "metadata": {
  "kernelspec": {
   "display_name": "Python (learn-env)",
   "language": "python",
   "name": "learn-env"
  },
  "language_info": {
   "codemirror_mode": {
    "name": "ipython",
    "version": 3
   },
   "file_extension": ".py",
   "mimetype": "text/x-python",
   "name": "python",
   "nbconvert_exporter": "python",
   "pygments_lexer": "ipython3",
   "version": "3.8.5"
  }
 },
 "nbformat": 4,
 "nbformat_minor": 4
}
